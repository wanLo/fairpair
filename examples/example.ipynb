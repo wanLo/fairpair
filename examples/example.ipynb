{
 "cells": [
  {
   "attachments": {},
   "cell_type": "markdown",
   "metadata": {},
   "source": [
    "# FairPair Demo"
   ]
  },
  {
   "cell_type": "code",
   "execution_count": 1,
   "metadata": {},
   "outputs": [],
   "source": [
    "import numpy as np\n",
    "import networkx as nx\n",
    "import matplotlib as plt\n",
    "\n",
    "from fairpair import *"
   ]
  },
  {
   "attachments": {},
   "cell_type": "markdown",
   "metadata": {},
   "source": [
    "## Create graph with labeled nodes"
   ]
  },
  {
   "cell_type": "code",
   "execution_count": 2,
   "metadata": {},
   "outputs": [
    {
     "name": "stdout",
     "output_type": "stream",
     "text": [
      "{'unpriv': False}\n",
      "{'unpriv': False}\n",
      "{'unpriv': True}\n",
      "{'unpriv': True}\n",
      "{'unpriv': True}\n"
     ]
    }
   ],
   "source": [
    "# Initialize the graph with nodes labeled \"privileged\" or \"unprivileged\"\n",
    "G = FairPairGraph()\n",
    "G.generate_groups(400, 200)\n",
    "\n",
    "for i in range(198, 203):\n",
    "    print(G.nodes(data=True)[i])"
   ]
  },
  {
   "cell_type": "code",
   "execution_count": 3,
   "metadata": {},
   "outputs": [
    {
     "name": "stdout",
     "output_type": "stream",
     "text": [
      "{'unpriv': True}\n",
      "{'unpriv': False}\n",
      "{'unpriv': True}\n",
      "{'unpriv': True}\n",
      "{'unpriv': True}\n"
     ]
    }
   ],
   "source": [
    "# Add randomization to the group label attribution\n",
    "G = FairPairGraph()\n",
    "G.add_nodes_from(np.arange(500))\n",
    "G.label_unpriv(200, random=True)\n",
    "\n",
    "for i in range(5):\n",
    "    print(G.nodes(data=True)[i])"
   ]
  },
  {
   "cell_type": "code",
   "execution_count": 4,
   "metadata": {},
   "outputs": [
    {
     "data": {
      "text/plain": [
       "<fairpair.fairgraph.FairPairGraph at 0x7fbcb9f858d0>"
      ]
     },
     "execution_count": 4,
     "metadata": {},
     "output_type": "execute_result"
    }
   ],
   "source": [
    "# Access the unprivileged group's subgraph (read-only)\n",
    "G.unpriv"
   ]
  },
  {
   "cell_type": "code",
   "execution_count": 5,
   "metadata": {},
   "outputs": [
    {
     "data": {
      "text/plain": [
       "[1, 6, 9, 10, 11, 12, 13, 14, 18, 19, 20, 23, 24, 26, 27, 28, 29, 31, 32, 34]"
      ]
     },
     "execution_count": 5,
     "metadata": {},
     "output_type": "execute_result"
    }
   ],
   "source": [
    "# Access the privileged nodes\n",
    "G.priv_nodes[:20]"
   ]
  },
  {
   "attachments": {},
   "cell_type": "markdown",
   "metadata": {},
   "source": [
    "## Assign scores per group"
   ]
  },
  {
   "cell_type": "code",
   "execution_count": 6,
   "metadata": {},
   "outputs": [
    {
     "data": {
      "text/plain": [
       "{'unpriv': False, 'score': 0.27023096623642523}"
      ]
     },
     "execution_count": 6,
     "metadata": {},
     "output_type": "execute_result"
    }
   ],
   "source": [
    "# Assign scores to the privileged and unprivileged group respectively\n",
    "G.group_assign_scores(nodes=G.priv_nodes, distr=Distributions.normal_distr)\n",
    "G.group_assign_scores(nodes=G.unpriv_nodes, distr=Distributions.normal_distr, loc=-0.4) # give a disadvantage to the unprivileged group\n",
    "G.nodes(data=True)[11]"
   ]
  },
  {
   "cell_type": "code",
   "execution_count": 7,
   "metadata": {},
   "outputs": [
    {
     "data": {
      "text/plain": [
       "{'unpriv': False, 'score': 1.6121937633001542, 'skill': 1.6121937633001542}"
      ]
     },
     "execution_count": 7,
     "metadata": {},
     "output_type": "execute_result"
    }
   ],
   "source": [
    "# Alternatively, we can keep book of skill scores and perceived scores separately\n",
    "G.assign_skills() # assigns skills from a standard normal distribution by default\n",
    "G.assign_bias(nodes=G.unpriv_nodes, loc=-0.5, scale=0.5) # custom parameters for the bias distribution\n",
    "G.nodes(data=True)[11]"
   ]
  },
  {
   "attachments": {},
   "cell_type": "markdown",
   "metadata": {},
   "source": [
    "## Compare Pairs"
   ]
  },
  {
   "cell_type": "code",
   "execution_count": 8,
   "metadata": {},
   "outputs": [
    {
     "name": "stdout",
     "output_type": "stream",
     "text": [
      "perceived score of node 1: -0.28374654841971775\n",
      "perceived score of node 5: -0.9140838909084712\n",
      "edges in G before the comparison:\n",
      "  []\n",
      "edges in G after the comparison:\n",
      "  [(1, 5, {'wins': 10, 'weight': 0.3333333333333333}), (5, 1, {'wins': 20, 'weight': 0.6666666666666667})]\n",
      "edges in G after some more comparisons:\n",
      "  [(1, 5, {'wins': 20, 'weight': 0.3333333333333333}), (5, 1, {'wins': 40, 'weight': 0.6666666666666667})]\n"
     ]
    }
   ],
   "source": [
    "# Compare pairs using the BTL-model\n",
    "print('perceived score of node 1:', G.nodes[1]['score'])\n",
    "print('perceived score of node 5:', G.nodes[5]['score'])\n",
    "print('edges in G before the comparison:\\n ', G.edges(data=True))\n",
    "G.compare_pair_exp(1, 5, k=30)  # use the exponential version of the BTL model (i.e., the softmax function)\n",
    "print('edges in G after the comparison:\\n ', G.edges(data=True))\n",
    "G.compare_pair_exp(1, 5, k=30)  # use the exponential version of the BTL model (i.e., the softmax function)\n",
    "print('edges in G after some more comparisons:\\n ', G.edges(data=True))"
   ]
  },
  {
   "attachments": {},
   "cell_type": "markdown",
   "metadata": {},
   "source": [
    "## Random Sampling\n",
    "For a comparison of sampling techniques, see also [sampling.ipynb](./sampling.ipynb)."
   ]
  },
  {
   "cell_type": "code",
   "execution_count": 9,
   "metadata": {},
   "outputs": [],
   "source": [
    "# Generate a new Graph to test random sampling\n",
    "G = FairPairGraph()\n",
    "G.generate_groups(20, 5)\n",
    "G.assign_skills()\n",
    "G.assign_bias(nodes=G.unpriv_nodes, loc=-0.5, scale=0.5)"
   ]
  },
  {
   "cell_type": "code",
   "execution_count": 10,
   "metadata": {},
   "outputs": [
    {
     "name": "stdout",
     "output_type": "stream",
     "text": [
      "unprivileged group success rate: 0.56\n",
      "privileged group rate: 0.5\n"
     ]
    }
   ],
   "source": [
    "# Initialize random sampling\n",
    "sampling = RandomSampling(G)\n",
    "# Apply random sampling\n",
    "sampling.apply(iter = 30)\n",
    "print('unprivileged group success rate:', round(np.mean([rate for node, rate in G.unpriv.success_rates]), 2))\n",
    "print('privileged group rate:', round(np.mean([rate for node, rate in G.priv.success_rates]), 2))"
   ]
  },
  {
   "cell_type": "code",
   "execution_count": 11,
   "metadata": {},
   "outputs": [
    {
     "data": {
      "image/png": "[encoded data removed]",
      "text/plain": [
       "<Figure size 640x480 with 1 Axes>"
      ]
     },
     "metadata": {},
     "output_type": "display_data"
    }
   ],
   "source": [
    "# Visualize the randomly sampled comparison graph\n",
    "pos=nx.drawing.layout.spring_layout(G)\n",
    "colors = ['red' if node[1]['unpriv'] else 'blue' for node in G.nodes(data=True)]\n",
    "edges,weights = zip(*nx.get_edge_attributes(G,'weight').items())\n",
    "nx.drawing.nx_pylab.draw_networkx(G, pos, node_color=colors, with_labels=False, node_size=50, edge_color=weights, width=2, edge_cmap=plt.cm.Blues)"
   ]
  },
  {
   "cell_type": "markdown",
   "metadata": {},
   "source": [
    "## Ranking Recovery"
   ]
  },
  {
   "cell_type": "code",
   "execution_count": 12,
   "metadata": {},
   "outputs": [
    {
     "data": {
      "text/html": [
       "<div>\n",
       "<style scoped>\n",
       "    .dataframe tbody tr th:only-of-type {\n",
       "        vertical-align: middle;\n",
       "    }\n",
       "\n",
       "    .dataframe tbody tr th {\n",
       "        vertical-align: top;\n",
       "    }\n",
       "\n",
       "    .dataframe thead th {\n",
       "        text-align: right;\n",
       "    }\n",
       "</style>\n",
       "<table border=\"1\" class=\"dataframe\">\n",
       "  <thead>\n",
       "    <tr style=\"text-align: right;\">\n",
       "      <th></th>\n",
       "      <th>node</th>\n",
       "      <th>perceived score</th>\n",
       "      <th>rank score</th>\n",
       "    </tr>\n",
       "  </thead>\n",
       "  <tbody>\n",
       "    <tr>\n",
       "      <th>0</th>\n",
       "      <td>4</td>\n",
       "      <td>1.241165</td>\n",
       "      <td>0.246915</td>\n",
       "    </tr>\n",
       "    <tr>\n",
       "      <th>1</th>\n",
       "      <td>18</td>\n",
       "      <td>0.085768</td>\n",
       "      <td>0.244437</td>\n",
       "    </tr>\n",
       "    <tr>\n",
       "      <th>2</th>\n",
       "      <td>11</td>\n",
       "      <td>0.453292</td>\n",
       "      <td>0.242544</td>\n",
       "    </tr>\n",
       "    <tr>\n",
       "      <th>3</th>\n",
       "      <td>1</td>\n",
       "      <td>0.162861</td>\n",
       "      <td>0.242040</td>\n",
       "    </tr>\n",
       "    <tr>\n",
       "      <th>4</th>\n",
       "      <td>2</td>\n",
       "      <td>0.195018</td>\n",
       "      <td>0.239467</td>\n",
       "    </tr>\n",
       "    <tr>\n",
       "      <th>5</th>\n",
       "      <td>5</td>\n",
       "      <td>0.573171</td>\n",
       "      <td>0.238879</td>\n",
       "    </tr>\n",
       "    <tr>\n",
       "      <th>6</th>\n",
       "      <td>7</td>\n",
       "      <td>0.760203</td>\n",
       "      <td>0.238742</td>\n",
       "    </tr>\n",
       "    <tr>\n",
       "      <th>7</th>\n",
       "      <td>17</td>\n",
       "      <td>0.330377</td>\n",
       "      <td>0.237891</td>\n",
       "    </tr>\n",
       "    <tr>\n",
       "      <th>8</th>\n",
       "      <td>14</td>\n",
       "      <td>-0.145957</td>\n",
       "      <td>0.229857</td>\n",
       "    </tr>\n",
       "    <tr>\n",
       "      <th>9</th>\n",
       "      <td>9</td>\n",
       "      <td>0.250871</td>\n",
       "      <td>0.227637</td>\n",
       "    </tr>\n",
       "    <tr>\n",
       "      <th>10</th>\n",
       "      <td>0</td>\n",
       "      <td>0.264706</td>\n",
       "      <td>0.219784</td>\n",
       "    </tr>\n",
       "    <tr>\n",
       "      <th>11</th>\n",
       "      <td>13</td>\n",
       "      <td>-0.597338</td>\n",
       "      <td>0.218318</td>\n",
       "    </tr>\n",
       "    <tr>\n",
       "      <th>12</th>\n",
       "      <td>3</td>\n",
       "      <td>-0.578431</td>\n",
       "      <td>0.212353</td>\n",
       "    </tr>\n",
       "    <tr>\n",
       "      <th>13</th>\n",
       "      <td>12</td>\n",
       "      <td>-0.585585</td>\n",
       "      <td>0.209495</td>\n",
       "    </tr>\n",
       "    <tr>\n",
       "      <th>14</th>\n",
       "      <td>16</td>\n",
       "      <td>-0.607356</td>\n",
       "      <td>0.207242</td>\n",
       "    </tr>\n",
       "    <tr>\n",
       "      <th>15</th>\n",
       "      <td>8</td>\n",
       "      <td>-0.472090</td>\n",
       "      <td>0.207070</td>\n",
       "    </tr>\n",
       "    <tr>\n",
       "      <th>16</th>\n",
       "      <td>10</td>\n",
       "      <td>-0.913818</td>\n",
       "      <td>0.204741</td>\n",
       "    </tr>\n",
       "    <tr>\n",
       "      <th>17</th>\n",
       "      <td>6</td>\n",
       "      <td>-0.847154</td>\n",
       "      <td>0.200479</td>\n",
       "    </tr>\n",
       "    <tr>\n",
       "      <th>18</th>\n",
       "      <td>15</td>\n",
       "      <td>-0.332308</td>\n",
       "      <td>0.198692</td>\n",
       "    </tr>\n",
       "    <tr>\n",
       "      <th>19</th>\n",
       "      <td>19</td>\n",
       "      <td>-1.083183</td>\n",
       "      <td>0.191979</td>\n",
       "    </tr>\n",
       "  </tbody>\n",
       "</table>\n",
       "</div>"
      ],
      "text/plain": [
       "    node  perceived score  rank score\n",
       "0      4         1.241165    0.246915\n",
       "1     18         0.085768    0.244437\n",
       "2     11         0.453292    0.242544\n",
       "3      1         0.162861    0.242040\n",
       "4      2         0.195018    0.239467\n",
       "5      5         0.573171    0.238879\n",
       "6      7         0.760203    0.238742\n",
       "7     17         0.330377    0.237891\n",
       "8     14        -0.145957    0.229857\n",
       "9      9         0.250871    0.227637\n",
       "10     0         0.264706    0.219784\n",
       "11    13        -0.597338    0.218318\n",
       "12     3        -0.578431    0.212353\n",
       "13    12        -0.585585    0.209495\n",
       "14    16        -0.607356    0.207242\n",
       "15     8        -0.472090    0.207070\n",
       "16    10        -0.913818    0.204741\n",
       "17     6        -0.847154    0.200479\n",
       "18    15        -0.332308    0.198692\n",
       "19    19        -1.083183    0.191979"
      ]
     },
     "execution_count": 12,
     "metadata": {},
     "output_type": "execute_result"
    }
   ],
   "source": [
    "# Initialize ranking recovery\n",
    "ranker = RankRecovery(G)\n",
    "# Apply a ranking recovery algorithm\n",
    "ranking,_ = ranker.apply() # by default, apply the RankCentrality recovery method\n",
    "ranker._print_with_score(ranking) # print the ranked nodes, sorted by rank score"
   ]
  },
  {
   "cell_type": "code",
   "execution_count": 13,
   "metadata": {},
   "outputs": [
    {
     "name": "stdout",
     "output_type": "stream",
     "text": [
      "Overall error: 0.259760877265157\n",
      "Privileged group's error: 0.25908459590113264\n",
      "Unprivileged group's error: 0.35145308504387224\n",
      "Privileged group's exposure: 0.35898835264730755\n",
      "Unprivileged group's exposure: 0.3310886184427797\n"
     ]
    }
   ],
   "source": [
    "# Evaluate the recovered ranking\n",
    "print('Overall error:', weighted_tau(G, ranking))\n",
    "print('Privileged group\\'s error:', weighted_tau(G, ranking, G.priv))\n",
    "print('Unprivileged group\\'s error:', weighted_tau(G, ranking, G.unpriv))\n",
    "print('Privileged group\\'s exposure:', exposure(G, ranking, G.priv))\n",
    "print('Unprivileged group\\'s exposure:', exposure(G, ranking, G.unpriv))"
   ]
  }
 ],
 "metadata": {
  "kernelspec": {
   "display_name": "Python 3",
   "language": "python",
   "name": "python3"
  },
  "language_info": {
   "codemirror_mode": {
    "name": "ipython",
    "version": 3
   },
   "file_extension": ".py",
   "mimetype": "text/x-python",
   "name": "python",
   "nbconvert_exporter": "python",
   "pygments_lexer": "ipython3",
   "version": "3.11.5"
  },
  "orig_nbformat": 4
 },
 "nbformat": 4,
 "nbformat_minor": 2
}
