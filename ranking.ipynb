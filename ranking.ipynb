{
 "cells": [
  {
   "attachments": {},
   "cell_type": "markdown",
   "metadata": {},
   "source": [
    "# Apply Ranking Recovery Algorithms"
   ]
  },
  {
   "cell_type": "code",
   "execution_count": 1,
   "metadata": {},
   "outputs": [],
   "source": [
    "import pandas as pd\n",
    "import seaborn as sns\n",
    "\n",
    "from fairpair import *"
   ]
  },
  {
   "cell_type": "code",
   "execution_count": 2,
   "metadata": {},
   "outputs": [],
   "source": [
    "# create a FairPairGraph with disadvantaged minority\n",
    "G = FairPairGraph()\n",
    "G.generate_groups(15, 5)\n",
    "G.group_assign_scores(nodes=G.majority_nodes, distr=Distributions.normal_distr)\n",
    "G.group_assign_scores(nodes=G.minority_nodes, distr=Distributions.normal_distr, loc=0.3, scale=0.2) # give a disadvantage to the minority"
   ]
  },
  {
   "cell_type": "code",
   "execution_count": 3,
   "metadata": {},
   "outputs": [
    {
     "data": {
      "text/html": [
       "<div>\n",
       "<style scoped>\n",
       "    .dataframe tbody tr th:only-of-type {\n",
       "        vertical-align: middle;\n",
       "    }\n",
       "\n",
       "    .dataframe tbody tr th {\n",
       "        vertical-align: top;\n",
       "    }\n",
       "\n",
       "    .dataframe thead th {\n",
       "        text-align: right;\n",
       "    }\n",
       "</style>\n",
       "<table border=\"1\" class=\"dataframe\">\n",
       "  <thead>\n",
       "    <tr style=\"text-align: right;\">\n",
       "      <th></th>\n",
       "      <th>node</th>\n",
       "      <th>orig score</th>\n",
       "      <th>rank score</th>\n",
       "    </tr>\n",
       "  </thead>\n",
       "  <tbody>\n",
       "    <tr>\n",
       "      <th>0</th>\n",
       "      <td>2</td>\n",
       "      <td>0.761136</td>\n",
       "      <td>23.676924</td>\n",
       "    </tr>\n",
       "    <tr>\n",
       "      <th>1</th>\n",
       "      <td>10</td>\n",
       "      <td>0.617786</td>\n",
       "      <td>23.092642</td>\n",
       "    </tr>\n",
       "    <tr>\n",
       "      <th>2</th>\n",
       "      <td>3</td>\n",
       "      <td>0.826102</td>\n",
       "      <td>19.043764</td>\n",
       "    </tr>\n",
       "    <tr>\n",
       "      <th>3</th>\n",
       "      <td>9</td>\n",
       "      <td>0.622732</td>\n",
       "      <td>17.253319</td>\n",
       "    </tr>\n",
       "    <tr>\n",
       "      <th>4</th>\n",
       "      <td>7</td>\n",
       "      <td>0.722633</td>\n",
       "      <td>17.137120</td>\n",
       "    </tr>\n",
       "    <tr>\n",
       "      <th>5</th>\n",
       "      <td>8</td>\n",
       "      <td>0.635050</td>\n",
       "      <td>14.690321</td>\n",
       "    </tr>\n",
       "    <tr>\n",
       "      <th>6</th>\n",
       "      <td>1</td>\n",
       "      <td>0.440170</td>\n",
       "      <td>8.873224</td>\n",
       "    </tr>\n",
       "    <tr>\n",
       "      <th>7</th>\n",
       "      <td>6</td>\n",
       "      <td>0.526740</td>\n",
       "      <td>7.992650</td>\n",
       "    </tr>\n",
       "    <tr>\n",
       "      <th>8</th>\n",
       "      <td>11</td>\n",
       "      <td>0.304061</td>\n",
       "      <td>7.814948</td>\n",
       "    </tr>\n",
       "    <tr>\n",
       "      <th>9</th>\n",
       "      <td>12</td>\n",
       "      <td>0.285122</td>\n",
       "      <td>4.476610</td>\n",
       "    </tr>\n",
       "    <tr>\n",
       "      <th>10</th>\n",
       "      <td>4</td>\n",
       "      <td>0.158578</td>\n",
       "      <td>-8.811895</td>\n",
       "    </tr>\n",
       "    <tr>\n",
       "      <th>11</th>\n",
       "      <td>13</td>\n",
       "      <td>0.086049</td>\n",
       "      <td>-23.496074</td>\n",
       "    </tr>\n",
       "    <tr>\n",
       "      <th>12</th>\n",
       "      <td>14</td>\n",
       "      <td>0.074935</td>\n",
       "      <td>-26.779694</td>\n",
       "    </tr>\n",
       "    <tr>\n",
       "      <th>13</th>\n",
       "      <td>0</td>\n",
       "      <td>0.000100</td>\n",
       "      <td>-42.481928</td>\n",
       "    </tr>\n",
       "    <tr>\n",
       "      <th>14</th>\n",
       "      <td>5</td>\n",
       "      <td>0.000100</td>\n",
       "      <td>-42.481928</td>\n",
       "    </tr>\n",
       "  </tbody>\n",
       "</table>\n",
       "</div>"
      ],
      "text/plain": [
       "    node  orig score  rank score\n",
       "0      2    0.761136   23.676924\n",
       "1     10    0.617786   23.092642\n",
       "2      3    0.826102   19.043764\n",
       "3      9    0.622732   17.253319\n",
       "4      7    0.722633   17.137120\n",
       "5      8    0.635050   14.690321\n",
       "6      1    0.440170    8.873224\n",
       "7      6    0.526740    7.992650\n",
       "8     11    0.304061    7.814948\n",
       "9     12    0.285122    4.476610\n",
       "10     4    0.158578   -8.811895\n",
       "11    13    0.086049  -23.496074\n",
       "12    14    0.074935  -26.779694\n",
       "13     0    0.000100  -42.481928\n",
       "14     5    0.000100  -42.481928"
      ]
     },
     "execution_count": 3,
     "metadata": {},
     "output_type": "execute_result"
    }
   ],
   "source": [
    "# run 100 iterations of ProbKnockout sampling\n",
    "sampler = OversampleMinority(G, warn=False)\n",
    "sampler.apply(iter=1000, k=1)\n",
    "# apply davidScore for ranking recovery\n",
    "ranker = RankRecovery(G)\n",
    "ranking, other_nodes = ranker.apply(rank_using=davidScore) # by default, apply rankCentrality method\n",
    "ranker._print_with_score(ranking) # sorted by rank score"
   ]
  },
  {
   "attachments": {},
   "cell_type": "markdown",
   "metadata": {},
   "source": [
    "## Metrics"
   ]
  },
  {
   "cell_type": "code",
   "execution_count": 4,
   "metadata": {},
   "outputs": [
    {
     "name": "stdout",
     "output_type": "stream",
     "text": [
      "Majority NDCG (by score): 0.9869772999535159\n",
      "Minority NDCG (by score): 1.0\n",
      "Majority MSE (by score): 0.052217780978470796\n",
      "Minority MSE (by score): 0.11892053859031684\n"
     ]
    }
   ],
   "source": [
    "# score-based metrics\n",
    "print(\"Majority NDCG (by score):\", NDCG(G.majority, ranking)) # NDCG is only calculated as a \"in-group\" comparison because it is normalized\n",
    "print(\"Minority NDCG (by score):\", NDCG(G.minority, ranking))\n",
    "print(\"Majority MSE (by score):\", MSE(G.majority, ranking))\n",
    "print(\"Minority MSE (by score):\", MSE(G.minority, ranking))"
   ]
  },
  {
   "cell_type": "code",
   "execution_count": 5,
   "metadata": {},
   "outputs": [
    {
     "name": "stdout",
     "output_type": "stream",
     "text": [
      "Majority mean error (by rank): -0.4\n",
      "Minority mean error (by rank): 0.8\n",
      "Majority MSE (by rank): 1.6\n",
      "Minority MSE (by rank): 3.2\n",
      "Majority Spearman's rho: PearsonRResult(statistic=0.9646007243427176, pvalue=6.582433185270773e-06)\n",
      "Minority Spearman's rho: PearsonRResult(statistic=0.9710607611177229, pvalue=0.005883967536981273)\n"
     ]
    }
   ],
   "source": [
    "# rank-based metrics\n",
    "print(\"Majority mean error (by rank):\", rank_mean_error(G, ranking, G.majority))\n",
    "print(\"Minority mean error (by rank):\", rank_mean_error(G, ranking, G.minority))\n",
    "print(\"Majority MSE (by rank):\", rank_MSE(G, ranking, G.majority))\n",
    "print(\"Minority MSE (by rank):\", rank_MSE(G, ranking, G.minority))\n",
    "print(\"Majority Spearman's rho:\", spearmanr(G, ranking, G.majority))\n",
    "print(\"Minority Spearman's rho:\", spearmanr(G, ranking, G.minority))"
   ]
  },
  {
   "cell_type": "code",
   "execution_count": 6,
   "metadata": {},
   "outputs": [
    {
     "name": "stdout",
     "output_type": "stream",
     "text": [
      "Majority weighted Kendall tau: 0.16972620141371658\n",
      "Minority weighted Kendall tau: 0.34396459555591646\n"
     ]
    }
   ],
   "source": [
    "# weighted Kendall tau\n",
    "print(\"Majority weighted Kendall tau:\", weighted_tau(G, ranking, G.majority))\n",
    "print(\"Minority weighted Kendall tau:\", weighted_tau(G, ranking, G.minority))"
   ]
  },
  {
   "cell_type": "code",
   "execution_count": 7,
   "metadata": {},
   "outputs": [
    {
     "name": "stdout",
     "output_type": "stream",
     "text": [
      "Overall Spearman r: PearsonRResult(statistic=0.9400599400599404, pvalue=1.930584686081638e-07)\n",
      "--\n",
      "Overall weighted Kendall tau: 0.1525231057647277\n"
     ]
    }
   ],
   "source": [
    "print(\"Overall Spearman r:\", spearmanr(G, ranking))\n",
    "print('--')\n",
    "print(\"Overall weighted Kendall tau:\", weighted_tau(G, ranking))"
   ]
  },
  {
   "cell_type": "code",
   "execution_count": null,
   "metadata": {},
   "outputs": [],
   "source": []
  }
 ],
 "metadata": {
  "kernelspec": {
   "display_name": "Python 3",
   "language": "python",
   "name": "python3"
  },
  "language_info": {
   "codemirror_mode": {
    "name": "ipython",
    "version": 3
   },
   "file_extension": ".py",
   "mimetype": "text/x-python",
   "name": "python",
   "nbconvert_exporter": "python",
   "pygments_lexer": "ipython3",
   "version": "3.11.3"
  },
  "orig_nbformat": 4
 },
 "nbformat": 4,
 "nbformat_minor": 2
}
