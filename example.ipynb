{
 "cells": [
  {
   "cell_type": "code",
   "execution_count": 1,
   "metadata": {},
   "outputs": [],
   "source": [
    "import numpy as np\n",
    "import networkx as nx\n",
    "\n",
    "from fairpair import FairPairGraph, Distributions"
   ]
  },
  {
   "cell_type": "code",
   "execution_count": 2,
   "metadata": {},
   "outputs": [
    {
     "name": "stdout",
     "output_type": "stream",
     "text": [
      "{'minority': False}\n",
      "{'minority': False}\n",
      "{'minority': True}\n",
      "{'minority': True}\n",
      "{'minority': True}\n"
     ]
    }
   ],
   "source": [
    "# Initialize the graph with nodes labeled majority or minority\n",
    "G = FairPairGraph()\n",
    "G.generate_groups(500, 200)\n",
    "\n",
    "for i in range(298, 303):\n",
    "    print(G.nodes(data=True)[i])"
   ]
  },
  {
   "cell_type": "code",
   "execution_count": 3,
   "metadata": {},
   "outputs": [
    {
     "name": "stdout",
     "output_type": "stream",
     "text": [
      "{'minority': False}\n",
      "{'minority': False}\n",
      "{'minority': False}\n",
      "{'minority': False}\n",
      "{'minority': True}\n"
     ]
    }
   ],
   "source": [
    "# Add randomization to the group label attribution\n",
    "G = FairPairGraph()\n",
    "G.add_nodes_from(np.arange(500))\n",
    "G.label_minority(200, random=True)\n",
    "\n",
    "for i in range(5):\n",
    "    print(G.nodes(data=True)[i])"
   ]
  },
  {
   "cell_type": "code",
   "execution_count": 4,
   "metadata": {},
   "outputs": [
    {
     "data": {
      "text/plain": [
       "<fairpair.fairgraph.FairPairGraph at 0x1191bb3d0>"
      ]
     },
     "execution_count": 4,
     "metadata": {},
     "output_type": "execute_result"
    }
   ],
   "source": [
    "# Access the minority subgraph (read-only)\n",
    "G.minority"
   ]
  },
  {
   "cell_type": "code",
   "execution_count": 5,
   "metadata": {},
   "outputs": [
    {
     "data": {
      "text/plain": [
       "[0, 1, 2, 3, 7, 8, 9, 10, 16, 18, 20, 21, 22, 23, 25, 26, 27, 28, 31, 33]"
      ]
     },
     "execution_count": 5,
     "metadata": {},
     "output_type": "execute_result"
    }
   ],
   "source": [
    "# Access the majority nodes\n",
    "G.majority_nodes[:20]"
   ]
  },
  {
   "cell_type": "code",
   "execution_count": 6,
   "metadata": {},
   "outputs": [
    {
     "data": {
      "text/plain": [
       "{'minority': True, 'score': 0.5291801350712366}"
      ]
     },
     "execution_count": 6,
     "metadata": {},
     "output_type": "execute_result"
    }
   ],
   "source": [
    "# Assign scores to the majority and minority respectively\n",
    "G.group_assign_scores(nodes=G.majority_nodes, distr=Distributions.normal_distr)\n",
    "G.group_assign_scores(nodes=G.minority_nodes, distr=Distributions.normal_distr, loc=0.4) # give a disadvantage to the minority\n",
    "G.nodes(data=True)[11]"
   ]
  },
  {
   "cell_type": "code",
   "execution_count": 7,
   "metadata": {},
   "outputs": [
    {
     "name": "stdout",
     "output_type": "stream",
     "text": [
      "before: 0.6372870125225796 0.05220569843496936 []\n",
      "after: 0.6372870125225796 0.05220569843496936 [(1, 5, {'wins': 1, 'weight': 0.03333333333333333}), (5, 1, {'wins': 29, 'weight': 0.9666666666666667})]\n"
     ]
    }
   ],
   "source": [
    "# Compare pairs using the BTL-model\n",
    "print('before:', G.nodes[1]['score'], G.nodes[5]['score'], G.edges(data=True))\n",
    "G.compare_pair(1, 5, k=30)\n",
    "print('after:', G.nodes[1]['score'], G.nodes[5]['score'], G.edges(data=True))"
   ]
  },
  {
   "cell_type": "code",
   "execution_count": 8,
   "metadata": {},
   "outputs": [
    {
     "name": "stdout",
     "output_type": "stream",
     "text": [
      "0.6372870125225796 0.05220569843496936 [(1, 5, {'wins': 4, 'weight': 0.06666666666666667}), (5, 1, {'wins': 56, 'weight': 0.9333333333333333})]\n"
     ]
    }
   ],
   "source": [
    "# Sum up additional comparisons with already existing ones\n",
    "G.compare_pair(1, 5, k=30)\n",
    "print(G.nodes[1]['score'], G.nodes[5]['score'], G.edges(data=True))"
   ]
  },
  {
   "cell_type": "code",
   "execution_count": null,
   "metadata": {},
   "outputs": [],
   "source": []
  }
 ],
 "metadata": {
  "kernelspec": {
   "display_name": "Python 3",
   "language": "python",
   "name": "python3"
  },
  "language_info": {
   "codemirror_mode": {
    "name": "ipython",
    "version": 3
   },
   "file_extension": ".py",
   "mimetype": "text/x-python",
   "name": "python",
   "nbconvert_exporter": "python",
   "pygments_lexer": "ipython3",
   "version": "3.11.3"
  },
  "orig_nbformat": 4
 },
 "nbformat": 4,
 "nbformat_minor": 2
}
