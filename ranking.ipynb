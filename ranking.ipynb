{
 "cells": [
  {
   "attachments": {},
   "cell_type": "markdown",
   "metadata": {},
   "source": [
    "# Apply Ranking Recovery Algorithms"
   ]
  },
  {
   "cell_type": "code",
   "execution_count": 1,
   "metadata": {},
   "outputs": [],
   "source": [
    "import pandas as pd\n",
    "import seaborn as sns\n",
    "\n",
    "from fairpair import *"
   ]
  },
  {
   "cell_type": "code",
   "execution_count": 2,
   "metadata": {},
   "outputs": [],
   "source": [
    "# create a FairPairGraph with disadvantaged minority\n",
    "G = FairPairGraph()\n",
    "G.generate_groups(15, 5)\n",
    "G.group_assign_scores(nodes=G.majority_nodes, distr=Distributions.normal_distr)\n",
    "G.group_assign_scores(nodes=G.minority_nodes, distr=Distributions.normal_distr, loc=0.3, scale=0.2) # give a disadvantage to the minority"
   ]
  },
  {
   "cell_type": "code",
   "execution_count": 3,
   "metadata": {},
   "outputs": [
    {
     "data": {
      "text/html": [
       "<div>\n",
       "<style scoped>\n",
       "    .dataframe tbody tr th:only-of-type {\n",
       "        vertical-align: middle;\n",
       "    }\n",
       "\n",
       "    .dataframe tbody tr th {\n",
       "        vertical-align: top;\n",
       "    }\n",
       "\n",
       "    .dataframe thead th {\n",
       "        text-align: right;\n",
       "    }\n",
       "</style>\n",
       "<table border=\"1\" class=\"dataframe\">\n",
       "  <thead>\n",
       "    <tr style=\"text-align: right;\">\n",
       "      <th></th>\n",
       "      <th>node</th>\n",
       "      <th>orig score</th>\n",
       "      <th>rank score</th>\n",
       "    </tr>\n",
       "  </thead>\n",
       "  <tbody>\n",
       "    <tr>\n",
       "      <th>0</th>\n",
       "      <td>8</td>\n",
       "      <td>0.999900</td>\n",
       "      <td>8.166667</td>\n",
       "    </tr>\n",
       "    <tr>\n",
       "      <th>1</th>\n",
       "      <td>4</td>\n",
       "      <td>0.958144</td>\n",
       "      <td>5.330769</td>\n",
       "    </tr>\n",
       "    <tr>\n",
       "      <th>2</th>\n",
       "      <td>6</td>\n",
       "      <td>0.652242</td>\n",
       "      <td>4.224747</td>\n",
       "    </tr>\n",
       "    <tr>\n",
       "      <th>3</th>\n",
       "      <td>10</td>\n",
       "      <td>0.562710</td>\n",
       "      <td>3.850000</td>\n",
       "    </tr>\n",
       "    <tr>\n",
       "      <th>4</th>\n",
       "      <td>1</td>\n",
       "      <td>0.694518</td>\n",
       "      <td>3.760606</td>\n",
       "    </tr>\n",
       "    <tr>\n",
       "      <th>5</th>\n",
       "      <td>2</td>\n",
       "      <td>0.690996</td>\n",
       "      <td>3.405983</td>\n",
       "    </tr>\n",
       "    <tr>\n",
       "      <th>6</th>\n",
       "      <td>3</td>\n",
       "      <td>0.273375</td>\n",
       "      <td>-3.617677</td>\n",
       "    </tr>\n",
       "    <tr>\n",
       "      <th>7</th>\n",
       "      <td>14</td>\n",
       "      <td>0.431976</td>\n",
       "      <td>-3.617677</td>\n",
       "    </tr>\n",
       "    <tr>\n",
       "      <th>8</th>\n",
       "      <td>7</td>\n",
       "      <td>0.000100</td>\n",
       "      <td>-6.747863</td>\n",
       "    </tr>\n",
       "    <tr>\n",
       "      <th>9</th>\n",
       "      <td>0</td>\n",
       "      <td>0.470481</td>\n",
       "      <td>-7.377778</td>\n",
       "    </tr>\n",
       "    <tr>\n",
       "      <th>10</th>\n",
       "      <td>11</td>\n",
       "      <td>0.365111</td>\n",
       "      <td>-7.377778</td>\n",
       "    </tr>\n",
       "  </tbody>\n",
       "</table>\n",
       "</div>"
      ],
      "text/plain": [
       "    node  orig score  rank score\n",
       "0      8    0.999900    8.166667\n",
       "1      4    0.958144    5.330769\n",
       "2      6    0.652242    4.224747\n",
       "3     10    0.562710    3.850000\n",
       "4      1    0.694518    3.760606\n",
       "5      2    0.690996    3.405983\n",
       "6      3    0.273375   -3.617677\n",
       "7     14    0.431976   -3.617677\n",
       "8      7    0.000100   -6.747863\n",
       "9      0    0.470481   -7.377778\n",
       "10    11    0.365111   -7.377778"
      ]
     },
     "execution_count": 3,
     "metadata": {},
     "output_type": "execute_result"
    }
   ],
   "source": [
    "# run 100 iterations of ProbKnockout sampling\n",
    "sampler = ProbKnockoutSampling(G, warn=False)\n",
    "sampler.apply(iter=100, k=1)\n",
    "# apply davidScore for ranking recovery\n",
    "ranker = RankRecovery(G)\n",
    "ranking, other_nodes = ranker.apply(rank_using=davidScore) # by default, apply rankCentrality method\n",
    "ranker._print_with_score(ranking) # sorted by rank score"
   ]
  },
  {
   "attachments": {},
   "cell_type": "markdown",
   "metadata": {},
   "source": [
    "## Metrics"
   ]
  },
  {
   "cell_type": "code",
   "execution_count": 4,
   "metadata": {},
   "outputs": [
    {
     "name": "stdout",
     "output_type": "stream",
     "text": [
      "Majority NDCG: 0.9936447494589745\n",
      "Minority NDCG: 0.9999999999999998\n",
      "Majority MSE (by score): 0.031637706720667555\n",
      "Minority MSE (by score): 0.06496893257014223\n"
     ]
    }
   ],
   "source": [
    "# score-based metrics\n",
    "print(\"Majority NDCG (by score):\", ranker.calc_NDCG(G.majority, ranking)) # NDCG is only calculated as a \"in-group\" comparison because it is normalized\n",
    "print(\"Minority NDCG (by score):\", ranker.calc_NDCG(G.minority, ranking))\n",
    "print(\"Majority MSE (by score):\", ranker.calc_MSE(G.majority, ranking))\n",
    "print(\"Minority MSE (by score):\", ranker.calc_MSE(G.minority, ranking))"
   ]
  },
  {
   "cell_type": "code",
   "execution_count": 5,
   "metadata": {},
   "outputs": [
    {
     "name": "stdout",
     "output_type": "stream",
     "text": [
      "Majority mean error (by rank): 0.875\n",
      "Minority mean error (by rank): 1.6666666666666667\n",
      "Majority MSE (by rank): 9.625\n",
      "Minority MSE (by rank): 3.0\n"
     ]
    }
   ],
   "source": [
    "# rank-based matrics\n",
    "print(\"Majority mean error (by rank):\", ranker.calc_rank_mean_error(G.majority, ranking))\n",
    "print(\"Minority mean error (by rank):\", ranker.calc_rank_mean_error(G.minority, ranking))\n",
    "print(\"Majority MSE (by rank):\", ranker.calc_rank_MSE(G.majority, ranking))\n",
    "print(\"Minority MSE (by rank):\", ranker.calc_rank_MSE(G.minority, ranking))"
   ]
  }
 ],
 "metadata": {
  "kernelspec": {
   "display_name": "Python 3",
   "language": "python",
   "name": "python3"
  },
  "language_info": {
   "codemirror_mode": {
    "name": "ipython",
    "version": 3
   },
   "file_extension": ".py",
   "mimetype": "text/x-python",
   "name": "python",
   "nbconvert_exporter": "python",
   "pygments_lexer": "ipython3",
   "version": "3.11.3"
  },
  "orig_nbformat": 4
 },
 "nbformat": 4,
 "nbformat_minor": 2
}
