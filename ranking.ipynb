{
 "cells": [
  {
   "attachments": {},
   "cell_type": "markdown",
   "metadata": {},
   "source": [
    "# Apply Ranking Recovery Algorithms"
   ]
  },
  {
   "cell_type": "code",
   "execution_count": 1,
   "metadata": {},
   "outputs": [],
   "source": [
    "import pandas as pd\n",
    "import seaborn as sns\n",
    "\n",
    "from fairpair import *"
   ]
  },
  {
   "cell_type": "code",
   "execution_count": 2,
   "metadata": {},
   "outputs": [],
   "source": [
    "# create a FairPairGraph with disadvantaged minority\n",
    "G = FairPairGraph()\n",
    "G.generate_groups(15, 5)\n",
    "G.group_assign_scores(nodes=G.majority_nodes, distr=Distributions.normal_distr)\n",
    "G.group_assign_scores(nodes=G.minority_nodes, distr=Distributions.normal_distr, loc=0.3, scale=0.2) # give a disadvantage to the minority"
   ]
  },
  {
   "cell_type": "code",
   "execution_count": 3,
   "metadata": {},
   "outputs": [
    {
     "data": {
      "text/html": [
       "<div>\n",
       "<style scoped>\n",
       "    .dataframe tbody tr th:only-of-type {\n",
       "        vertical-align: middle;\n",
       "    }\n",
       "\n",
       "    .dataframe tbody tr th {\n",
       "        vertical-align: top;\n",
       "    }\n",
       "\n",
       "    .dataframe thead th {\n",
       "        text-align: right;\n",
       "    }\n",
       "</style>\n",
       "<table border=\"1\" class=\"dataframe\">\n",
       "  <thead>\n",
       "    <tr style=\"text-align: right;\">\n",
       "      <th></th>\n",
       "      <th>node</th>\n",
       "      <th>orig score</th>\n",
       "      <th>rank score</th>\n",
       "    </tr>\n",
       "  </thead>\n",
       "  <tbody>\n",
       "    <tr>\n",
       "      <th>0</th>\n",
       "      <td>8</td>\n",
       "      <td>0.999900</td>\n",
       "      <td>6.065359</td>\n",
       "    </tr>\n",
       "    <tr>\n",
       "      <th>1</th>\n",
       "      <td>1</td>\n",
       "      <td>0.738034</td>\n",
       "      <td>5.366769</td>\n",
       "    </tr>\n",
       "    <tr>\n",
       "      <th>2</th>\n",
       "      <td>2</td>\n",
       "      <td>0.739929</td>\n",
       "      <td>3.403030</td>\n",
       "    </tr>\n",
       "    <tr>\n",
       "      <th>3</th>\n",
       "      <td>12</td>\n",
       "      <td>0.492201</td>\n",
       "      <td>2.998782</td>\n",
       "    </tr>\n",
       "    <tr>\n",
       "      <th>4</th>\n",
       "      <td>11</td>\n",
       "      <td>0.460570</td>\n",
       "      <td>1.853794</td>\n",
       "    </tr>\n",
       "    <tr>\n",
       "      <th>5</th>\n",
       "      <td>0</td>\n",
       "      <td>0.032875</td>\n",
       "      <td>-2.826498</td>\n",
       "    </tr>\n",
       "    <tr>\n",
       "      <th>6</th>\n",
       "      <td>7</td>\n",
       "      <td>0.490983</td>\n",
       "      <td>-2.826498</td>\n",
       "    </tr>\n",
       "    <tr>\n",
       "      <th>7</th>\n",
       "      <td>3</td>\n",
       "      <td>0.591560</td>\n",
       "      <td>-3.364646</td>\n",
       "    </tr>\n",
       "    <tr>\n",
       "      <th>8</th>\n",
       "      <td>6</td>\n",
       "      <td>0.123864</td>\n",
       "      <td>-3.496590</td>\n",
       "    </tr>\n",
       "    <tr>\n",
       "      <th>9</th>\n",
       "      <td>9</td>\n",
       "      <td>0.439523</td>\n",
       "      <td>-7.173502</td>\n",
       "    </tr>\n",
       "  </tbody>\n",
       "</table>\n",
       "</div>"
      ],
      "text/plain": [
       "   node  orig score  rank score\n",
       "0     8    0.999900    6.065359\n",
       "1     1    0.738034    5.366769\n",
       "2     2    0.739929    3.403030\n",
       "3    12    0.492201    2.998782\n",
       "4    11    0.460570    1.853794\n",
       "5     0    0.032875   -2.826498\n",
       "6     7    0.490983   -2.826498\n",
       "7     3    0.591560   -3.364646\n",
       "8     6    0.123864   -3.496590\n",
       "9     9    0.439523   -7.173502"
      ]
     },
     "execution_count": 3,
     "metadata": {},
     "output_type": "execute_result"
    }
   ],
   "source": [
    "# run 100 iterations of ProbKnockout sampling\n",
    "sampler = ProbKnockoutSampling(G, warn=False)\n",
    "sampler.apply(iter=100, k=1)\n",
    "# apply davidScore for ranking recovery\n",
    "ranker = RankRecovery(G)\n",
    "ranking, other_nodes = ranker.apply(rank_using=davidScore) # by default, apply rankCentrality method\n",
    "ranker._print_with_score(ranking) # sorted by rank score"
   ]
  },
  {
   "attachments": {},
   "cell_type": "markdown",
   "metadata": {},
   "source": [
    "## Metrics"
   ]
  },
  {
   "cell_type": "code",
   "execution_count": 4,
   "metadata": {},
   "outputs": [
    {
     "name": "stdout",
     "output_type": "stream",
     "text": [
      "Majority NDCG (by score): 0.9805589446288613\n",
      "Minority NDCG (by score): 1.0\n",
      "Majority MSE (by score): 0.058772948214224935\n",
      "Minority MSE (by score): 0.0626220232046065\n"
     ]
    }
   ],
   "source": [
    "# score-based metrics\n",
    "print(\"Majority NDCG (by score):\", NDCG(G.majority, ranking)) # NDCG is only calculated as a \"in-group\" comparison because it is normalized\n",
    "print(\"Minority NDCG (by score):\", NDCG(G.minority, ranking))\n",
    "print(\"Majority MSE (by score):\", MSE(G.majority, ranking))\n",
    "print(\"Minority MSE (by score):\", MSE(G.minority, ranking))"
   ]
  },
  {
   "cell_type": "code",
   "execution_count": 5,
   "metadata": {},
   "outputs": [
    {
     "name": "stdout",
     "output_type": "stream",
     "text": [
      "Majority mean error (by rank): 1.125\n",
      "Minority mean error (by rank): 2.5\n",
      "Majority MSE (by rank): 12.375\n",
      "Minority MSE (by rank): 6.5\n"
     ]
    }
   ],
   "source": [
    "# rank-based matrics\n",
    "print(\"Majority mean error (by rank):\", rank_mean_error(G, ranking, G.majority))\n",
    "print(\"Minority mean error (by rank):\", rank_mean_error(G, ranking, G.minority))\n",
    "print(\"Majority MSE (by rank):\", rank_MSE(G, ranking, G.majority))\n",
    "print(\"Minority MSE (by rank):\", rank_MSE(G, ranking, G.minority))"
   ]
  }
 ],
 "metadata": {
  "kernelspec": {
   "display_name": "Python 3",
   "language": "python",
   "name": "python3"
  },
  "language_info": {
   "codemirror_mode": {
    "name": "ipython",
    "version": 3
   },
   "file_extension": ".py",
   "mimetype": "text/x-python",
   "name": "python",
   "nbconvert_exporter": "python",
   "pygments_lexer": "ipython3",
   "version": "3.11.3"
  },
  "orig_nbformat": 4
 },
 "nbformat": 4,
 "nbformat_minor": 2
}
