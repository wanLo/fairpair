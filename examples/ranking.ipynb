{
 "cells": [
  {
   "attachments": {},
   "cell_type": "markdown",
   "metadata": {},
   "source": [
    "# Applying Ranking Recovery Algorithms"
   ]
  },
  {
   "cell_type": "code",
   "execution_count": 1,
   "metadata": {},
   "outputs": [],
   "source": [
    "import pandas as pd\n",
    "import seaborn as sns\n",
    "\n",
    "from fairpair import *"
   ]
  },
  {
   "cell_type": "code",
   "execution_count": 2,
   "metadata": {},
   "outputs": [],
   "source": [
    "# create a FairPairGraph with an unprivileged group\n",
    "G = FairPairGraph()\n",
    "G.generate_groups(20, 5)\n",
    "G.assign_skills()\n",
    "G.assign_bias(nodes=G.unpriv_nodes, loc=-0.5, scale=0.5)"
   ]
  },
  {
   "cell_type": "code",
   "execution_count": 3,
   "metadata": {},
   "outputs": [
    {
     "data": {
      "text/html": [
       "<div>\n",
       "<style scoped>\n",
       "    .dataframe tbody tr th:only-of-type {\n",
       "        vertical-align: middle;\n",
       "    }\n",
       "\n",
       "    .dataframe tbody tr th {\n",
       "        vertical-align: top;\n",
       "    }\n",
       "\n",
       "    .dataframe thead th {\n",
       "        text-align: right;\n",
       "    }\n",
       "</style>\n",
       "<table border=\"1\" class=\"dataframe\">\n",
       "  <thead>\n",
       "    <tr style=\"text-align: right;\">\n",
       "      <th></th>\n",
       "      <th>node</th>\n",
       "      <th>perceived score</th>\n",
       "      <th>rank score</th>\n",
       "    </tr>\n",
       "  </thead>\n",
       "  <tbody>\n",
       "    <tr>\n",
       "      <th>0</th>\n",
       "      <td>7</td>\n",
       "      <td>2.229864</td>\n",
       "      <td>147.055833</td>\n",
       "    </tr>\n",
       "    <tr>\n",
       "      <th>1</th>\n",
       "      <td>9</td>\n",
       "      <td>2.087246</td>\n",
       "      <td>134.045921</td>\n",
       "    </tr>\n",
       "    <tr>\n",
       "      <th>2</th>\n",
       "      <td>0</td>\n",
       "      <td>1.469814</td>\n",
       "      <td>113.877209</td>\n",
       "    </tr>\n",
       "    <tr>\n",
       "      <th>3</th>\n",
       "      <td>12</td>\n",
       "      <td>0.191428</td>\n",
       "      <td>55.730519</td>\n",
       "    </tr>\n",
       "    <tr>\n",
       "      <th>4</th>\n",
       "      <td>3</td>\n",
       "      <td>0.388180</td>\n",
       "      <td>49.869408</td>\n",
       "    </tr>\n",
       "    <tr>\n",
       "      <th>5</th>\n",
       "      <td>10</td>\n",
       "      <td>0.270668</td>\n",
       "      <td>46.369908</td>\n",
       "    </tr>\n",
       "    <tr>\n",
       "      <th>6</th>\n",
       "      <td>11</td>\n",
       "      <td>-0.247390</td>\n",
       "      <td>3.186430</td>\n",
       "    </tr>\n",
       "    <tr>\n",
       "      <th>7</th>\n",
       "      <td>2</td>\n",
       "      <td>-0.319708</td>\n",
       "      <td>2.655635</td>\n",
       "    </tr>\n",
       "    <tr>\n",
       "      <th>8</th>\n",
       "      <td>14</td>\n",
       "      <td>-0.097918</td>\n",
       "      <td>1.850538</td>\n",
       "    </tr>\n",
       "    <tr>\n",
       "      <th>9</th>\n",
       "      <td>18</td>\n",
       "      <td>-0.588904</td>\n",
       "      <td>-7.771035</td>\n",
       "    </tr>\n",
       "    <tr>\n",
       "      <th>10</th>\n",
       "      <td>5</td>\n",
       "      <td>-0.776534</td>\n",
       "      <td>-9.060606</td>\n",
       "    </tr>\n",
       "    <tr>\n",
       "      <th>11</th>\n",
       "      <td>8</td>\n",
       "      <td>-0.465125</td>\n",
       "      <td>-9.164336</td>\n",
       "    </tr>\n",
       "    <tr>\n",
       "      <th>12</th>\n",
       "      <td>1</td>\n",
       "      <td>-0.363113</td>\n",
       "      <td>-13.928266</td>\n",
       "    </tr>\n",
       "    <tr>\n",
       "      <th>13</th>\n",
       "      <td>6</td>\n",
       "      <td>-0.626169</td>\n",
       "      <td>-14.951992</td>\n",
       "    </tr>\n",
       "    <tr>\n",
       "      <th>14</th>\n",
       "      <td>19</td>\n",
       "      <td>-0.722901</td>\n",
       "      <td>-42.139793</td>\n",
       "    </tr>\n",
       "    <tr>\n",
       "      <th>15</th>\n",
       "      <td>4</td>\n",
       "      <td>-0.946537</td>\n",
       "      <td>-53.305583</td>\n",
       "    </tr>\n",
       "    <tr>\n",
       "      <th>16</th>\n",
       "      <td>13</td>\n",
       "      <td>-0.934878</td>\n",
       "      <td>-62.442613</td>\n",
       "    </tr>\n",
       "    <tr>\n",
       "      <th>17</th>\n",
       "      <td>16</td>\n",
       "      <td>-1.466043</td>\n",
       "      <td>-98.362915</td>\n",
       "    </tr>\n",
       "    <tr>\n",
       "      <th>18</th>\n",
       "      <td>17</td>\n",
       "      <td>-1.957567</td>\n",
       "      <td>-104.738289</td>\n",
       "    </tr>\n",
       "    <tr>\n",
       "      <th>19</th>\n",
       "      <td>15</td>\n",
       "      <td>-2.626673</td>\n",
       "      <td>-138.775974</td>\n",
       "    </tr>\n",
       "  </tbody>\n",
       "</table>\n",
       "</div>"
      ],
      "text/plain": [
       "    node  perceived score  rank score\n",
       "0      7         2.229864  147.055833\n",
       "1      9         2.087246  134.045921\n",
       "2      0         1.469814  113.877209\n",
       "3     12         0.191428   55.730519\n",
       "4      3         0.388180   49.869408\n",
       "5     10         0.270668   46.369908\n",
       "6     11        -0.247390    3.186430\n",
       "7      2        -0.319708    2.655635\n",
       "8     14        -0.097918    1.850538\n",
       "9     18        -0.588904   -7.771035\n",
       "10     5        -0.776534   -9.060606\n",
       "11     8        -0.465125   -9.164336\n",
       "12     1        -0.363113  -13.928266\n",
       "13     6        -0.626169  -14.951992\n",
       "14    19        -0.722901  -42.139793\n",
       "15     4        -0.946537  -53.305583\n",
       "16    13        -0.934878  -62.442613\n",
       "17    16        -1.466043  -98.362915\n",
       "18    17        -1.957567 -104.738289\n",
       "19    15        -2.626673 -138.775974"
      ]
     },
     "execution_count": 3,
     "metadata": {},
     "output_type": "execute_result"
    }
   ],
   "source": [
    "# run 1000 iterations of RandomSampling, random pairing and comparison with the BTL model\n",
    "sampler = RandomSampling(G, warn=False)\n",
    "sampler.apply(iter=1000, k=1)\n",
    "\n",
    "# apply davidScore for ranking recovery\n",
    "ranker = RankRecovery(G)\n",
    "ranking, other_nodes = ranker.apply(rank_using=davidScore) # by default, apply rankCentrality method\n",
    "ranker._print_with_score(ranking) # sorted by rank score"
   ]
  },
  {
   "cell_type": "code",
   "execution_count": 4,
   "metadata": {},
   "outputs": [
    {
     "data": {
      "text/html": [
       "<div>\n",
       "<style scoped>\n",
       "    .dataframe tbody tr th:only-of-type {\n",
       "        vertical-align: middle;\n",
       "    }\n",
       "\n",
       "    .dataframe tbody tr th {\n",
       "        vertical-align: top;\n",
       "    }\n",
       "\n",
       "    .dataframe thead th {\n",
       "        text-align: right;\n",
       "    }\n",
       "</style>\n",
       "<table border=\"1\" class=\"dataframe\">\n",
       "  <thead>\n",
       "    <tr style=\"text-align: right;\">\n",
       "      <th></th>\n",
       "      <th>node</th>\n",
       "      <th>perceived score</th>\n",
       "      <th>rank score</th>\n",
       "    </tr>\n",
       "  </thead>\n",
       "  <tbody>\n",
       "    <tr>\n",
       "      <th>0</th>\n",
       "      <td>7</td>\n",
       "      <td>2.229864</td>\n",
       "      <td>0.897572</td>\n",
       "    </tr>\n",
       "    <tr>\n",
       "      <th>1</th>\n",
       "      <td>9</td>\n",
       "      <td>2.087246</td>\n",
       "      <td>0.865960</td>\n",
       "    </tr>\n",
       "    <tr>\n",
       "      <th>2</th>\n",
       "      <td>0</td>\n",
       "      <td>1.469814</td>\n",
       "      <td>0.701275</td>\n",
       "    </tr>\n",
       "    <tr>\n",
       "      <th>3</th>\n",
       "      <td>12</td>\n",
       "      <td>0.191428</td>\n",
       "      <td>0.338344</td>\n",
       "    </tr>\n",
       "    <tr>\n",
       "      <th>4</th>\n",
       "      <td>10</td>\n",
       "      <td>0.270668</td>\n",
       "      <td>0.304092</td>\n",
       "    </tr>\n",
       "    <tr>\n",
       "      <th>5</th>\n",
       "      <td>3</td>\n",
       "      <td>0.388180</td>\n",
       "      <td>0.303626</td>\n",
       "    </tr>\n",
       "    <tr>\n",
       "      <th>6</th>\n",
       "      <td>11</td>\n",
       "      <td>-0.247390</td>\n",
       "      <td>0.013860</td>\n",
       "    </tr>\n",
       "    <tr>\n",
       "      <th>7</th>\n",
       "      <td>2</td>\n",
       "      <td>-0.319708</td>\n",
       "      <td>0.013377</td>\n",
       "    </tr>\n",
       "    <tr>\n",
       "      <th>8</th>\n",
       "      <td>14</td>\n",
       "      <td>-0.097918</td>\n",
       "      <td>-0.016111</td>\n",
       "    </tr>\n",
       "    <tr>\n",
       "      <th>9</th>\n",
       "      <td>18</td>\n",
       "      <td>-0.588904</td>\n",
       "      <td>-0.041467</td>\n",
       "    </tr>\n",
       "    <tr>\n",
       "      <th>10</th>\n",
       "      <td>5</td>\n",
       "      <td>-0.776534</td>\n",
       "      <td>-0.047779</td>\n",
       "    </tr>\n",
       "    <tr>\n",
       "      <th>11</th>\n",
       "      <td>1</td>\n",
       "      <td>-0.363113</td>\n",
       "      <td>-0.060531</td>\n",
       "    </tr>\n",
       "    <tr>\n",
       "      <th>12</th>\n",
       "      <td>8</td>\n",
       "      <td>-0.465125</td>\n",
       "      <td>-0.061482</td>\n",
       "    </tr>\n",
       "    <tr>\n",
       "      <th>13</th>\n",
       "      <td>6</td>\n",
       "      <td>-0.626169</td>\n",
       "      <td>-0.083906</td>\n",
       "    </tr>\n",
       "    <tr>\n",
       "      <th>14</th>\n",
       "      <td>19</td>\n",
       "      <td>-0.722901</td>\n",
       "      <td>-0.264972</td>\n",
       "    </tr>\n",
       "    <tr>\n",
       "      <th>15</th>\n",
       "      <td>4</td>\n",
       "      <td>-0.946537</td>\n",
       "      <td>-0.318745</td>\n",
       "    </tr>\n",
       "    <tr>\n",
       "      <th>16</th>\n",
       "      <td>13</td>\n",
       "      <td>-0.934878</td>\n",
       "      <td>-0.408102</td>\n",
       "    </tr>\n",
       "    <tr>\n",
       "      <th>17</th>\n",
       "      <td>16</td>\n",
       "      <td>-1.466043</td>\n",
       "      <td>-0.610808</td>\n",
       "    </tr>\n",
       "    <tr>\n",
       "      <th>18</th>\n",
       "      <td>17</td>\n",
       "      <td>-1.957567</td>\n",
       "      <td>-0.666667</td>\n",
       "    </tr>\n",
       "    <tr>\n",
       "      <th>19</th>\n",
       "      <td>15</td>\n",
       "      <td>-2.626673</td>\n",
       "      <td>-0.857537</td>\n",
       "    </tr>\n",
       "  </tbody>\n",
       "</table>\n",
       "</div>"
      ],
      "text/plain": [
       "    node  perceived score  rank score\n",
       "0      7         2.229864    0.897572\n",
       "1      9         2.087246    0.865960\n",
       "2      0         1.469814    0.701275\n",
       "3     12         0.191428    0.338344\n",
       "4     10         0.270668    0.304092\n",
       "5      3         0.388180    0.303626\n",
       "6     11        -0.247390    0.013860\n",
       "7      2        -0.319708    0.013377\n",
       "8     14        -0.097918   -0.016111\n",
       "9     18        -0.588904   -0.041467\n",
       "10     5        -0.776534   -0.047779\n",
       "11     1        -0.363113   -0.060531\n",
       "12     8        -0.465125   -0.061482\n",
       "13     6        -0.626169   -0.083906\n",
       "14    19        -0.722901   -0.264972\n",
       "15     4        -0.946537   -0.318745\n",
       "16    13        -0.934878   -0.408102\n",
       "17    16        -1.466043   -0.610808\n",
       "18    17        -1.957567   -0.666667\n",
       "19    15        -2.626673   -0.857537"
      ]
     },
     "execution_count": 4,
     "metadata": {},
     "output_type": "execute_result"
    }
   ],
   "source": [
    "# Apply another ranking recovery method\n",
    "ranking, other_nodes = ranker.apply(rank_using=SVD_RS)\n",
    "ranker._print_with_score(ranking)"
   ]
  },
  {
   "attachments": {},
   "cell_type": "markdown",
   "metadata": {},
   "source": [
    "## Measuring Error"
   ]
  },
  {
   "cell_type": "code",
   "execution_count": 5,
   "metadata": {},
   "outputs": [
    {
     "name": "stdout",
     "output_type": "stream",
     "text": [
      "Overall error: 0.09368783051682861\n",
      "Privileged group's error: 0.09393977410080034\n",
      "Unprivileged group's error: 0.14031894800714803\n"
     ]
    }
   ],
   "source": [
    "print('Overall error:', weighted_tau(G, ranking))\n",
    "print('Privileged group\\'s error:', weighted_tau(G, ranking, G.priv)) # by supplying a subgraph of G we obtain the group-conditioned error\n",
    "print('Unprivileged group\\'s error:', weighted_tau(G, ranking, G.unpriv))"
   ]
  },
  {
   "cell_type": "code",
   "execution_count": 6,
   "metadata": {},
   "outputs": [
    {
     "data": {
      "text/plain": [
       "0.14031894800714803"
      ]
     },
     "execution_count": 6,
     "metadata": {},
     "output_type": "execute_result"
    }
   ],
   "source": [
    "# To speed up evaluation on very large graphs, we can cache the group membership of nodes and their ground-truth skill scores\n",
    "unpriv_nodes = G.unpriv_nodes.copy()\n",
    "priv_nodes = G.priv_nodes.copy()\n",
    "skills = {node: score for node, score in G.nodes(data='skill')}.copy()\n",
    "weighted_tau_nodes(skills, ranking, unpriv_nodes, priv_nodes) # calculate the unprivileged group's error, but including between-group comparisons"
   ]
  },
  {
   "cell_type": "code",
   "execution_count": 7,
   "metadata": {},
   "outputs": [
    {
     "name": "stdout",
     "output_type": "stream",
     "text": [
      "Between-groups error: 0.14285464584997543\n",
      "Privileged group's within-group error: 0.04353803595025691\n",
      "Unprivileged group's within-group error: 0.0803030585068736\n"
     ]
    }
   ],
   "source": [
    "# We can also look at within-group and between-groups error separately\n",
    "within_priv, between = weighted_tau_separate(G, ranking, G.priv)\n",
    "within_unpriv,_ = weighted_tau_separate(G, ranking, G.unpriv, calc_between=False) # do not calculate between-groups error again\n",
    "print('Between-groups error:', between)\n",
    "print('Privileged group\\'s within-group error:', within_priv)\n",
    "print('Unprivileged group\\'s within-group error:', within_unpriv)"
   ]
  },
  {
   "cell_type": "markdown",
   "metadata": {},
   "source": [
    "## Measuring Group Representation"
   ]
  },
  {
   "cell_type": "code",
   "execution_count": 8,
   "metadata": {},
   "outputs": [
    {
     "name": "stdout",
     "output_type": "stream",
     "text": [
      "Privileged group's exposure: 0.3871164120254849\n",
      "Unprivileged group's exposure: 0.24670444030824762\n"
     ]
    }
   ],
   "source": [
    "print('Privileged group\\'s exposure:', exposure(G, ranking, G.priv))\n",
    "print('Unprivileged group\\'s exposure:', exposure(G, ranking, G.unpriv))"
   ]
  },
  {
   "cell_type": "code",
   "execution_count": 9,
   "metadata": {},
   "outputs": [
    {
     "data": {
      "text/plain": [
       "0.24670444030824762"
      ]
     },
     "execution_count": 9,
     "metadata": {},
     "output_type": "execute_result"
    }
   ],
   "source": [
    "# Again, to speed up evaluation on very large graphs, we can cache the group membership of nodes\n",
    "unpriv_nodes = G.unpriv_nodes.copy()\n",
    "exposure_nodes(ranking, unpriv_nodes) # calculate the unprivileged group's exposure"
   ]
  }
 ],
 "metadata": {
  "kernelspec": {
   "display_name": "Python 3",
   "language": "python",
   "name": "python3"
  },
  "language_info": {
   "codemirror_mode": {
    "name": "ipython",
    "version": 3
   },
   "file_extension": ".py",
   "mimetype": "text/x-python",
   "name": "python",
   "nbconvert_exporter": "python",
   "pygments_lexer": "ipython3",
   "version": "3.11.5"
  },
  "orig_nbformat": 4
 },
 "nbformat": 4,
 "nbformat_minor": 2
}
