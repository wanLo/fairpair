{
 "cells": [
  {
   "attachments": {},
   "cell_type": "markdown",
   "metadata": {},
   "source": [
    "# Apply Ranking Recovery Algorithms"
   ]
  },
  {
   "cell_type": "code",
   "execution_count": 1,
   "metadata": {},
   "outputs": [],
   "source": [
    "import pandas as pd\n",
    "import seaborn as sns\n",
    "\n",
    "from fairpair import *"
   ]
  },
  {
   "cell_type": "code",
   "execution_count": 35,
   "metadata": {},
   "outputs": [],
   "source": [
    "# create a FairPairGraph with disadvantaged minority\n",
    "G = FairPairGraph()\n",
    "G.generate_groups(15, 5)\n",
    "G.group_assign_scores(nodes=G.majority_nodes, distr=Distributions.normal_distr)\n",
    "G.group_assign_scores(nodes=G.minority_nodes, distr=Distributions.normal_distr, loc=0.3, scale=0.2) # give a disadvantage to the minority"
   ]
  },
  {
   "cell_type": "code",
   "execution_count": 36,
   "metadata": {},
   "outputs": [
    {
     "data": {
      "text/html": [
       "<div>\n",
       "<style scoped>\n",
       "    .dataframe tbody tr th:only-of-type {\n",
       "        vertical-align: middle;\n",
       "    }\n",
       "\n",
       "    .dataframe tbody tr th {\n",
       "        vertical-align: top;\n",
       "    }\n",
       "\n",
       "    .dataframe thead th {\n",
       "        text-align: right;\n",
       "    }\n",
       "</style>\n",
       "<table border=\"1\" class=\"dataframe\">\n",
       "  <thead>\n",
       "    <tr style=\"text-align: right;\">\n",
       "      <th></th>\n",
       "      <th>node</th>\n",
       "      <th>orig score</th>\n",
       "      <th>rank score</th>\n",
       "    </tr>\n",
       "  </thead>\n",
       "  <tbody>\n",
       "    <tr>\n",
       "      <th>0</th>\n",
       "      <td>0</td>\n",
       "      <td>0.515075</td>\n",
       "      <td>14.100000</td>\n",
       "    </tr>\n",
       "    <tr>\n",
       "      <th>1</th>\n",
       "      <td>1</td>\n",
       "      <td>0.394381</td>\n",
       "      <td>11.118590</td>\n",
       "    </tr>\n",
       "    <tr>\n",
       "      <th>2</th>\n",
       "      <td>8</td>\n",
       "      <td>0.738520</td>\n",
       "      <td>10.612726</td>\n",
       "    </tr>\n",
       "    <tr>\n",
       "      <th>3</th>\n",
       "      <td>14</td>\n",
       "      <td>0.700527</td>\n",
       "      <td>8.000000</td>\n",
       "    </tr>\n",
       "    <tr>\n",
       "      <th>4</th>\n",
       "      <td>13</td>\n",
       "      <td>0.317205</td>\n",
       "      <td>4.256999</td>\n",
       "    </tr>\n",
       "    <tr>\n",
       "      <th>5</th>\n",
       "      <td>11</td>\n",
       "      <td>0.471947</td>\n",
       "      <td>3.416591</td>\n",
       "    </tr>\n",
       "    <tr>\n",
       "      <th>6</th>\n",
       "      <td>6</td>\n",
       "      <td>0.364896</td>\n",
       "      <td>-0.253247</td>\n",
       "    </tr>\n",
       "    <tr>\n",
       "      <th>7</th>\n",
       "      <td>9</td>\n",
       "      <td>0.189476</td>\n",
       "      <td>-3.577885</td>\n",
       "    </tr>\n",
       "    <tr>\n",
       "      <th>8</th>\n",
       "      <td>7</td>\n",
       "      <td>0.586873</td>\n",
       "      <td>-4.508658</td>\n",
       "    </tr>\n",
       "    <tr>\n",
       "      <th>9</th>\n",
       "      <td>4</td>\n",
       "      <td>0.144526</td>\n",
       "      <td>-6.851659</td>\n",
       "    </tr>\n",
       "    <tr>\n",
       "      <th>10</th>\n",
       "      <td>12</td>\n",
       "      <td>0.175169</td>\n",
       "      <td>-6.915008</td>\n",
       "    </tr>\n",
       "    <tr>\n",
       "      <th>11</th>\n",
       "      <td>10</td>\n",
       "      <td>0.399200</td>\n",
       "      <td>-8.316523</td>\n",
       "    </tr>\n",
       "    <tr>\n",
       "      <th>12</th>\n",
       "      <td>3</td>\n",
       "      <td>0.537227</td>\n",
       "      <td>-8.838926</td>\n",
       "    </tr>\n",
       "    <tr>\n",
       "      <th>13</th>\n",
       "      <td>2</td>\n",
       "      <td>0.447616</td>\n",
       "      <td>-12.243001</td>\n",
       "    </tr>\n",
       "  </tbody>\n",
       "</table>\n",
       "</div>"
      ],
      "text/plain": [
       "    node  orig score  rank score\n",
       "0      0    0.515075   14.100000\n",
       "1      1    0.394381   11.118590\n",
       "2      8    0.738520   10.612726\n",
       "3     14    0.700527    8.000000\n",
       "4     13    0.317205    4.256999\n",
       "5     11    0.471947    3.416591\n",
       "6      6    0.364896   -0.253247\n",
       "7      9    0.189476   -3.577885\n",
       "8      7    0.586873   -4.508658\n",
       "9      4    0.144526   -6.851659\n",
       "10    12    0.175169   -6.915008\n",
       "11    10    0.399200   -8.316523\n",
       "12     3    0.537227   -8.838926\n",
       "13     2    0.447616  -12.243001"
      ]
     },
     "execution_count": 36,
     "metadata": {},
     "output_type": "execute_result"
    }
   ],
   "source": [
    "# run 100 iterations of ProbKnockout sampling\n",
    "sampler = ProbKnockoutSampling(G, warn=False)\n",
    "sampler.apply(iter=100, k=1)\n",
    "# apply davidScore for ranking recovery\n",
    "ranker = RankRecovery(G)\n",
    "ranking, other_nodes = ranker.apply(rank_using=davidScore) # by default, apply rankCentrality method\n",
    "ranker._print_with_score(ranking) # sorted by rank score"
   ]
  },
  {
   "cell_type": "code",
   "execution_count": 37,
   "metadata": {},
   "outputs": [
    {
     "name": "stdout",
     "output_type": "stream",
     "text": [
      "Majority NDCG: 0.9004882063370144\n",
      "Minority NDCG: 0.974496690096072\n",
      "Majority MSE: 0.1087071934410953\n",
      "Minority MSE: 0.03569981744805161\n"
     ]
    }
   ],
   "source": [
    "print(\"Majority NDCG:\", ranker.calc_NDCG(G.majority, ranking))\n",
    "print(\"Minority NDCG:\", ranker.calc_NDCG(G.minority, ranking))\n",
    "print(\"Majority MSE:\", ranker.calc_MSE(G.majority, ranking))\n",
    "print(\"Minority MSE:\", ranker.calc_MSE(G.minority, ranking))"
   ]
  }
 ],
 "metadata": {
  "kernelspec": {
   "display_name": "Python 3",
   "language": "python",
   "name": "python3"
  },
  "language_info": {
   "codemirror_mode": {
    "name": "ipython",
    "version": 3
   },
   "file_extension": ".py",
   "mimetype": "text/x-python",
   "name": "python",
   "nbconvert_exporter": "python",
   "pygments_lexer": "ipython3",
   "version": "3.11.3"
  },
  "orig_nbformat": 4
 },
 "nbformat": 4,
 "nbformat_minor": 2
}
