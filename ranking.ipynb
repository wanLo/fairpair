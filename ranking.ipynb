{
 "cells": [
  {
   "attachments": {},
   "cell_type": "markdown",
   "metadata": {},
   "source": [
    "# Apply Ranking Recovery Algorithms"
   ]
  },
  {
   "cell_type": "code",
   "execution_count": 1,
   "metadata": {},
   "outputs": [],
   "source": [
    "import pandas as pd\n",
    "import seaborn as sns\n",
    "\n",
    "from fairpair import *"
   ]
  },
  {
   "cell_type": "code",
   "execution_count": 2,
   "metadata": {},
   "outputs": [],
   "source": [
    "# create a FairPairGraph with disadvantaged minority\n",
    "G = FairPairGraph()\n",
    "G.generate_groups(15, 5)\n",
    "G.group_assign_scores(nodes=G.majority_nodes, distr=Distributions.normal_distr)\n",
    "G.group_assign_scores(nodes=G.minority_nodes, distr=Distributions.normal_distr, loc=0.3, scale=0.2) # give a disadvantage to the minority"
   ]
  },
  {
   "cell_type": "code",
   "execution_count": 3,
   "metadata": {},
   "outputs": [
    {
     "data": {
      "text/html": [
       "<div>\n",
       "<style scoped>\n",
       "    .dataframe tbody tr th:only-of-type {\n",
       "        vertical-align: middle;\n",
       "    }\n",
       "\n",
       "    .dataframe tbody tr th {\n",
       "        vertical-align: top;\n",
       "    }\n",
       "\n",
       "    .dataframe thead th {\n",
       "        text-align: right;\n",
       "    }\n",
       "</style>\n",
       "<table border=\"1\" class=\"dataframe\">\n",
       "  <thead>\n",
       "    <tr style=\"text-align: right;\">\n",
       "      <th></th>\n",
       "      <th>node</th>\n",
       "      <th>orig score</th>\n",
       "      <th>rank score</th>\n",
       "    </tr>\n",
       "  </thead>\n",
       "  <tbody>\n",
       "    <tr>\n",
       "      <th>0</th>\n",
       "      <td>2</td>\n",
       "      <td>0.953540</td>\n",
       "      <td>16.872006</td>\n",
       "    </tr>\n",
       "    <tr>\n",
       "      <th>1</th>\n",
       "      <td>3</td>\n",
       "      <td>0.999900</td>\n",
       "      <td>12.384279</td>\n",
       "    </tr>\n",
       "    <tr>\n",
       "      <th>2</th>\n",
       "      <td>7</td>\n",
       "      <td>0.840066</td>\n",
       "      <td>11.133229</td>\n",
       "    </tr>\n",
       "    <tr>\n",
       "      <th>3</th>\n",
       "      <td>4</td>\n",
       "      <td>0.726021</td>\n",
       "      <td>9.904065</td>\n",
       "    </tr>\n",
       "    <tr>\n",
       "      <th>4</th>\n",
       "      <td>5</td>\n",
       "      <td>0.742329</td>\n",
       "      <td>9.210471</td>\n",
       "    </tr>\n",
       "    <tr>\n",
       "      <th>5</th>\n",
       "      <td>13</td>\n",
       "      <td>0.363570</td>\n",
       "      <td>7.479284</td>\n",
       "    </tr>\n",
       "    <tr>\n",
       "      <th>6</th>\n",
       "      <td>1</td>\n",
       "      <td>0.502196</td>\n",
       "      <td>5.479048</td>\n",
       "    </tr>\n",
       "    <tr>\n",
       "      <th>7</th>\n",
       "      <td>6</td>\n",
       "      <td>0.254406</td>\n",
       "      <td>2.668210</td>\n",
       "    </tr>\n",
       "    <tr>\n",
       "      <th>8</th>\n",
       "      <td>8</td>\n",
       "      <td>0.287535</td>\n",
       "      <td>2.666425</td>\n",
       "    </tr>\n",
       "    <tr>\n",
       "      <th>9</th>\n",
       "      <td>11</td>\n",
       "      <td>0.333772</td>\n",
       "      <td>2.371359</td>\n",
       "    </tr>\n",
       "    <tr>\n",
       "      <th>10</th>\n",
       "      <td>9</td>\n",
       "      <td>0.477434</td>\n",
       "      <td>0.947965</td>\n",
       "    </tr>\n",
       "    <tr>\n",
       "      <th>11</th>\n",
       "      <td>10</td>\n",
       "      <td>0.272330</td>\n",
       "      <td>0.864015</td>\n",
       "    </tr>\n",
       "    <tr>\n",
       "      <th>12</th>\n",
       "      <td>0</td>\n",
       "      <td>0.411357</td>\n",
       "      <td>-1.090087</td>\n",
       "    </tr>\n",
       "    <tr>\n",
       "      <th>13</th>\n",
       "      <td>14</td>\n",
       "      <td>0.119739</td>\n",
       "      <td>-21.947132</td>\n",
       "    </tr>\n",
       "    <tr>\n",
       "      <th>14</th>\n",
       "      <td>12</td>\n",
       "      <td>0.001457</td>\n",
       "      <td>-58.943137</td>\n",
       "    </tr>\n",
       "  </tbody>\n",
       "</table>\n",
       "</div>"
      ],
      "text/plain": [
       "    node  orig score  rank score\n",
       "0      2    0.953540   16.872006\n",
       "1      3    0.999900   12.384279\n",
       "2      7    0.840066   11.133229\n",
       "3      4    0.726021    9.904065\n",
       "4      5    0.742329    9.210471\n",
       "5     13    0.363570    7.479284\n",
       "6      1    0.502196    5.479048\n",
       "7      6    0.254406    2.668210\n",
       "8      8    0.287535    2.666425\n",
       "9     11    0.333772    2.371359\n",
       "10     9    0.477434    0.947965\n",
       "11    10    0.272330    0.864015\n",
       "12     0    0.411357   -1.090087\n",
       "13    14    0.119739  -21.947132\n",
       "14    12    0.001457  -58.943137"
      ]
     },
     "execution_count": 3,
     "metadata": {},
     "output_type": "execute_result"
    }
   ],
   "source": [
    "# run 100 iterations of ProbKnockout sampling\n",
    "sampler = OversampleMinority(G, warn=False)\n",
    "sampler.apply(iter=1000, k=1)\n",
    "# apply davidScore for ranking recovery\n",
    "ranker = RankRecovery(G)\n",
    "ranking, other_nodes = ranker.apply(rank_using=davidScore) # by default, apply rankCentrality method\n",
    "ranker._print_with_score(ranking) # sorted by rank score"
   ]
  },
  {
   "attachments": {},
   "cell_type": "markdown",
   "metadata": {},
   "source": [
    "## Metrics"
   ]
  },
  {
   "cell_type": "code",
   "execution_count": 4,
   "metadata": {},
   "outputs": [
    {
     "name": "stdout",
     "output_type": "stream",
     "text": [
      "Majority NDCG (by score): 0.9911708923483539\n",
      "Minority NDCG (by score): 0.9999999999999999\n",
      "Majority MSE (by score): 0.09999502061195491\n",
      "Minority MSE (by score): 0.17813764655060174\n"
     ]
    }
   ],
   "source": [
    "# score-based metrics\n",
    "print(\"Majority NDCG (by score):\", NDCG(G.majority, ranking)) # NDCG is only calculated as a \"in-group\" comparison because it is normalized\n",
    "print(\"Minority NDCG (by score):\", NDCG(G.minority, ranking))\n",
    "print(\"Majority MSE (by score):\", MSE(G.majority, ranking))\n",
    "print(\"Minority MSE (by score):\", MSE(G.minority, ranking))"
   ]
  },
  {
   "cell_type": "code",
   "execution_count": 5,
   "metadata": {},
   "outputs": [
    {
     "name": "stdout",
     "output_type": "stream",
     "text": [
      "Majority mean error (by rank): -0.3\n",
      "Minority mean error (by rank): 0.6\n",
      "Majority MSE (by rank): 7.5\n",
      "Minority MSE (by rank): 1.8\n",
      "Majority Spearman's rho: PearsonRResult(statistic=0.7319340236667495, pvalue=0.016104897630961866)\n",
      "Minority Spearman's rho: PearsonRResult(statistic=0.9592822086170635, pvalue=0.009802565122580105)\n"
     ]
    }
   ],
   "source": [
    "# rank-based metrics\n",
    "print(\"Majority mean error (by rank):\", rank_mean_error(G, ranking, G.majority))\n",
    "print(\"Minority mean error (by rank):\", rank_mean_error(G, ranking, G.minority))\n",
    "print(\"Majority MSE (by rank):\", rank_MSE(G, ranking, G.majority))\n",
    "print(\"Minority MSE (by rank):\", rank_MSE(G, ranking, G.minority))\n",
    "print(\"Majority Spearman's rho:\", spearmanr(G, ranking, G.majority))\n",
    "print(\"Minority Spearman's rho:\", spearmanr(G, ranking, G.minority))"
   ]
  },
  {
   "cell_type": "code",
   "execution_count": 6,
   "metadata": {},
   "outputs": [
    {
     "name": "stdout",
     "output_type": "stream",
     "text": [
      "Majority weighted Kendall tau: 0.016004196657975166\n",
      "Minority weighted Kendall tau: 0.04731395387384422\n"
     ]
    }
   ],
   "source": [
    "# weighted Kendall tau\n",
    "print(\"Majority weighted Kendall tau:\", weighted_tau(G, ranking, G.majority))\n",
    "print(\"Minority weighted Kendall tau:\", weighted_tau(G, ranking, G.minority))"
   ]
  }
 ],
 "metadata": {
  "kernelspec": {
   "display_name": "Python 3",
   "language": "python",
   "name": "python3"
  },
  "language_info": {
   "codemirror_mode": {
    "name": "ipython",
    "version": 3
   },
   "file_extension": ".py",
   "mimetype": "text/x-python",
   "name": "python",
   "nbconvert_exporter": "python",
   "pygments_lexer": "ipython3",
   "version": "3.11.3"
  },
  "orig_nbformat": 4
 },
 "nbformat": 4,
 "nbformat_minor": 2
}
