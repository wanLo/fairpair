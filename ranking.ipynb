{
 "cells": [
  {
   "attachments": {},
   "cell_type": "markdown",
   "metadata": {},
   "source": [
    "# Apply Ranking Recovery Algorithms"
   ]
  },
  {
   "cell_type": "code",
   "execution_count": 1,
   "metadata": {},
   "outputs": [],
   "source": [
    "import pandas as pd\n",
    "import seaborn as sns\n",
    "\n",
    "from fairpair import *"
   ]
  },
  {
   "cell_type": "code",
   "execution_count": 2,
   "metadata": {},
   "outputs": [],
   "source": [
    "# create a FairPairGraph with disadvantaged minority\n",
    "G = FairPairGraph()\n",
    "G.generate_groups(15, 5)\n",
    "G.group_assign_scores(nodes=G.majority_nodes, distr=Distributions.normal_distr)\n",
    "G.group_assign_scores(nodes=G.minority_nodes, distr=Distributions.normal_distr, loc=0.3, scale=0.2) # give a disadvantage to the minority"
   ]
  },
  {
   "cell_type": "code",
   "execution_count": 3,
   "metadata": {},
   "outputs": [
    {
     "data": {
      "text/html": [
       "<div>\n",
       "<style scoped>\n",
       "    .dataframe tbody tr th:only-of-type {\n",
       "        vertical-align: middle;\n",
       "    }\n",
       "\n",
       "    .dataframe tbody tr th {\n",
       "        vertical-align: top;\n",
       "    }\n",
       "\n",
       "    .dataframe thead th {\n",
       "        text-align: right;\n",
       "    }\n",
       "</style>\n",
       "<table border=\"1\" class=\"dataframe\">\n",
       "  <thead>\n",
       "    <tr style=\"text-align: right;\">\n",
       "      <th></th>\n",
       "      <th>node</th>\n",
       "      <th>orig score</th>\n",
       "      <th>rank score</th>\n",
       "    </tr>\n",
       "  </thead>\n",
       "  <tbody>\n",
       "    <tr>\n",
       "      <th>0</th>\n",
       "      <td>14</td>\n",
       "      <td>0.596430</td>\n",
       "      <td>9.868152</td>\n",
       "    </tr>\n",
       "    <tr>\n",
       "      <th>1</th>\n",
       "      <td>2</td>\n",
       "      <td>0.423971</td>\n",
       "      <td>9.577778</td>\n",
       "    </tr>\n",
       "    <tr>\n",
       "      <th>2</th>\n",
       "      <td>1</td>\n",
       "      <td>0.482185</td>\n",
       "      <td>9.363636</td>\n",
       "    </tr>\n",
       "    <tr>\n",
       "      <th>3</th>\n",
       "      <td>12</td>\n",
       "      <td>0.574583</td>\n",
       "      <td>7.291667</td>\n",
       "    </tr>\n",
       "    <tr>\n",
       "      <th>4</th>\n",
       "      <td>5</td>\n",
       "      <td>0.413708</td>\n",
       "      <td>6.539216</td>\n",
       "    </tr>\n",
       "    <tr>\n",
       "      <th>5</th>\n",
       "      <td>8</td>\n",
       "      <td>0.314513</td>\n",
       "      <td>-2.924896</td>\n",
       "    </tr>\n",
       "    <tr>\n",
       "      <th>6</th>\n",
       "      <td>10</td>\n",
       "      <td>0.333572</td>\n",
       "      <td>-2.924896</td>\n",
       "    </tr>\n",
       "    <tr>\n",
       "      <th>7</th>\n",
       "      <td>11</td>\n",
       "      <td>0.336343</td>\n",
       "      <td>-2.924896</td>\n",
       "    </tr>\n",
       "    <tr>\n",
       "      <th>8</th>\n",
       "      <td>9</td>\n",
       "      <td>0.182989</td>\n",
       "      <td>-6.310101</td>\n",
       "    </tr>\n",
       "    <tr>\n",
       "      <th>9</th>\n",
       "      <td>13</td>\n",
       "      <td>0.252433</td>\n",
       "      <td>-8.800654</td>\n",
       "    </tr>\n",
       "    <tr>\n",
       "      <th>10</th>\n",
       "      <td>7</td>\n",
       "      <td>0.442769</td>\n",
       "      <td>-9.245559</td>\n",
       "    </tr>\n",
       "    <tr>\n",
       "      <th>11</th>\n",
       "      <td>4</td>\n",
       "      <td>0.775085</td>\n",
       "      <td>-9.509447</td>\n",
       "    </tr>\n",
       "  </tbody>\n",
       "</table>\n",
       "</div>"
      ],
      "text/plain": [
       "    node  orig score  rank score\n",
       "0     14    0.596430    9.868152\n",
       "1      2    0.423971    9.577778\n",
       "2      1    0.482185    9.363636\n",
       "3     12    0.574583    7.291667\n",
       "4      5    0.413708    6.539216\n",
       "5      8    0.314513   -2.924896\n",
       "6     10    0.333572   -2.924896\n",
       "7     11    0.336343   -2.924896\n",
       "8      9    0.182989   -6.310101\n",
       "9     13    0.252433   -8.800654\n",
       "10     7    0.442769   -9.245559\n",
       "11     4    0.775085   -9.509447"
      ]
     },
     "execution_count": 3,
     "metadata": {},
     "output_type": "execute_result"
    }
   ],
   "source": [
    "# run 100 iterations of ProbKnockout sampling\n",
    "sampler = ProbKnockoutSampling(G, warn=False)\n",
    "sampler.apply(iter=100, k=1)\n",
    "# apply davidScore for ranking recovery\n",
    "ranker = RankRecovery(G)\n",
    "ranking, other_nodes = ranker.apply(rank_using=davidScore) # by default, apply rankCentrality method\n",
    "ranker._print_with_score(ranking) # sorted by rank score"
   ]
  },
  {
   "attachments": {},
   "cell_type": "markdown",
   "metadata": {},
   "source": [
    "## Metrics"
   ]
  },
  {
   "cell_type": "code",
   "execution_count": 4,
   "metadata": {},
   "outputs": [
    {
     "name": "stdout",
     "output_type": "stream",
     "text": [
      "Majority NDCG (by score): 0.8574133040787919\n",
      "Minority NDCG (by score): 0.9999298265692861\n",
      "Majority MSE (by score): 0.2163303443296062\n",
      "Minority MSE (by score): 0.05900863944774899\n"
     ]
    }
   ],
   "source": [
    "# score-based metrics\n",
    "print(\"Majority NDCG (by score):\", ranker.calc_NDCG(G.majority, ranking)) # NDCG is only calculated as a \"in-group\" comparison because it is normalized\n",
    "print(\"Minority NDCG (by score):\", ranker.calc_NDCG(G.minority, ranking))\n",
    "print(\"Majority MSE (by score):\", ranker.calc_MSE(G.majority, ranking))\n",
    "print(\"Minority MSE (by score):\", ranker.calc_MSE(G.minority, ranking))"
   ]
  },
  {
   "cell_type": "code",
   "execution_count": 5,
   "metadata": {},
   "outputs": [
    {
     "name": "stdout",
     "output_type": "stream",
     "text": [
      "Majority mean error (by rank): 1.0\n",
      "Minority mean error (by rank): 2.4\n",
      "Majority MSE (by rank): 34.714285714285715\n",
      "Minority MSE (by rank): 7.6\n"
     ]
    }
   ],
   "source": [
    "# rank-based matrics\n",
    "print(\"Majority mean error (by rank):\", ranker.calc_rank_mean_error(G.majority, ranking))\n",
    "print(\"Minority mean error (by rank):\", ranker.calc_rank_mean_error(G.minority, ranking))\n",
    "print(\"Majority MSE (by rank):\", ranker.calc_rank_MSE(G.majority, ranking))\n",
    "print(\"Minority MSE (by rank):\", ranker.calc_rank_MSE(G.minority, ranking))"
   ]
  }
 ],
 "metadata": {
  "kernelspec": {
   "display_name": "Python 3",
   "language": "python",
   "name": "python3"
  },
  "language_info": {
   "codemirror_mode": {
    "name": "ipython",
    "version": 3
   },
   "file_extension": ".py",
   "mimetype": "text/x-python",
   "name": "python",
   "nbconvert_exporter": "python",
   "pygments_lexer": "ipython3",
   "version": "3.11.3"
  },
  "orig_nbformat": 4
 },
 "nbformat": 4,
 "nbformat_minor": 2
}
