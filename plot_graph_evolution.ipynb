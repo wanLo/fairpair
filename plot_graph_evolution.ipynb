{
 "cells": [
  {
   "attachments": {},
   "cell_type": "markdown",
   "metadata": {},
   "source": [
    "# Concat multiple iterations of sampling for coherent layout in Gephi"
   ]
  },
  {
   "cell_type": "code",
   "execution_count": 39,
   "metadata": {},
   "outputs": [],
   "source": [
    "import numpy as np\n",
    "import pandas as pd\n",
    "import networkx as nx\n",
    "\n",
    "from fairpair import *"
   ]
  },
  {
   "cell_type": "code",
   "execution_count": 40,
   "metadata": {},
   "outputs": [],
   "source": [
    "G = FairPairGraph()\n",
    "G.generate_groups(15, 5)\n",
    "G.group_assign_scores(nodes=G.majority_nodes, distr=Distributions.normal_distr)\n",
    "G.group_assign_scores(nodes=G.minority_nodes, distr=Distributions.normal_distr, loc=0.3, scale=0.2) # give a disadvantage to the minority"
   ]
  },
  {
   "cell_type": "code",
   "execution_count": 41,
   "metadata": {},
   "outputs": [],
   "source": [
    "H = nx.MultiDiGraph()\n",
    "H.add_nodes_from(G.nodes(data=True))"
   ]
  },
  {
   "cell_type": "code",
   "execution_count": 42,
   "metadata": {},
   "outputs": [
    {
     "name": "stdout",
     "output_type": "stream",
     "text": [
      "8\n",
      "20\n",
      "36\n",
      "52\n",
      "72\n",
      "92\n",
      "112\n",
      "134\n",
      "158\n",
      "182\n"
     ]
    }
   ],
   "source": [
    "for iteration in range(10):\n",
    "    sampling = ProbKnockoutSampling(G, warn=False)\n",
    "    sampling.apply(iter=1, k=1)\n",
    "    # get the current graph and add it to the multigraph, but label edges by iteration\n",
    "    edges = [(i, j, {**data, 'iteration': iteration}) for i, j, data in G.edges(data=True)]\n",
    "    H.add_edges_from(edges)\n",
    "    print(len(H.edges))"
   ]
  },
  {
   "cell_type": "code",
   "execution_count": 43,
   "metadata": {},
   "outputs": [
    {
     "data": {
      "text/plain": [
       "OutMultiEdgeDataView([(0, 7, {'wins': 1, 'weight': 1.0, 'iteration': 0}), (0, 7, {'wins': 1, 'weight': 1.0, 'iteration': 1}), (0, 7, {'wins': 1, 'weight': 1.0, 'iteration': 2}), (0, 7, {'wins': 1, 'weight': 1.0, 'iteration': 3}), (0, 7, {'wins': 1, 'weight': 1.0, 'iteration': 4}), (0, 7, {'wins': 1, 'weight': 1.0, 'iteration': 5}), (0, 7, {'wins': 1, 'weight': 1.0, 'iteration': 6}), (0, 7, {'wins': 1, 'weight': 1.0, 'iteration': 7}), (0, 7, {'wins': 1, 'weight': 1.0, 'iteration': 8}), (0, 7, {'wins': 1, 'weight': 1.0, 'iteration': 9}), (1, 11, {'wins': 0, 'weight': 0.0, 'iteration': 7}), (1, 11, {'wins': 0, 'weight': 0.0, 'iteration': 8}), (1, 11, {'wins': 0, 'weight': 0.0, 'iteration': 9}), (1, 9, {'wins': 0, 'weight': 0.0, 'iteration': 8}), (1, 9, {'wins': 0, 'weight': 0.0, 'iteration': 9}), (4, 9, {'wins': 1, 'weight': 1.0, 'iteration': 0}), (4, 9, {'wins': 1, 'weight': 1.0, 'iteration': 1}), (4, 9, {'wins': 1, 'weight': 1.0, 'iteration': 2}), (4, 9, {'wins': 1, 'weight': 1.0, 'iteration': 3}), (4, 9, {'wins': 1, 'weight': 1.0, 'iteration': 4}), (4, 9, {'wins': 1, 'weight': 1.0, 'iteration': 5}), (4, 9, {'wins': 1, 'weight': 1.0, 'iteration': 6}), (4, 9, {'wins': 1, 'weight': 1.0, 'iteration': 7}), (4, 9, {'wins': 1, 'weight': 1.0, 'iteration': 8}), (4, 9, {'wins': 1, 'weight': 1.0, 'iteration': 9}), (6, 10, {'wins': 0, 'weight': 0.0, 'iteration': 0}), (6, 10, {'wins': 0, 'weight': 0.0, 'iteration': 1}), (6, 10, {'wins': 0, 'weight': 0.0, 'iteration': 2}), (6, 10, {'wins': 0, 'weight': 0.0, 'iteration': 3}), (6, 10, {'wins': 0, 'weight': 0.0, 'iteration': 4}), (6, 10, {'wins': 0, 'weight': 0.0, 'iteration': 5}), (6, 10, {'wins': 0, 'weight': 0.0, 'iteration': 6}), (6, 10, {'wins': 0, 'weight': 0.0, 'iteration': 7}), (6, 10, {'wins': 0, 'weight': 0.0, 'iteration': 8}), (6, 10, {'wins': 0, 'weight': 0.0, 'iteration': 9}), (6, 7, {'wins': 1, 'weight': 1.0, 'iteration': 1}), (6, 7, {'wins': 1, 'weight': 1.0, 'iteration': 2}), (6, 7, {'wins': 2, 'weight': 1.0, 'iteration': 3}), (6, 7, {'wins': 2, 'weight': 1.0, 'iteration': 4}), (6, 7, {'wins': 2, 'weight': 1.0, 'iteration': 5}), (6, 7, {'wins': 2, 'weight': 1.0, 'iteration': 6}), (6, 7, {'wins': 2, 'weight': 1.0, 'iteration': 7}), (6, 7, {'wins': 3, 'weight': 1.0, 'iteration': 8}), (6, 7, {'wins': 3, 'weight': 1.0, 'iteration': 9}), (6, 9, {'wins': 0, 'weight': 0.0, 'iteration': 2}), (6, 9, {'wins': 0, 'weight': 0.0, 'iteration': 3}), (6, 9, {'wins': 0, 'weight': 0.0, 'iteration': 4}), (6, 9, {'wins': 0, 'weight': 0.0, 'iteration': 5}), (6, 9, {'wins': 0, 'weight': 0.0, 'iteration': 6}), (6, 9, {'wins': 0, 'weight': 0.0, 'iteration': 7}), (6, 9, {'wins': 0, 'weight': 0.0, 'iteration': 8}), (6, 9, {'wins': 0, 'weight': 0.0, 'iteration': 9}), (6, 11, {'wins': 1, 'weight': 1.0, 'iteration': 4}), (6, 11, {'wins': 1, 'weight': 1.0, 'iteration': 5}), (6, 11, {'wins': 1, 'weight': 1.0, 'iteration': 6}), (6, 11, {'wins': 1, 'weight': 1.0, 'iteration': 7}), (6, 11, {'wins': 1, 'weight': 1.0, 'iteration': 8}), (6, 11, {'wins': 1, 'weight': 1.0, 'iteration': 9}), (7, 0, {'wins': 0, 'weight': 0.0, 'iteration': 0}), (7, 0, {'wins': 0, 'weight': 0.0, 'iteration': 1}), (7, 0, {'wins': 0, 'weight': 0.0, 'iteration': 2}), (7, 0, {'wins': 0, 'weight': 0.0, 'iteration': 3}), (7, 0, {'wins': 0, 'weight': 0.0, 'iteration': 4}), (7, 0, {'wins': 0, 'weight': 0.0, 'iteration': 5}), (7, 0, {'wins': 0, 'weight': 0.0, 'iteration': 6}), (7, 0, {'wins': 0, 'weight': 0.0, 'iteration': 7}), (7, 0, {'wins': 0, 'weight': 0.0, 'iteration': 8}), (7, 0, {'wins': 0, 'weight': 0.0, 'iteration': 9}), (7, 6, {'wins': 0, 'weight': 0.0, 'iteration': 1}), (7, 6, {'wins': 0, 'weight': 0.0, 'iteration': 2}), (7, 6, {'wins': 0, 'weight': 0.0, 'iteration': 3}), (7, 6, {'wins': 0, 'weight': 0.0, 'iteration': 4}), (7, 6, {'wins': 0, 'weight': 0.0, 'iteration': 5}), (7, 6, {'wins': 0, 'weight': 0.0, 'iteration': 6}), (7, 6, {'wins': 0, 'weight': 0.0, 'iteration': 7}), (7, 6, {'wins': 0, 'weight': 0.0, 'iteration': 8}), (7, 6, {'wins': 0, 'weight': 0.0, 'iteration': 9}), (7, 11, {'wins': 1, 'weight': 1.0, 'iteration': 2}), (7, 11, {'wins': 1, 'weight': 1.0, 'iteration': 3}), (7, 11, {'wins': 1, 'weight': 1.0, 'iteration': 4}), (7, 11, {'wins': 2, 'weight': 1.0, 'iteration': 5}), (7, 11, {'wins': 2, 'weight': 1.0, 'iteration': 6}), (7, 11, {'wins': 2, 'weight': 1.0, 'iteration': 7}), (7, 11, {'wins': 2, 'weight': 1.0, 'iteration': 8}), (7, 11, {'wins': 2, 'weight': 1.0, 'iteration': 9}), (7, 9, {'wins': 1, 'weight': 1.0, 'iteration': 4}), (7, 9, {'wins': 1, 'weight': 1.0, 'iteration': 5}), (7, 9, {'wins': 1, 'weight': 1.0, 'iteration': 6}), (7, 9, {'wins': 1, 'weight': 1.0, 'iteration': 7}), (7, 9, {'wins': 1, 'weight': 1.0, 'iteration': 8}), (7, 9, {'wins': 1, 'weight': 1.0, 'iteration': 9}), (9, 4, {'wins': 0, 'weight': 0.0, 'iteration': 0}), (9, 4, {'wins': 0, 'weight': 0.0, 'iteration': 1}), (9, 4, {'wins': 0, 'weight': 0.0, 'iteration': 2}), (9, 4, {'wins': 0, 'weight': 0.0, 'iteration': 3}), (9, 4, {'wins': 0, 'weight': 0.0, 'iteration': 4}), (9, 4, {'wins': 0, 'weight': 0.0, 'iteration': 5}), (9, 4, {'wins': 0, 'weight': 0.0, 'iteration': 6}), (9, 4, {'wins': 0, 'weight': 0.0, 'iteration': 7}), (9, 4, {'wins': 0, 'weight': 0.0, 'iteration': 8}), (9, 4, {'wins': 0, 'weight': 0.0, 'iteration': 9}), (9, 11, {'wins': 0, 'weight': 0.0, 'iteration': 1}), (9, 11, {'wins': 0, 'weight': 0.0, 'iteration': 2}), (9, 11, {'wins': 1, 'weight': 0.5, 'iteration': 3}), (9, 11, {'wins': 1, 'weight': 0.5, 'iteration': 4}), (9, 11, {'wins': 1, 'weight': 0.5, 'iteration': 5}), (9, 11, {'wins': 1, 'weight': 0.33333333333333337, 'iteration': 6}), (9, 11, {'wins': 1, 'weight': 0.33333333333333337, 'iteration': 7}), (9, 11, {'wins': 1, 'weight': 0.33333333333333337, 'iteration': 8}), (9, 11, {'wins': 1, 'weight': 0.33333333333333337, 'iteration': 9}), (9, 6, {'wins': 1, 'weight': 1.0, 'iteration': 2}), (9, 6, {'wins': 1, 'weight': 1.0, 'iteration': 3}), (9, 6, {'wins': 1, 'weight': 1.0, 'iteration': 4}), (9, 6, {'wins': 1, 'weight': 1.0, 'iteration': 5}), (9, 6, {'wins': 1, 'weight': 1.0, 'iteration': 6}), (9, 6, {'wins': 2, 'weight': 1.0, 'iteration': 7}), (9, 6, {'wins': 2, 'weight': 1.0, 'iteration': 8}), (9, 6, {'wins': 2, 'weight': 1.0, 'iteration': 9}), (9, 7, {'wins': 0, 'weight': 0.0, 'iteration': 4}), (9, 7, {'wins': 0, 'weight': 0.0, 'iteration': 5}), (9, 7, {'wins': 0, 'weight': 0.0, 'iteration': 6}), (9, 7, {'wins': 0, 'weight': 0.0, 'iteration': 7}), (9, 7, {'wins': 0, 'weight': 0.0, 'iteration': 8}), (9, 7, {'wins': 0, 'weight': 0.0, 'iteration': 9}), (9, 1, {'wins': 1, 'weight': 1.0, 'iteration': 8}), (9, 1, {'wins': 1, 'weight': 1.0, 'iteration': 9}), (10, 6, {'wins': 1, 'weight': 1.0, 'iteration': 0}), (10, 6, {'wins': 1, 'weight': 1.0, 'iteration': 1}), (10, 6, {'wins': 1, 'weight': 1.0, 'iteration': 2}), (10, 6, {'wins': 1, 'weight': 1.0, 'iteration': 3}), (10, 6, {'wins': 1, 'weight': 1.0, 'iteration': 4}), (10, 6, {'wins': 1, 'weight': 1.0, 'iteration': 5}), (10, 6, {'wins': 1, 'weight': 1.0, 'iteration': 6}), (10, 6, {'wins': 1, 'weight': 1.0, 'iteration': 7}), (10, 6, {'wins': 1, 'weight': 1.0, 'iteration': 8}), (10, 6, {'wins': 1, 'weight': 1.0, 'iteration': 9}), (11, 12, {'wins': 0, 'weight': 0.0, 'iteration': 0}), (11, 12, {'wins': 0, 'weight': 0.0, 'iteration': 1}), (11, 12, {'wins': 0, 'weight': 0.0, 'iteration': 2}), (11, 12, {'wins': 0, 'weight': 0.0, 'iteration': 3}), (11, 12, {'wins': 0, 'weight': 0.0, 'iteration': 4}), (11, 12, {'wins': 0, 'weight': 0.0, 'iteration': 5}), (11, 12, {'wins': 0, 'weight': 0.0, 'iteration': 6}), (11, 12, {'wins': 0, 'weight': 0.0, 'iteration': 7}), (11, 12, {'wins': 0, 'weight': 0.0, 'iteration': 8}), (11, 12, {'wins': 0, 'weight': 0.0, 'iteration': 9}), (11, 9, {'wins': 1, 'weight': 1.0, 'iteration': 1}), (11, 9, {'wins': 1, 'weight': 1.0, 'iteration': 2}), (11, 9, {'wins': 1, 'weight': 0.5, 'iteration': 3}), (11, 9, {'wins': 1, 'weight': 0.5, 'iteration': 4}), (11, 9, {'wins': 1, 'weight': 0.5, 'iteration': 5}), (11, 9, {'wins': 2, 'weight': 0.6666666666666666, 'iteration': 6}), (11, 9, {'wins': 2, 'weight': 0.6666666666666666, 'iteration': 7}), (11, 9, {'wins': 2, 'weight': 0.6666666666666666, 'iteration': 8}), (11, 9, {'wins': 2, 'weight': 0.6666666666666666, 'iteration': 9}), (11, 7, {'wins': 0, 'weight': 0.0, 'iteration': 2}), (11, 7, {'wins': 0, 'weight': 0.0, 'iteration': 3}), (11, 7, {'wins': 0, 'weight': 0.0, 'iteration': 4}), (11, 7, {'wins': 0, 'weight': 0.0, 'iteration': 5}), (11, 7, {'wins': 0, 'weight': 0.0, 'iteration': 6}), (11, 7, {'wins': 0, 'weight': 0.0, 'iteration': 7}), (11, 7, {'wins': 0, 'weight': 0.0, 'iteration': 8}), (11, 7, {'wins': 0, 'weight': 0.0, 'iteration': 9}), (11, 6, {'wins': 0, 'weight': 0.0, 'iteration': 4}), (11, 6, {'wins': 0, 'weight': 0.0, 'iteration': 5}), (11, 6, {'wins': 0, 'weight': 0.0, 'iteration': 6}), (11, 6, {'wins': 0, 'weight': 0.0, 'iteration': 7}), (11, 6, {'wins': 0, 'weight': 0.0, 'iteration': 8}), (11, 6, {'wins': 0, 'weight': 0.0, 'iteration': 9}), (11, 1, {'wins': 1, 'weight': 1.0, 'iteration': 7}), (11, 1, {'wins': 1, 'weight': 1.0, 'iteration': 8}), (11, 1, {'wins': 2, 'weight': 1.0, 'iteration': 9}), (12, 11, {'wins': 1, 'weight': 1.0, 'iteration': 0}), (12, 11, {'wins': 1, 'weight': 1.0, 'iteration': 1}), (12, 11, {'wins': 1, 'weight': 1.0, 'iteration': 2}), (12, 11, {'wins': 1, 'weight': 1.0, 'iteration': 3}), (12, 11, {'wins': 1, 'weight': 1.0, 'iteration': 4}), (12, 11, {'wins': 1, 'weight': 1.0, 'iteration': 5}), (12, 11, {'wins': 1, 'weight': 1.0, 'iteration': 6}), (12, 11, {'wins': 1, 'weight': 1.0, 'iteration': 7}), (12, 11, {'wins': 1, 'weight': 1.0, 'iteration': 8}), (12, 11, {'wins': 1, 'weight': 1.0, 'iteration': 9})])"
      ]
     },
     "execution_count": 43,
     "metadata": {},
     "output_type": "execute_result"
    }
   ],
   "source": [
    "H.edges(data=True)"
   ]
  },
  {
   "cell_type": "code",
   "execution_count": 44,
   "metadata": {},
   "outputs": [],
   "source": [
    "for node in H.nodes(data=True):\n",
    "    node[1]['minority'] = bool(node[1]['minority']) # convert from numpy\n",
    "nx.write_gexf(H, 'data/multigraphtest.gexf')"
   ]
  },
  {
   "cell_type": "code",
   "execution_count": null,
   "metadata": {},
   "outputs": [],
   "source": []
  }
 ],
 "metadata": {
  "kernelspec": {
   "display_name": "Python 3",
   "language": "python",
   "name": "python3"
  },
  "language_info": {
   "codemirror_mode": {
    "name": "ipython",
    "version": 3
   },
   "file_extension": ".py",
   "mimetype": "text/x-python",
   "name": "python",
   "nbconvert_exporter": "python",
   "pygments_lexer": "ipython3",
   "version": "3.11.3"
  },
  "orig_nbformat": 4
 },
 "nbformat": 4,
 "nbformat_minor": 2
}
