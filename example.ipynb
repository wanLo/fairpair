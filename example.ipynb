{
 "cells": [
  {
   "cell_type": "code",
   "execution_count": 18,
   "metadata": {},
   "outputs": [],
   "source": [
    "import numpy as np\n",
    "import networkx as nx\n",
    "import matplotlib as plt\n",
    "\n",
    "from fairpair import FairPairGraph, Distributions, random_list_to_pairs, RandomSampling, ProbKnockoutSampling, OversampleMinority"
   ]
  },
  {
   "cell_type": "code",
   "execution_count": 19,
   "metadata": {},
   "outputs": [
    {
     "name": "stdout",
     "output_type": "stream",
     "text": [
      "{'minority': False}\n",
      "{'minority': False}\n",
      "{'minority': True}\n",
      "{'minority': True}\n",
      "{'minority': True}\n"
     ]
    }
   ],
   "source": [
    "# Initialize the graph with nodes labeled majority or minority\n",
    "G = FairPairGraph()\n",
    "G.generate_groups(500, 200)\n",
    "\n",
    "for i in range(298, 303):\n",
    "    print(G.nodes(data=True)[i])"
   ]
  },
  {
   "cell_type": "code",
   "execution_count": 20,
   "metadata": {},
   "outputs": [
    {
     "name": "stdout",
     "output_type": "stream",
     "text": [
      "{'minority': False}\n",
      "{'minority': True}\n",
      "{'minority': True}\n",
      "{'minority': False}\n",
      "{'minority': False}\n"
     ]
    }
   ],
   "source": [
    "# Add randomization to the group label attribution\n",
    "G = FairPairGraph()\n",
    "G.add_nodes_from(np.arange(500))\n",
    "G.label_minority(200, random=True)\n",
    "\n",
    "for i in range(5):\n",
    "    print(G.nodes(data=True)[i])"
   ]
  },
  {
   "cell_type": "code",
   "execution_count": 21,
   "metadata": {},
   "outputs": [
    {
     "data": {
      "text/plain": [
       "<fairpair.fairgraph.FairPairGraph at 0x118e3ec90>"
      ]
     },
     "execution_count": 21,
     "metadata": {},
     "output_type": "execute_result"
    }
   ],
   "source": [
    "# Access the minority subgraph (read-only)\n",
    "G.minority"
   ]
  },
  {
   "cell_type": "code",
   "execution_count": 22,
   "metadata": {},
   "outputs": [
    {
     "data": {
      "text/plain": [
       "[0, 3, 4, 5, 6, 7, 10, 14, 15, 16, 17, 19, 20, 22, 25, 26, 27, 28, 29, 30]"
      ]
     },
     "execution_count": 22,
     "metadata": {},
     "output_type": "execute_result"
    }
   ],
   "source": [
    "# Access the majority nodes\n",
    "G.majority_nodes[:20]"
   ]
  },
  {
   "cell_type": "code",
   "execution_count": 23,
   "metadata": {},
   "outputs": [
    {
     "data": {
      "text/plain": [
       "{'minority': True, 'score': 0.5862874650450427}"
      ]
     },
     "execution_count": 23,
     "metadata": {},
     "output_type": "execute_result"
    }
   ],
   "source": [
    "# Assign scores to the majority and minority respectively\n",
    "G.group_assign_scores(nodes=G.majority_nodes, distr=Distributions.normal_distr)\n",
    "G.group_assign_scores(nodes=G.minority_nodes, distr=Distributions.normal_distr, loc=0.4) # give a disadvantage to the minority\n",
    "G.nodes(data=True)[11]"
   ]
  },
  {
   "cell_type": "code",
   "execution_count": 24,
   "metadata": {},
   "outputs": [
    {
     "name": "stdout",
     "output_type": "stream",
     "text": [
      "before: 0.4874004272048572 0.35483285293025796 []\n",
      "after: 0.4874004272048572 0.35483285293025796 [(1, 5, {'wins': 10, 'weight': 0.3333333333333333}), (5, 1, {'wins': 20, 'weight': 0.6666666666666667})]\n"
     ]
    }
   ],
   "source": [
    "# Compare pairs using the BTL-model\n",
    "print('before:', G.nodes[1]['score'], G.nodes[5]['score'], G.edges(data=True))\n",
    "G.compare_pair(1, 5, k=30)\n",
    "print('after:', G.nodes[1]['score'], G.nodes[5]['score'], G.edges(data=True))"
   ]
  },
  {
   "cell_type": "code",
   "execution_count": 25,
   "metadata": {},
   "outputs": [
    {
     "name": "stdout",
     "output_type": "stream",
     "text": [
      "0.4874004272048572 0.35483285293025796 [(1, 5, {'wins': 24, 'weight': 0.4}), (5, 1, {'wins': 36, 'weight': 0.6})]\n"
     ]
    }
   ],
   "source": [
    "# Sum up additional comparisons with already existing ones\n",
    "G.compare_pair(1, 5, k=30)\n",
    "print(G.nodes[1]['score'], G.nodes[5]['score'], G.edges(data=True))"
   ]
  },
  {
   "cell_type": "code",
   "execution_count": 26,
   "metadata": {},
   "outputs": [
    {
     "data": {
      "text/plain": [
       "[(3, 0), (2, 7), (8, 1), (9, 5), (4, 6)]"
      ]
     },
     "execution_count": 26,
     "metadata": {},
     "output_type": "execute_result"
    }
   ],
   "source": [
    "random_list_to_pairs(G, range(10))"
   ]
  },
  {
   "attachments": {},
   "cell_type": "markdown",
   "metadata": {},
   "source": [
    "## Random Sampling"
   ]
  },
  {
   "cell_type": "code",
   "execution_count": 27,
   "metadata": {},
   "outputs": [
    {
     "data": {
      "text/plain": [
       "OutEdgeDataView([])"
      ]
     },
     "execution_count": 27,
     "metadata": {},
     "output_type": "execute_result"
    }
   ],
   "source": [
    "# Generate a new Graph to test random sampling\n",
    "G = FairPairGraph()\n",
    "G.generate_groups(20, 5)\n",
    "G.group_assign_scores(nodes=G.majority_nodes, distr=Distributions.normal_distr)\n",
    "G.group_assign_scores(nodes=G.minority_nodes, distr=Distributions.normal_distr, loc=0.1) # give a disadvantage to the minority\n",
    "G.edges(data=True)"
   ]
  },
  {
   "cell_type": "code",
   "execution_count": 28,
   "metadata": {},
   "outputs": [
    {
     "name": "stdout",
     "output_type": "stream",
     "text": [
      "minority success rate: 0.44\n",
      "majority success rate: 0.47\n"
     ]
    }
   ],
   "source": [
    "sampling = RandomSampling(G)\n",
    "sampling.apply(iter = 8)\n",
    "print('minority success rate:', round(np.mean([rate for node, rate in G.minority.success_rates]), 2))\n",
    "print('majority success rate:', round(np.mean([rate for node, rate in G.majority.success_rates]), 2))"
   ]
  },
  {
   "cell_type": "code",
   "execution_count": 29,
   "metadata": {},
   "outputs": [],
   "source": [
    "pos=nx.drawing.layout.spring_layout(G)\n",
    "colors = ['red' if node[1]['minority'] else 'blue' for node in G.nodes(data=True)]\n",
    "edges,weights = zip(*nx.get_edge_attributes(G,'weight').items())\n",
    "#nx.drawing.nx_pylab.draw_networkx(G, pos, node_color=colors, with_labels=False, node_size=50, edge_color=weights, width=2, edge_cmap=plt.cm.Blues)"
   ]
  },
  {
   "cell_type": "code",
   "execution_count": 30,
   "metadata": {},
   "outputs": [],
   "source": [
    "for node in G.nodes(data=True):\n",
    "    node[1]['minority'] = bool(node[1]['minority']) # convert from numpy\n",
    "nx.write_gexf(G, './data/fairpairgraphtest.gexf')"
   ]
  },
  {
   "attachments": {},
   "cell_type": "markdown",
   "metadata": {},
   "source": [
    "## ProbKnockout Sampling"
   ]
  },
  {
   "cell_type": "code",
   "execution_count": 31,
   "metadata": {},
   "outputs": [],
   "source": [
    "# Generate a new Graph to test probKnockout sampling\n",
    "G = FairPairGraph()\n",
    "G.generate_groups(20, 5)\n",
    "G.group_assign_scores(nodes=G.majority_nodes, distr=Distributions.normal_distr)\n",
    "G.group_assign_scores(nodes=G.minority_nodes, distr=Distributions.normal_distr, loc=0.1) # give a disadvantage to the minority"
   ]
  },
  {
   "cell_type": "code",
   "execution_count": 32,
   "metadata": {},
   "outputs": [
    {
     "name": "stdout",
     "output_type": "stream",
     "text": [
      "minority success rate: 0.2\n",
      "majority success rate: 0.07\n"
     ]
    }
   ],
   "source": [
    "sampling = ProbKnockoutSampling(G)\n",
    "sampling.apply(iter = 8)\n",
    "print('minority success rate:', round(np.mean([rate for node, rate in G.minority.success_rates]), 2))\n",
    "print('majority success rate:', round(np.mean([rate for node, rate in G.majority.success_rates]), 2))"
   ]
  },
  {
   "attachments": {},
   "cell_type": "markdown",
   "metadata": {},
   "source": [
    "## OversampleMinority"
   ]
  },
  {
   "cell_type": "code",
   "execution_count": 33,
   "metadata": {},
   "outputs": [],
   "source": [
    "# Generate a new Graph to test OversampleMinority\n",
    "G = FairPairGraph()\n",
    "G.generate_groups(20, 5)\n",
    "G.group_assign_scores(nodes=G.majority_nodes, distr=Distributions.normal_distr)\n",
    "G.group_assign_scores(nodes=G.minority_nodes, distr=Distributions.normal_distr, loc=0.1) # give a disadvantage to the minority"
   ]
  },
  {
   "cell_type": "code",
   "execution_count": 34,
   "metadata": {},
   "outputs": [
    {
     "name": "stdout",
     "output_type": "stream",
     "text": [
      "minority success rate: 0.44\n",
      "majority success rate: 0.42\n"
     ]
    }
   ],
   "source": [
    "sampling = OversampleMinority(G)\n",
    "sampling.apply(iter=8, n=5)\n",
    "print('minority success rate:', round(np.mean([rate for node, rate in G.minority.success_rates]), 2))\n",
    "print('majority success rate:', round(np.mean([rate for node, rate in G.majority.success_rates]), 2))"
   ]
  },
  {
   "cell_type": "code",
   "execution_count": null,
   "metadata": {},
   "outputs": [],
   "source": []
  }
 ],
 "metadata": {
  "kernelspec": {
   "display_name": "Python 3",
   "language": "python",
   "name": "python3"
  },
  "language_info": {
   "codemirror_mode": {
    "name": "ipython",
    "version": 3
   },
   "file_extension": ".py",
   "mimetype": "text/x-python",
   "name": "python",
   "nbconvert_exporter": "python",
   "pygments_lexer": "ipython3",
   "version": "3.11.3"
  },
  "orig_nbformat": 4
 },
 "nbformat": 4,
 "nbformat_minor": 2
}
