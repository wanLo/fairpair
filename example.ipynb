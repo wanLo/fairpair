{
 "cells": [
  {
   "attachments": {},
   "cell_type": "markdown",
   "metadata": {},
   "source": [
    "# FairPair Demo"
   ]
  },
  {
   "cell_type": "code",
   "execution_count": 1,
   "metadata": {},
   "outputs": [],
   "source": [
    "import numpy as np\n",
    "import networkx as nx\n",
    "import matplotlib as plt\n",
    "\n",
    "from fairpair import FairPairGraph, Distributions, random_list_to_pairs, RandomSampling"
   ]
  },
  {
   "attachments": {},
   "cell_type": "markdown",
   "metadata": {},
   "source": [
    "## Create graph with labeled nodes"
   ]
  },
  {
   "cell_type": "code",
   "execution_count": 2,
   "metadata": {},
   "outputs": [
    {
     "name": "stdout",
     "output_type": "stream",
     "text": [
      "{'minority': False}\n",
      "{'minority': False}\n",
      "{'minority': True}\n",
      "{'minority': True}\n",
      "{'minority': True}\n"
     ]
    }
   ],
   "source": [
    "# Initialize the graph with nodes labeled majority or minority\n",
    "G = FairPairGraph()\n",
    "G.generate_groups(500, 200)\n",
    "\n",
    "for i in range(298, 303):\n",
    "    print(G.nodes(data=True)[i])"
   ]
  },
  {
   "cell_type": "code",
   "execution_count": 3,
   "metadata": {},
   "outputs": [
    {
     "name": "stdout",
     "output_type": "stream",
     "text": [
      "{'minority': False}\n",
      "{'minority': False}\n",
      "{'minority': True}\n",
      "{'minority': False}\n",
      "{'minority': False}\n"
     ]
    }
   ],
   "source": [
    "# Add randomization to the group label attribution\n",
    "G = FairPairGraph()\n",
    "G.add_nodes_from(np.arange(500))\n",
    "G.label_minority(200, random=True)\n",
    "\n",
    "for i in range(5):\n",
    "    print(G.nodes(data=True)[i])"
   ]
  },
  {
   "cell_type": "code",
   "execution_count": 4,
   "metadata": {},
   "outputs": [
    {
     "data": {
      "text/plain": [
       "<fairpair.fairgraph.FairPairGraph at 0x1085aabd0>"
      ]
     },
     "execution_count": 4,
     "metadata": {},
     "output_type": "execute_result"
    }
   ],
   "source": [
    "# Access the minority subgraph (read-only)\n",
    "G.minority"
   ]
  },
  {
   "cell_type": "code",
   "execution_count": 5,
   "metadata": {},
   "outputs": [
    {
     "data": {
      "text/plain": [
       "[0, 1, 3, 4, 5, 7, 8, 13, 15, 16, 18, 19, 23, 25, 26, 27, 28, 31, 32, 34]"
      ]
     },
     "execution_count": 5,
     "metadata": {},
     "output_type": "execute_result"
    }
   ],
   "source": [
    "# Access the majority nodes\n",
    "G.majority_nodes[:20]"
   ]
  },
  {
   "attachments": {},
   "cell_type": "markdown",
   "metadata": {},
   "source": [
    "## Assign scores per group"
   ]
  },
  {
   "cell_type": "code",
   "execution_count": 6,
   "metadata": {},
   "outputs": [
    {
     "data": {
      "text/plain": [
       "{'minority': True, 'score': 0.6001733946976907}"
      ]
     },
     "execution_count": 6,
     "metadata": {},
     "output_type": "execute_result"
    }
   ],
   "source": [
    "# Assign scores to the majority and minority respectively\n",
    "G.group_assign_scores(nodes=G.majority_nodes, distr=Distributions.normal_distr)\n",
    "G.group_assign_scores(nodes=G.minority_nodes, distr=Distributions.normal_distr, loc=0.4) # give a disadvantage to the minority\n",
    "G.nodes(data=True)[11]"
   ]
  },
  {
   "attachments": {},
   "cell_type": "markdown",
   "metadata": {},
   "source": [
    "## Compare Pairs"
   ]
  },
  {
   "cell_type": "code",
   "execution_count": 7,
   "metadata": {},
   "outputs": [
    {
     "name": "stdout",
     "output_type": "stream",
     "text": [
      "before: 0.35304750890525327 0.6811559033581442 []\n",
      "after: 0.35304750890525327 0.6811559033581442 [(1, 5, {'wins': 22, 'weight': 0.7333333333333333}), (5, 1, {'wins': 8, 'weight': 0.2666666666666667})]\n"
     ]
    }
   ],
   "source": [
    "# Compare pairs using the BTL-model\n",
    "print('before:', G.nodes[1]['score'], G.nodes[5]['score'], G.edges(data=True))\n",
    "G.compare_pair(1, 5, k=30)\n",
    "print('after:', G.nodes[1]['score'], G.nodes[5]['score'], G.edges(data=True))"
   ]
  },
  {
   "cell_type": "code",
   "execution_count": 8,
   "metadata": {},
   "outputs": [
    {
     "name": "stdout",
     "output_type": "stream",
     "text": [
      "0.35304750890525327 0.6811559033581442 [(1, 5, {'wins': 43, 'weight': 0.7166666666666667}), (5, 1, {'wins': 17, 'weight': 0.2833333333333333})]\n"
     ]
    }
   ],
   "source": [
    "# Sum up additional comparisons with already existing ones\n",
    "G.compare_pair(1, 5, k=30)\n",
    "print(G.nodes[1]['score'], G.nodes[5]['score'], G.edges(data=True))"
   ]
  },
  {
   "attachments": {},
   "cell_type": "markdown",
   "metadata": {},
   "source": [
    "## Random Sampling\n",
    "For a comparison of sampling techniques, see also [sampling.ipynb](./sampling.ipynb)."
   ]
  },
  {
   "cell_type": "code",
   "execution_count": 9,
   "metadata": {},
   "outputs": [
    {
     "name": "stderr",
     "output_type": "stream",
     "text": [
      "/var/folders/xh/r84_yqtx7pj262lm0s8w56640000gn/T/ipykernel_30301/3850484033.py:1: UserWarning: Deleting one element to create pairs from list of uneven length\n",
      "  random_list_to_pairs(G, range(11))\n"
     ]
    },
    {
     "data": {
      "text/plain": [
       "[(2, 1), (10, 8), (0, 9), (4, 5), (6, 7)]"
      ]
     },
     "execution_count": 9,
     "metadata": {},
     "output_type": "execute_result"
    }
   ],
   "source": [
    "random_list_to_pairs(G, range(11))"
   ]
  },
  {
   "cell_type": "code",
   "execution_count": 10,
   "metadata": {},
   "outputs": [],
   "source": [
    "# Generate a new Graph to test random sampling\n",
    "G = FairPairGraph()\n",
    "G.generate_groups(20, 5)\n",
    "G.group_assign_scores(nodes=G.majority_nodes, distr=Distributions.normal_distr)\n",
    "G.group_assign_scores(nodes=G.minority_nodes, distr=Distributions.normal_distr, loc=0.1) # give a disadvantage to the minority"
   ]
  },
  {
   "cell_type": "code",
   "execution_count": 11,
   "metadata": {},
   "outputs": [
    {
     "name": "stdout",
     "output_type": "stream",
     "text": [
      "minority success rate: 0.48\n",
      "majority success rate: 0.45\n"
     ]
    },
    {
     "name": "stderr",
     "output_type": "stream",
     "text": [
      "/Users/georg/Documents/Master CSS/Master's Thesis/Code/fairpair/fairpair/sampling.py:60: UserWarning: Deleting one element to create pairs from list of uneven length\n",
      "  pairs = self.split_using(G=self.G, nodes=selected_nodes, seed=seed)\n"
     ]
    }
   ],
   "source": [
    "sampling = RandomSampling(G)\n",
    "sampling.apply(iter = 8)\n",
    "print('minority success rate:', round(np.mean([rate for node, rate in G.minority.success_rates]), 2))\n",
    "print('majority success rate:', round(np.mean([rate for node, rate in G.majority.success_rates]), 2))"
   ]
  },
  {
   "cell_type": "code",
   "execution_count": 12,
   "metadata": {},
   "outputs": [
    {
     "data": {
      "image/png": "[encoded data removed]",
      "text/plain": [
       "<Figure size 640x480 with 1 Axes>"
      ]
     },
     "metadata": {},
     "output_type": "display_data"
    }
   ],
   "source": [
    "pos=nx.drawing.layout.spring_layout(G)\n",
    "colors = ['red' if node[1]['minority'] else 'blue' for node in G.nodes(data=True)]\n",
    "edges,weights = zip(*nx.get_edge_attributes(G,'weight').items())\n",
    "nx.drawing.nx_pylab.draw_networkx(G, pos, node_color=colors, with_labels=False, node_size=50, edge_color=weights, width=2, edge_cmap=plt.cm.Blues)"
   ]
  },
  {
   "cell_type": "code",
   "execution_count": 13,
   "metadata": {},
   "outputs": [],
   "source": [
    "for node in G.nodes(data=True):\n",
    "    node[1]['minority'] = bool(node[1]['minority']) # convert from numpy\n",
    "nx.write_gexf(G, './data/fairpairgraphtest.gexf')"
   ]
  }
 ],
 "metadata": {
  "kernelspec": {
   "display_name": "Python 3",
   "language": "python",
   "name": "python3"
  },
  "language_info": {
   "codemirror_mode": {
    "name": "ipython",
    "version": 3
   },
   "file_extension": ".py",
   "mimetype": "text/x-python",
   "name": "python",
   "nbconvert_exporter": "python",
   "pygments_lexer": "ipython3",
   "version": "3.11.3"
  },
  "orig_nbformat": 4
 },
 "nbformat": 4,
 "nbformat_minor": 2
}
