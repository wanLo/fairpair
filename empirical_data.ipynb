{
 "cells": [
  {
   "cell_type": "code",
   "execution_count": 1,
   "metadata": {},
   "outputs": [],
   "source": [
    "import scipy.io\n",
    "import numpy as np\n",
    "import pandas as pd"
   ]
  },
  {
   "cell_type": "markdown",
   "metadata": {},
   "source": [
    "## Load the IMDB-WIKI dataset\n",
    "\n",
    "Get the image metadata here: https://data.vision.ee.ethz.ch/cvl/rrothe/imdb-wiki/\n",
    "\n",
    "Get the pairwise comparison data here: https://github.com/Toloka/IMDB-WIKI-SbS"
   ]
  },
  {
   "cell_type": "code",
   "execution_count": 64,
   "metadata": {},
   "outputs": [
    {
     "data": {
      "text/plain": [
       "{'__header__': b'MATLAB 5.0 MAT-file, Platform: GLNXA64, Created on: Sat Jan 16 16:25:20 2016',\n",
       " '__version__': '1.0',\n",
       " '__globals__': [],\n",
       " 'wiki': array([[(array([[723671, 703186, 711677, ..., 720620, 723893, 713846]], dtype=int32), array([[2009, 1964, 2008, ..., 2013, 2011, 2008]], dtype=uint16), array([[array(['17/10000217_1981-05-05_2009.jpg'], dtype='<U31'),\n",
       "                 array(['48/10000548_1925-04-04_1964.jpg'], dtype='<U31'),\n",
       "                 array(['12/100012_1948-07-03_2008.jpg'], dtype='<U29'), ...,\n",
       "                 array(['09/9998109_1972-12-27_2013.jpg'], dtype='<U30'),\n",
       "                 array(['00/9999400_1981-12-13_2011.jpg'], dtype='<U30'),\n",
       "                 array(['80/999980_1954-06-11_2008.jpg'], dtype='<U29')]],\n",
       "               dtype=object), array([[1., 1., 1., ..., 1., 1., 0.]]), array([[array(['Sami Jauhojärvi'], dtype='<U15'),\n",
       "                 array(['Dettmar Cramer'], dtype='<U14'),\n",
       "                 array(['Marc Okrand'], dtype='<U11'), ...,\n",
       "                 array(['Michael Wiesinger'], dtype='<U17'),\n",
       "                 array(['Johann Grugger'], dtype='<U14'),\n",
       "                 array(['Greta Van Susteren'], dtype='<U18')]], dtype=object), array([[array([[111.29109473, 111.29109473, 252.66993082, 252.66993082]]),\n",
       "                 array([[252.4833023 , 126.68165115, 354.53192596, 228.73027481]]),\n",
       "                 array([[113.52, 169.84, 366.08, 422.4 ]]), ...,\n",
       "                 array([[169.88839786,  74.31669472, 235.2534231 , 139.68171997]]),\n",
       "                 array([[1, 1, 1, 1]], dtype=uint8),\n",
       "                 array([[ 92.72633235,  62.0435549 , 230.12083087, 199.43805342]])]],\n",
       "               dtype=object), array([[4.30096239, 2.6456395 , 4.32932883, ..., 3.49430317,       -inf,\n",
       "                 5.48691655]]), array([[       nan, 1.94924791,        nan, ...,        nan,        nan,\n",
       "                        nan]]))                                                                                                                                                                                           ]],\n",
       "       dtype=[('dob', 'O'), ('photo_taken', 'O'), ('full_path', 'O'), ('gender', 'O'), ('name', 'O'), ('face_location', 'O'), ('face_score', 'O'), ('second_face_score', 'O')])}"
      ]
     },
     "execution_count": 64,
     "metadata": {},
     "output_type": "execute_result"
    }
   ],
   "source": [
    "# Load MATLAB files\n",
    "wiki = scipy.io.loadmat('./data/imdb-wiki/wiki.mat')\n",
    "imdb = scipy.io.loadmat('./data/imdb-wiki/imdb.mat')\n",
    "wiki"
   ]
  },
  {
   "cell_type": "code",
   "execution_count": 65,
   "metadata": {},
   "outputs": [
    {
     "data": {
      "text/plain": [
       "array([array(['17/10000217_1981-05-05_2009.jpg'], dtype='<U31'),\n",
       "       array(['48/10000548_1925-04-04_1964.jpg'], dtype='<U31'),\n",
       "       array(['12/100012_1948-07-03_2008.jpg'], dtype='<U29'), ...,\n",
       "       array(['09/9998109_1972-12-27_2013.jpg'], dtype='<U30'),\n",
       "       array(['00/9999400_1981-12-13_2011.jpg'], dtype='<U30'),\n",
       "       array(['80/999980_1954-06-11_2008.jpg'], dtype='<U29')],\n",
       "      dtype=object)"
      ]
     },
     "execution_count": 65,
     "metadata": {},
     "output_type": "execute_result"
    }
   ],
   "source": [
    "# Extract file paths\n",
    "full_path_wiki = wiki['wiki']['full_path'][0][0][0]\n",
    "full_path_imdb = imdb['imdb']['full_path'][0][0][0]\n",
    "full_path_wiki"
   ]
  },
  {
   "cell_type": "code",
   "execution_count": 66,
   "metadata": {},
   "outputs": [
    {
     "data": {
      "text/plain": [
       "array(['10000217_1981-05-05_2009.jpg', '10000548_1925-04-04_1964.jpg',\n",
       "       '100012_1948-07-03_2008.jpg', ..., '9998109_1972-12-27_2013.jpg',\n",
       "       '9999400_1981-12-13_2011.jpg', '999980_1954-06-11_2008.jpg'],\n",
       "      dtype='<U34')"
      ]
     },
     "execution_count": 66,
     "metadata": {},
     "output_type": "execute_result"
    }
   ],
   "source": [
    "# Only keep the file names\n",
    "filename_wiki = np.array(list(map(lambda x:x.split('/')[1], np.stack(full_path_wiki).flatten())))\n",
    "filename_imdb = np.array(list(map(lambda x:x.split('/')[1], np.stack(full_path_imdb).flatten())))\n",
    "filename_wiki"
   ]
  },
  {
   "cell_type": "code",
   "execution_count": 67,
   "metadata": {},
   "outputs": [
    {
     "data": {
      "text/plain": [
       "array([1., 1., 1., ..., 0., 0., 0.])"
      ]
     },
     "execution_count": 67,
     "metadata": {},
     "output_type": "execute_result"
    }
   ],
   "source": [
    "# Get the genders\n",
    "gender_wiki = wiki['wiki']['gender'][0][0][0]\n",
    "gender_imdb = imdb['imdb']['gender'][0][0][0]\n",
    "gender_imdb"
   ]
  },
  {
   "cell_type": "code",
   "execution_count": 68,
   "metadata": {},
   "outputs": [
    {
     "data": {
      "text/html": [
       "<div>\n",
       "<style scoped>\n",
       "    .dataframe tbody tr th:only-of-type {\n",
       "        vertical-align: middle;\n",
       "    }\n",
       "\n",
       "    .dataframe tbody tr th {\n",
       "        vertical-align: top;\n",
       "    }\n",
       "\n",
       "    .dataframe thead th {\n",
       "        text-align: right;\n",
       "    }\n",
       "</style>\n",
       "<table border=\"1\" class=\"dataframe\">\n",
       "  <thead>\n",
       "    <tr style=\"text-align: right;\">\n",
       "      <th></th>\n",
       "      <th>filename</th>\n",
       "      <th>gender</th>\n",
       "    </tr>\n",
       "  </thead>\n",
       "  <tbody>\n",
       "    <tr>\n",
       "      <th>0</th>\n",
       "      <td>nm0000001_rm124825600_1899-5-10_1968.jpg</td>\n",
       "      <td>1.0</td>\n",
       "    </tr>\n",
       "    <tr>\n",
       "      <th>1</th>\n",
       "      <td>nm0000001_rm3343756032_1899-5-10_1970.jpg</td>\n",
       "      <td>1.0</td>\n",
       "    </tr>\n",
       "    <tr>\n",
       "      <th>2</th>\n",
       "      <td>nm0000001_rm577153792_1899-5-10_1968.jpg</td>\n",
       "      <td>1.0</td>\n",
       "    </tr>\n",
       "    <tr>\n",
       "      <th>3</th>\n",
       "      <td>nm0000001_rm946909184_1899-5-10_1968.jpg</td>\n",
       "      <td>1.0</td>\n",
       "    </tr>\n",
       "    <tr>\n",
       "      <th>4</th>\n",
       "      <td>nm0000001_rm980463616_1899-5-10_1968.jpg</td>\n",
       "      <td>1.0</td>\n",
       "    </tr>\n",
       "    <tr>\n",
       "      <th>...</th>\n",
       "      <td>...</td>\n",
       "      <td>...</td>\n",
       "    </tr>\n",
       "    <tr>\n",
       "      <th>523046</th>\n",
       "      <td>9996949_1937-04-17_1963.jpg</td>\n",
       "      <td>1.0</td>\n",
       "    </tr>\n",
       "    <tr>\n",
       "      <th>523047</th>\n",
       "      <td>9997032_1947-07-30_1970.jpg</td>\n",
       "      <td>1.0</td>\n",
       "    </tr>\n",
       "    <tr>\n",
       "      <th>523048</th>\n",
       "      <td>9998109_1972-12-27_2013.jpg</td>\n",
       "      <td>1.0</td>\n",
       "    </tr>\n",
       "    <tr>\n",
       "      <th>523049</th>\n",
       "      <td>9999400_1981-12-13_2011.jpg</td>\n",
       "      <td>1.0</td>\n",
       "    </tr>\n",
       "    <tr>\n",
       "      <th>523050</th>\n",
       "      <td>999980_1954-06-11_2008.jpg</td>\n",
       "      <td>0.0</td>\n",
       "    </tr>\n",
       "  </tbody>\n",
       "</table>\n",
       "<p>523051 rows × 2 columns</p>\n",
       "</div>"
      ],
      "text/plain": [
       "                                         filename  gender\n",
       "0        nm0000001_rm124825600_1899-5-10_1968.jpg     1.0\n",
       "1       nm0000001_rm3343756032_1899-5-10_1970.jpg     1.0\n",
       "2        nm0000001_rm577153792_1899-5-10_1968.jpg     1.0\n",
       "3        nm0000001_rm946909184_1899-5-10_1968.jpg     1.0\n",
       "4        nm0000001_rm980463616_1899-5-10_1968.jpg     1.0\n",
       "...                                           ...     ...\n",
       "523046                9996949_1937-04-17_1963.jpg     1.0\n",
       "523047                9997032_1947-07-30_1970.jpg     1.0\n",
       "523048                9998109_1972-12-27_2013.jpg     1.0\n",
       "523049                9999400_1981-12-13_2011.jpg     1.0\n",
       "523050                 999980_1954-06-11_2008.jpg     0.0\n",
       "\n",
       "[523051 rows x 2 columns]"
      ]
     },
     "execution_count": 68,
     "metadata": {},
     "output_type": "execute_result"
    }
   ],
   "source": [
    "# Convert to DataFrames and concat\n",
    "imdb_df = pd.DataFrame({'filename': filename_imdb, 'gender': gender_imdb})\n",
    "wiki_df = pd.DataFrame({'filename': filename_wiki, 'gender': gender_wiki})\n",
    "gender_df = pd.concat([imdb_df, wiki_df]).reset_index(drop=True)\n",
    "gender_df"
   ]
  },
  {
   "cell_type": "code",
   "execution_count": 69,
   "metadata": {},
   "outputs": [
    {
     "data": {
      "text/html": [
       "<div>\n",
       "<style scoped>\n",
       "    .dataframe tbody tr th:only-of-type {\n",
       "        vertical-align: middle;\n",
       "    }\n",
       "\n",
       "    .dataframe tbody tr th {\n",
       "        vertical-align: top;\n",
       "    }\n",
       "\n",
       "    .dataframe thead th {\n",
       "        text-align: right;\n",
       "    }\n",
       "</style>\n",
       "<table border=\"1\" class=\"dataframe\">\n",
       "  <thead>\n",
       "    <tr style=\"text-align: right;\">\n",
       "      <th></th>\n",
       "      <th>label</th>\n",
       "      <th>age</th>\n",
       "      <th>filename</th>\n",
       "    </tr>\n",
       "  </thead>\n",
       "  <tbody>\n",
       "    <tr>\n",
       "      <th>0</th>\n",
       "      <td>https://tlk.s3.yandex.net/annotation_tasks/IMD...</td>\n",
       "      <td>10</td>\n",
       "      <td>nm1442940_rm3965098752_1996-10-3_2006.jpg</td>\n",
       "    </tr>\n",
       "    <tr>\n",
       "      <th>1</th>\n",
       "      <td>https://tlk.s3.yandex.net/annotation_tasks/IMD...</td>\n",
       "      <td>10</td>\n",
       "      <td>nm4832920_rm1781768448_2003-8-28_2013.jpg</td>\n",
       "    </tr>\n",
       "    <tr>\n",
       "      <th>2</th>\n",
       "      <td>https://tlk.s3.yandex.net/annotation_tasks/IMD...</td>\n",
       "      <td>10</td>\n",
       "      <td>nm0652089_rm860657920_1992-3-10_2002.jpg</td>\n",
       "    </tr>\n",
       "    <tr>\n",
       "      <th>3</th>\n",
       "      <td>https://tlk.s3.yandex.net/annotation_tasks/IMD...</td>\n",
       "      <td>10</td>\n",
       "      <td>nm0004917_rm1493730304_1969-5-12_1979.jpg</td>\n",
       "    </tr>\n",
       "    <tr>\n",
       "      <th>4</th>\n",
       "      <td>https://tlk.s3.yandex.net/annotation_tasks/IMD...</td>\n",
       "      <td>10</td>\n",
       "      <td>nm1113550_rm1332711936_1996-4-14_2006.jpg</td>\n",
       "    </tr>\n",
       "    <tr>\n",
       "      <th>...</th>\n",
       "      <td>...</td>\n",
       "      <td>...</td>\n",
       "      <td>...</td>\n",
       "    </tr>\n",
       "    <tr>\n",
       "      <th>9145</th>\n",
       "      <td>https://tlk.s3.yandex.net/annotation_tasks/IMD...</td>\n",
       "      <td>70</td>\n",
       "      <td>475367_1941-08-03_2011.jpg</td>\n",
       "    </tr>\n",
       "    <tr>\n",
       "      <th>9146</th>\n",
       "      <td>https://tlk.s3.yandex.net/annotation_tasks/IMD...</td>\n",
       "      <td>70</td>\n",
       "      <td>304085_1919-07-07_1989.jpg</td>\n",
       "    </tr>\n",
       "    <tr>\n",
       "      <th>9147</th>\n",
       "      <td>https://tlk.s3.yandex.net/annotation_tasks/IMD...</td>\n",
       "      <td>70</td>\n",
       "      <td>nm0001627_rm4164078592_1927-2-20_1997.jpg</td>\n",
       "    </tr>\n",
       "    <tr>\n",
       "      <th>9148</th>\n",
       "      <td>https://tlk.s3.yandex.net/annotation_tasks/IMD...</td>\n",
       "      <td>70</td>\n",
       "      <td>nm0000024_rm1715129344_1904-4-14_1974.jpg</td>\n",
       "    </tr>\n",
       "    <tr>\n",
       "      <th>9149</th>\n",
       "      <td>https://tlk.s3.yandex.net/annotation_tasks/IMD...</td>\n",
       "      <td>70</td>\n",
       "      <td>nm0000323_rm3114703104_1933-3-14_2003.jpg</td>\n",
       "    </tr>\n",
       "  </tbody>\n",
       "</table>\n",
       "<p>9150 rows × 3 columns</p>\n",
       "</div>"
      ],
      "text/plain": [
       "                                                  label  age  \\\n",
       "0     https://tlk.s3.yandex.net/annotation_tasks/IMD...   10   \n",
       "1     https://tlk.s3.yandex.net/annotation_tasks/IMD...   10   \n",
       "2     https://tlk.s3.yandex.net/annotation_tasks/IMD...   10   \n",
       "3     https://tlk.s3.yandex.net/annotation_tasks/IMD...   10   \n",
       "4     https://tlk.s3.yandex.net/annotation_tasks/IMD...   10   \n",
       "...                                                 ...  ...   \n",
       "9145  https://tlk.s3.yandex.net/annotation_tasks/IMD...   70   \n",
       "9146  https://tlk.s3.yandex.net/annotation_tasks/IMD...   70   \n",
       "9147  https://tlk.s3.yandex.net/annotation_tasks/IMD...   70   \n",
       "9148  https://tlk.s3.yandex.net/annotation_tasks/IMD...   70   \n",
       "9149  https://tlk.s3.yandex.net/annotation_tasks/IMD...   70   \n",
       "\n",
       "                                       filename  \n",
       "0     nm1442940_rm3965098752_1996-10-3_2006.jpg  \n",
       "1     nm4832920_rm1781768448_2003-8-28_2013.jpg  \n",
       "2      nm0652089_rm860657920_1992-3-10_2002.jpg  \n",
       "3     nm0004917_rm1493730304_1969-5-12_1979.jpg  \n",
       "4     nm1113550_rm1332711936_1996-4-14_2006.jpg  \n",
       "...                                         ...  \n",
       "9145                 475367_1941-08-03_2011.jpg  \n",
       "9146                 304085_1919-07-07_1989.jpg  \n",
       "9147  nm0001627_rm4164078592_1927-2-20_1997.jpg  \n",
       "9148  nm0000024_rm1715129344_1904-4-14_1974.jpg  \n",
       "9149  nm0000323_rm3114703104_1933-3-14_2003.jpg  \n",
       "\n",
       "[9150 rows x 3 columns]"
      ]
     },
     "execution_count": 69,
     "metadata": {},
     "output_type": "execute_result"
    }
   ],
   "source": [
    "# Get the ground-truth ages\n",
    "gt_df = pd.read_csv('./data/imdb-wiki/gt.csv')\n",
    "gt_df['filename'] = gt_df['label'].apply(lambda x: x.split('/')[-1])\n",
    "gt_df = gt_df.rename({'score': 'age'}, axis=1)\n",
    "gt_df"
   ]
  },
  {
   "cell_type": "code",
   "execution_count": 70,
   "metadata": {},
   "outputs": [
    {
     "data": {
      "text/html": [
       "<div>\n",
       "<style scoped>\n",
       "    .dataframe tbody tr th:only-of-type {\n",
       "        vertical-align: middle;\n",
       "    }\n",
       "\n",
       "    .dataframe tbody tr th {\n",
       "        vertical-align: top;\n",
       "    }\n",
       "\n",
       "    .dataframe thead th {\n",
       "        text-align: right;\n",
       "    }\n",
       "</style>\n",
       "<table border=\"1\" class=\"dataframe\">\n",
       "  <thead>\n",
       "    <tr style=\"text-align: right;\">\n",
       "      <th></th>\n",
       "      <th>age</th>\n",
       "      <th>filename</th>\n",
       "      <th>gender</th>\n",
       "    </tr>\n",
       "  </thead>\n",
       "  <tbody>\n",
       "    <tr>\n",
       "      <th>0</th>\n",
       "      <td>10</td>\n",
       "      <td>nm1442940_rm3965098752_1996-10-3_2006.jpg</td>\n",
       "      <td>0</td>\n",
       "    </tr>\n",
       "    <tr>\n",
       "      <th>1</th>\n",
       "      <td>10</td>\n",
       "      <td>nm4832920_rm1781768448_2003-8-28_2013.jpg</td>\n",
       "      <td>0</td>\n",
       "    </tr>\n",
       "    <tr>\n",
       "      <th>2</th>\n",
       "      <td>10</td>\n",
       "      <td>nm0652089_rm860657920_1992-3-10_2002.jpg</td>\n",
       "      <td>0</td>\n",
       "    </tr>\n",
       "    <tr>\n",
       "      <th>3</th>\n",
       "      <td>10</td>\n",
       "      <td>nm0004917_rm1493730304_1969-5-12_1979.jpg</td>\n",
       "      <td>0</td>\n",
       "    </tr>\n",
       "    <tr>\n",
       "      <th>4</th>\n",
       "      <td>10</td>\n",
       "      <td>nm1113550_rm1332711936_1996-4-14_2006.jpg</td>\n",
       "      <td>0</td>\n",
       "    </tr>\n",
       "    <tr>\n",
       "      <th>...</th>\n",
       "      <td>...</td>\n",
       "      <td>...</td>\n",
       "      <td>...</td>\n",
       "    </tr>\n",
       "    <tr>\n",
       "      <th>9145</th>\n",
       "      <td>70</td>\n",
       "      <td>475367_1941-08-03_2011.jpg</td>\n",
       "      <td>1</td>\n",
       "    </tr>\n",
       "    <tr>\n",
       "      <th>9146</th>\n",
       "      <td>70</td>\n",
       "      <td>304085_1919-07-07_1989.jpg</td>\n",
       "      <td>1</td>\n",
       "    </tr>\n",
       "    <tr>\n",
       "      <th>9147</th>\n",
       "      <td>70</td>\n",
       "      <td>nm0001627_rm4164078592_1927-2-20_1997.jpg</td>\n",
       "      <td>1</td>\n",
       "    </tr>\n",
       "    <tr>\n",
       "      <th>9148</th>\n",
       "      <td>70</td>\n",
       "      <td>nm0000024_rm1715129344_1904-4-14_1974.jpg</td>\n",
       "      <td>1</td>\n",
       "    </tr>\n",
       "    <tr>\n",
       "      <th>9149</th>\n",
       "      <td>70</td>\n",
       "      <td>nm0000323_rm3114703104_1933-3-14_2003.jpg</td>\n",
       "      <td>1</td>\n",
       "    </tr>\n",
       "  </tbody>\n",
       "</table>\n",
       "<p>9150 rows × 3 columns</p>\n",
       "</div>"
      ],
      "text/plain": [
       "      age                                   filename  gender\n",
       "0      10  nm1442940_rm3965098752_1996-10-3_2006.jpg       0\n",
       "1      10  nm4832920_rm1781768448_2003-8-28_2013.jpg       0\n",
       "2      10   nm0652089_rm860657920_1992-3-10_2002.jpg       0\n",
       "3      10  nm0004917_rm1493730304_1969-5-12_1979.jpg       0\n",
       "4      10  nm1113550_rm1332711936_1996-4-14_2006.jpg       0\n",
       "...   ...                                        ...     ...\n",
       "9145   70                 475367_1941-08-03_2011.jpg       1\n",
       "9146   70                 304085_1919-07-07_1989.jpg       1\n",
       "9147   70  nm0001627_rm4164078592_1927-2-20_1997.jpg       1\n",
       "9148   70  nm0000024_rm1715129344_1904-4-14_1974.jpg       1\n",
       "9149   70  nm0000323_rm3114703104_1933-3-14_2003.jpg       1\n",
       "\n",
       "[9150 rows x 3 columns]"
      ]
     },
     "execution_count": 70,
     "metadata": {},
     "output_type": "execute_result"
    }
   ],
   "source": [
    "# merge ground-truth on on 'filename' column\n",
    "df = pd.merge(gt_df[['age', 'filename']], gender_df[['filename', 'gender']], on='filename', how='left')\n",
    "df['gender'] = df['gender'].astype(int)\n",
    "df"
   ]
  },
  {
   "cell_type": "code",
   "execution_count": 71,
   "metadata": {},
   "outputs": [
    {
     "data": {
      "text/html": [
       "<div>\n",
       "<style scoped>\n",
       "    .dataframe tbody tr th:only-of-type {\n",
       "        vertical-align: middle;\n",
       "    }\n",
       "\n",
       "    .dataframe tbody tr th {\n",
       "        vertical-align: top;\n",
       "    }\n",
       "\n",
       "    .dataframe thead th {\n",
       "        text-align: right;\n",
       "    }\n",
       "</style>\n",
       "<table border=\"1\" class=\"dataframe\">\n",
       "  <thead>\n",
       "    <tr style=\"text-align: right;\">\n",
       "      <th></th>\n",
       "      <th>left</th>\n",
       "      <th>right</th>\n",
       "      <th>label</th>\n",
       "      <th>performer</th>\n",
       "    </tr>\n",
       "  </thead>\n",
       "  <tbody>\n",
       "    <tr>\n",
       "      <th>0</th>\n",
       "      <td>26147732_1991-07-22_2015.jpg</td>\n",
       "      <td>nm0707728_rm4048061440_1935-1-2_1966.jpg</td>\n",
       "      <td>nm0707728_rm4048061440_1935-1-2_1966.jpg</td>\n",
       "      <td>0</td>\n",
       "    </tr>\n",
       "    <tr>\n",
       "      <th>1</th>\n",
       "      <td>nm0000072_rm2497944320_1932-2-27_1985.jpg</td>\n",
       "      <td>nm0025978_rm3962736128_1954-11-16_1999.jpg</td>\n",
       "      <td>nm0000072_rm2497944320_1932-2-27_1985.jpg</td>\n",
       "      <td>0</td>\n",
       "    </tr>\n",
       "    <tr>\n",
       "      <th>2</th>\n",
       "      <td>nm0788370_rm2989144320_1971-4-11_1999.jpg</td>\n",
       "      <td>nm0726180_rm2487589632_1981-1-1_2005.jpg</td>\n",
       "      <td>nm0788370_rm2989144320_1971-4-11_1999.jpg</td>\n",
       "      <td>0</td>\n",
       "    </tr>\n",
       "    <tr>\n",
       "      <th>3</th>\n",
       "      <td>nm0325390_rm3409478912_1951-10-19_1979.jpg</td>\n",
       "      <td>1094676_1944-12-08_2011.jpg</td>\n",
       "      <td>1094676_1944-12-08_2011.jpg</td>\n",
       "      <td>1</td>\n",
       "    </tr>\n",
       "    <tr>\n",
       "      <th>4</th>\n",
       "      <td>1780768_1927-01-22_1963.jpg</td>\n",
       "      <td>nm0000442_rm1571854336_1944-1-23_2005.jpg</td>\n",
       "      <td>nm0000442_rm1571854336_1944-1-23_2005.jpg</td>\n",
       "      <td>1</td>\n",
       "    </tr>\n",
       "    <tr>\n",
       "      <th>...</th>\n",
       "      <td>...</td>\n",
       "      <td>...</td>\n",
       "      <td>...</td>\n",
       "      <td>...</td>\n",
       "    </tr>\n",
       "    <tr>\n",
       "      <th>250244</th>\n",
       "      <td>nm0000943_rm2478151680_1968-1-13_1999.jpg</td>\n",
       "      <td>nm0000825_rm1298385920_1952-10-7_1962.jpg</td>\n",
       "      <td>nm0000825_rm1298385920_1952-10-7_1962.jpg</td>\n",
       "      <td>3885</td>\n",
       "    </tr>\n",
       "    <tr>\n",
       "      <th>250245</th>\n",
       "      <td>26835279_1938-12-27_2004.jpg</td>\n",
       "      <td>nm0771493_rm519611392_1955-5-27_2013.jpg</td>\n",
       "      <td>26835279_1938-12-27_2004.jpg</td>\n",
       "      <td>3885</td>\n",
       "    </tr>\n",
       "    <tr>\n",
       "      <th>250246</th>\n",
       "      <td>2723_1964-05-27_2007.jpg</td>\n",
       "      <td>nm0858969_rm53517056_1990-1-30_2001.jpg</td>\n",
       "      <td>2723_1964-05-27_2007.jpg</td>\n",
       "      <td>4090</td>\n",
       "    </tr>\n",
       "    <tr>\n",
       "      <th>250247</th>\n",
       "      <td>nm0177396_rm3601370112_1987-9-15_2010.jpg</td>\n",
       "      <td>nm0005391_rm3942707712_1963-3-10_2015.jpg</td>\n",
       "      <td>nm0005391_rm3942707712_1963-3-10_2015.jpg</td>\n",
       "      <td>4090</td>\n",
       "    </tr>\n",
       "    <tr>\n",
       "      <th>250248</th>\n",
       "      <td>2275823_1961-09-12_2011.jpg</td>\n",
       "      <td>1523302_1956-03-03_2008.jpg</td>\n",
       "      <td>2275823_1961-09-12_2011.jpg</td>\n",
       "      <td>4090</td>\n",
       "    </tr>\n",
       "  </tbody>\n",
       "</table>\n",
       "<p>250249 rows × 4 columns</p>\n",
       "</div>"
      ],
      "text/plain": [
       "                                              left  \\\n",
       "0                     26147732_1991-07-22_2015.jpg   \n",
       "1        nm0000072_rm2497944320_1932-2-27_1985.jpg   \n",
       "2        nm0788370_rm2989144320_1971-4-11_1999.jpg   \n",
       "3       nm0325390_rm3409478912_1951-10-19_1979.jpg   \n",
       "4                      1780768_1927-01-22_1963.jpg   \n",
       "...                                            ...   \n",
       "250244   nm0000943_rm2478151680_1968-1-13_1999.jpg   \n",
       "250245                26835279_1938-12-27_2004.jpg   \n",
       "250246                    2723_1964-05-27_2007.jpg   \n",
       "250247   nm0177396_rm3601370112_1987-9-15_2010.jpg   \n",
       "250248                 2275823_1961-09-12_2011.jpg   \n",
       "\n",
       "                                             right  \\\n",
       "0         nm0707728_rm4048061440_1935-1-2_1966.jpg   \n",
       "1       nm0025978_rm3962736128_1954-11-16_1999.jpg   \n",
       "2         nm0726180_rm2487589632_1981-1-1_2005.jpg   \n",
       "3                      1094676_1944-12-08_2011.jpg   \n",
       "4        nm0000442_rm1571854336_1944-1-23_2005.jpg   \n",
       "...                                            ...   \n",
       "250244   nm0000825_rm1298385920_1952-10-7_1962.jpg   \n",
       "250245    nm0771493_rm519611392_1955-5-27_2013.jpg   \n",
       "250246     nm0858969_rm53517056_1990-1-30_2001.jpg   \n",
       "250247   nm0005391_rm3942707712_1963-3-10_2015.jpg   \n",
       "250248                 1523302_1956-03-03_2008.jpg   \n",
       "\n",
       "                                            label  performer  \n",
       "0        nm0707728_rm4048061440_1935-1-2_1966.jpg          0  \n",
       "1       nm0000072_rm2497944320_1932-2-27_1985.jpg          0  \n",
       "2       nm0788370_rm2989144320_1971-4-11_1999.jpg          0  \n",
       "3                     1094676_1944-12-08_2011.jpg          1  \n",
       "4       nm0000442_rm1571854336_1944-1-23_2005.jpg          1  \n",
       "...                                           ...        ...  \n",
       "250244  nm0000825_rm1298385920_1952-10-7_1962.jpg       3885  \n",
       "250245               26835279_1938-12-27_2004.jpg       3885  \n",
       "250246                   2723_1964-05-27_2007.jpg       4090  \n",
       "250247  nm0005391_rm3942707712_1963-3-10_2015.jpg       4090  \n",
       "250248                2275823_1961-09-12_2011.jpg       4090  \n",
       "\n",
       "[250249 rows x 4 columns]"
      ]
     },
     "execution_count": 71,
     "metadata": {},
     "output_type": "execute_result"
    }
   ],
   "source": [
    "# Import the pairwise comparisons\n",
    "pairwise_df = pd.read_csv('./data/imdb-wiki/crowd_labels.csv')\n",
    "pairwise_df['left']  = pairwise_df['left'].apply(lambda x: x.split('/')[-1])\n",
    "pairwise_df['right'] = pairwise_df['right'].apply(lambda x: x.split('/')[-1])\n",
    "pairwise_df['label'] = pairwise_df['label'].apply(lambda x: x.split('/')[-1])\n",
    "pairwise_df"
   ]
  },
  {
   "cell_type": "code",
   "execution_count": 72,
   "metadata": {},
   "outputs": [
    {
     "data": {
      "text/html": [
       "<div>\n",
       "<style scoped>\n",
       "    .dataframe tbody tr th:only-of-type {\n",
       "        vertical-align: middle;\n",
       "    }\n",
       "\n",
       "    .dataframe tbody tr th {\n",
       "        vertical-align: top;\n",
       "    }\n",
       "\n",
       "    .dataframe thead th {\n",
       "        text-align: right;\n",
       "    }\n",
       "</style>\n",
       "<table border=\"1\" class=\"dataframe\">\n",
       "  <thead>\n",
       "    <tr style=\"text-align: right;\">\n",
       "      <th></th>\n",
       "      <th>left</th>\n",
       "      <th>right</th>\n",
       "      <th>label</th>\n",
       "      <th>performer</th>\n",
       "    </tr>\n",
       "  </thead>\n",
       "  <tbody>\n",
       "    <tr>\n",
       "      <th>0</th>\n",
       "      <td>2229</td>\n",
       "      <td>3164</td>\n",
       "      <td>3164</td>\n",
       "      <td>0</td>\n",
       "    </tr>\n",
       "    <tr>\n",
       "      <th>1</th>\n",
       "      <td>6505</td>\n",
       "      <td>5302</td>\n",
       "      <td>6505</td>\n",
       "      <td>0</td>\n",
       "    </tr>\n",
       "    <tr>\n",
       "      <th>2</th>\n",
       "      <td>2822</td>\n",
       "      <td>2139</td>\n",
       "      <td>2822</td>\n",
       "      <td>0</td>\n",
       "    </tr>\n",
       "    <tr>\n",
       "      <th>3</th>\n",
       "      <td>2757</td>\n",
       "      <td>8593</td>\n",
       "      <td>8593</td>\n",
       "      <td>1</td>\n",
       "    </tr>\n",
       "    <tr>\n",
       "      <th>4</th>\n",
       "      <td>3991</td>\n",
       "      <td>7792</td>\n",
       "      <td>7792</td>\n",
       "      <td>1</td>\n",
       "    </tr>\n",
       "    <tr>\n",
       "      <th>...</th>\n",
       "      <td>...</td>\n",
       "      <td>...</td>\n",
       "      <td>...</td>\n",
       "      <td>...</td>\n",
       "    </tr>\n",
       "    <tr>\n",
       "      <th>250244</th>\n",
       "      <td>3209</td>\n",
       "      <td>7</td>\n",
       "      <td>7</td>\n",
       "      <td>3885</td>\n",
       "    </tr>\n",
       "    <tr>\n",
       "      <th>250245</th>\n",
       "      <td>8533</td>\n",
       "      <td>7276</td>\n",
       "      <td>8533</td>\n",
       "      <td>3885</td>\n",
       "    </tr>\n",
       "    <tr>\n",
       "      <th>250246</th>\n",
       "      <td>5025</td>\n",
       "      <td>228</td>\n",
       "      <td>5025</td>\n",
       "      <td>4090</td>\n",
       "    </tr>\n",
       "    <tr>\n",
       "      <th>250247</th>\n",
       "      <td>2059</td>\n",
       "      <td>6425</td>\n",
       "      <td>6425</td>\n",
       "      <td>4090</td>\n",
       "    </tr>\n",
       "    <tr>\n",
       "      <th>250248</th>\n",
       "      <td>6059</td>\n",
       "      <td>6362</td>\n",
       "      <td>6059</td>\n",
       "      <td>4090</td>\n",
       "    </tr>\n",
       "  </tbody>\n",
       "</table>\n",
       "<p>250249 rows × 4 columns</p>\n",
       "</div>"
      ],
      "text/plain": [
       "        left  right  label  performer\n",
       "0       2229   3164   3164          0\n",
       "1       6505   5302   6505          0\n",
       "2       2822   2139   2822          0\n",
       "3       2757   8593   8593          1\n",
       "4       3991   7792   7792          1\n",
       "...      ...    ...    ...        ...\n",
       "250244  3209      7      7       3885\n",
       "250245  8533   7276   8533       3885\n",
       "250246  5025    228   5025       4090\n",
       "250247  2059   6425   6425       4090\n",
       "250248  6059   6362   6059       4090\n",
       "\n",
       "[250249 rows x 4 columns]"
      ]
     },
     "execution_count": 72,
     "metadata": {},
     "output_type": "execute_result"
    }
   ],
   "source": [
    "# replace the values in df2 with their corresponding index in df1\n",
    "pairwise_df['left']  = pairwise_df['left'].apply(lambda x:  df[df['filename']==x].index[0])\n",
    "pairwise_df['right'] = pairwise_df['right'].apply(lambda x: df[df['filename']==x].index[0])\n",
    "pairwise_df['label'] = pairwise_df['label'].apply(lambda x: df[df['filename']==x].index[0])\n",
    "pairwise_df"
   ]
  },
  {
   "cell_type": "code",
   "execution_count": 73,
   "metadata": {},
   "outputs": [],
   "source": [
    "pairwise_df.to_csv('./data/imdb-wiki/comparisons_cleaned.csv', index=False)\n",
    "df.to_csv('./data/imdb-wiki/ground_truth_cleaned.csv', index=True)"
   ]
  },
  {
   "cell_type": "markdown",
   "metadata": {},
   "source": [
    "## Subsampling"
   ]
  },
  {
   "cell_type": "code",
   "execution_count": 2,
   "metadata": {},
   "outputs": [],
   "source": [
    "import seaborn as sns\n",
    "import matplotlib.pyplot as plt\n",
    "\n",
    "pairwise_df = pd.read_csv('./data/imdb-wiki/comparisons_cleaned.csv')\n",
    "df = pd.read_csv('./data/imdb-wiki/ground_truth_cleaned.csv', index_col=0)"
   ]
  },
  {
   "cell_type": "markdown",
   "metadata": {},
   "source": [
    "### Basic Statistics"
   ]
  },
  {
   "cell_type": "code",
   "execution_count": 4,
   "metadata": {},
   "outputs": [
    {
     "data": {
      "text/html": [
       "<div>\n",
       "<style scoped>\n",
       "    .dataframe tbody tr th:only-of-type {\n",
       "        vertical-align: middle;\n",
       "    }\n",
       "\n",
       "    .dataframe tbody tr th {\n",
       "        vertical-align: top;\n",
       "    }\n",
       "\n",
       "    .dataframe thead th {\n",
       "        text-align: right;\n",
       "    }\n",
       "</style>\n",
       "<table border=\"1\" class=\"dataframe\">\n",
       "  <thead>\n",
       "    <tr style=\"text-align: right;\">\n",
       "      <th></th>\n",
       "      <th>id</th>\n",
       "      <th>count_left</th>\n",
       "      <th>count_right</th>\n",
       "      <th>total comparisons</th>\n",
       "      <th>age</th>\n",
       "      <th>gender</th>\n",
       "    </tr>\n",
       "  </thead>\n",
       "  <tbody>\n",
       "    <tr>\n",
       "      <th>0</th>\n",
       "      <td>0</td>\n",
       "      <td>27</td>\n",
       "      <td>24</td>\n",
       "      <td>51</td>\n",
       "      <td>10</td>\n",
       "      <td>0</td>\n",
       "    </tr>\n",
       "    <tr>\n",
       "      <th>1</th>\n",
       "      <td>1</td>\n",
       "      <td>38</td>\n",
       "      <td>26</td>\n",
       "      <td>64</td>\n",
       "      <td>10</td>\n",
       "      <td>0</td>\n",
       "    </tr>\n",
       "    <tr>\n",
       "      <th>2</th>\n",
       "      <td>2</td>\n",
       "      <td>30</td>\n",
       "      <td>21</td>\n",
       "      <td>51</td>\n",
       "      <td>10</td>\n",
       "      <td>0</td>\n",
       "    </tr>\n",
       "    <tr>\n",
       "      <th>3</th>\n",
       "      <td>3</td>\n",
       "      <td>33</td>\n",
       "      <td>21</td>\n",
       "      <td>54</td>\n",
       "      <td>10</td>\n",
       "      <td>0</td>\n",
       "    </tr>\n",
       "    <tr>\n",
       "      <th>4</th>\n",
       "      <td>4</td>\n",
       "      <td>25</td>\n",
       "      <td>25</td>\n",
       "      <td>50</td>\n",
       "      <td>10</td>\n",
       "      <td>0</td>\n",
       "    </tr>\n",
       "    <tr>\n",
       "      <th>...</th>\n",
       "      <td>...</td>\n",
       "      <td>...</td>\n",
       "      <td>...</td>\n",
       "      <td>...</td>\n",
       "      <td>...</td>\n",
       "      <td>...</td>\n",
       "    </tr>\n",
       "    <tr>\n",
       "      <th>9145</th>\n",
       "      <td>9145</td>\n",
       "      <td>21</td>\n",
       "      <td>27</td>\n",
       "      <td>48</td>\n",
       "      <td>70</td>\n",
       "      <td>1</td>\n",
       "    </tr>\n",
       "    <tr>\n",
       "      <th>9146</th>\n",
       "      <td>9146</td>\n",
       "      <td>19</td>\n",
       "      <td>35</td>\n",
       "      <td>54</td>\n",
       "      <td>70</td>\n",
       "      <td>1</td>\n",
       "    </tr>\n",
       "    <tr>\n",
       "      <th>9147</th>\n",
       "      <td>9147</td>\n",
       "      <td>32</td>\n",
       "      <td>37</td>\n",
       "      <td>69</td>\n",
       "      <td>70</td>\n",
       "      <td>1</td>\n",
       "    </tr>\n",
       "    <tr>\n",
       "      <th>9148</th>\n",
       "      <td>9148</td>\n",
       "      <td>27</td>\n",
       "      <td>19</td>\n",
       "      <td>46</td>\n",
       "      <td>70</td>\n",
       "      <td>1</td>\n",
       "    </tr>\n",
       "    <tr>\n",
       "      <th>9149</th>\n",
       "      <td>9149</td>\n",
       "      <td>21</td>\n",
       "      <td>30</td>\n",
       "      <td>51</td>\n",
       "      <td>70</td>\n",
       "      <td>1</td>\n",
       "    </tr>\n",
       "  </tbody>\n",
       "</table>\n",
       "<p>9150 rows × 6 columns</p>\n",
       "</div>"
      ],
      "text/plain": [
       "        id  count_left  count_right  total comparisons  age  gender\n",
       "0        0          27           24                 51   10       0\n",
       "1        1          38           26                 64   10       0\n",
       "2        2          30           21                 51   10       0\n",
       "3        3          33           21                 54   10       0\n",
       "4        4          25           25                 50   10       0\n",
       "...    ...         ...          ...                ...  ...     ...\n",
       "9145  9145          21           27                 48   70       1\n",
       "9146  9146          19           35                 54   70       1\n",
       "9147  9147          32           37                 69   70       1\n",
       "9148  9148          27           19                 46   70       1\n",
       "9149  9149          21           30                 51   70       1\n",
       "\n",
       "[9150 rows x 6 columns]"
      ]
     },
     "execution_count": 4,
     "metadata": {},
     "output_type": "execute_result"
    }
   ],
   "source": [
    "counts_left = pairwise_df.groupby(['left'], sort=True).count().reset_index().rename(columns={'left':'id', 'right':'count_left'})[['id','count_left']]\n",
    "counts_right = pairwise_df.groupby(['right'], sort=True).count().reset_index().rename(columns={'right':'id', 'left':'count_right'})[['id','count_right']]\n",
    "counts = pd.merge(left=counts_left, right=counts_right, on='id')\n",
    "counts['total comparisons'] = counts['count_left'] + counts['count_right']\n",
    "stats = pd.merge(left=counts, right=df[['age','gender']], left_on='id', right_index=True)\n",
    "stats"
   ]
  },
  {
   "cell_type": "code",
   "execution_count": 76,
   "metadata": {},
   "outputs": [
    {
     "name": "stdout",
     "output_type": "stream",
     "text": [
      "individuals of gender 0: 4575\n",
      "individuals of gender 1: 4575\n",
      "mean # comparisons, gender 0: 54.61901639344262\n",
      "mean # comparisons, gender 1: 54.77945355191257\n"
     ]
    },
    {
     "data": {
      "image/png": "[encoded data removed]",
      "text/plain": [
       "<Figure size 360x360 with 1 Axes>"
      ]
     },
     "metadata": {
      "needs_background": "light"
     },
     "output_type": "display_data"
    }
   ],
   "source": [
    "print(f\"individuals of gender 0: {len(stats[stats.gender == 0])}\")\n",
    "print(f\"individuals of gender 1: {len(stats[stats.gender == 1])}\")\n",
    "print(f\"mean # comparisons, gender 0: {stats[stats.gender == 0]['total comparisons'].mean()}\")\n",
    "print(f\"mean # comparisons, gender 1: {stats[stats.gender == 1]['total comparisons'].mean()}\")\n",
    "\n",
    "ax = sns.catplot(stats, y='total comparisons', x='gender', kind='violin')\n",
    "ax.set(ylim=(0,100))\n",
    "plt.show()"
   ]
  },
  {
   "cell_type": "code",
   "execution_count": 5,
   "metadata": {},
   "outputs": [
    {
     "data": {
      "text/html": [
       "<div>\n",
       "<style scoped>\n",
       "    .dataframe tbody tr th:only-of-type {\n",
       "        vertical-align: middle;\n",
       "    }\n",
       "\n",
       "    .dataframe tbody tr th {\n",
       "        vertical-align: top;\n",
       "    }\n",
       "\n",
       "    .dataframe thead th {\n",
       "        text-align: right;\n",
       "    }\n",
       "</style>\n",
       "<table border=\"1\" class=\"dataframe\">\n",
       "  <thead>\n",
       "    <tr style=\"text-align: right;\">\n",
       "      <th></th>\n",
       "      <th>left</th>\n",
       "      <th>right</th>\n",
       "      <th>win</th>\n",
       "      <th>lose</th>\n",
       "    </tr>\n",
       "  </thead>\n",
       "  <tbody>\n",
       "    <tr>\n",
       "      <th>0</th>\n",
       "      <td>2229</td>\n",
       "      <td>3164</td>\n",
       "      <td>3164</td>\n",
       "      <td>2229</td>\n",
       "    </tr>\n",
       "    <tr>\n",
       "      <th>1</th>\n",
       "      <td>6505</td>\n",
       "      <td>5302</td>\n",
       "      <td>6505</td>\n",
       "      <td>5302</td>\n",
       "    </tr>\n",
       "    <tr>\n",
       "      <th>2</th>\n",
       "      <td>2822</td>\n",
       "      <td>2139</td>\n",
       "      <td>2822</td>\n",
       "      <td>2139</td>\n",
       "    </tr>\n",
       "    <tr>\n",
       "      <th>3</th>\n",
       "      <td>2757</td>\n",
       "      <td>8593</td>\n",
       "      <td>8593</td>\n",
       "      <td>2757</td>\n",
       "    </tr>\n",
       "    <tr>\n",
       "      <th>4</th>\n",
       "      <td>3991</td>\n",
       "      <td>7792</td>\n",
       "      <td>7792</td>\n",
       "      <td>3991</td>\n",
       "    </tr>\n",
       "    <tr>\n",
       "      <th>...</th>\n",
       "      <td>...</td>\n",
       "      <td>...</td>\n",
       "      <td>...</td>\n",
       "      <td>...</td>\n",
       "    </tr>\n",
       "    <tr>\n",
       "      <th>250244</th>\n",
       "      <td>3209</td>\n",
       "      <td>7</td>\n",
       "      <td>7</td>\n",
       "      <td>3209</td>\n",
       "    </tr>\n",
       "    <tr>\n",
       "      <th>250245</th>\n",
       "      <td>8533</td>\n",
       "      <td>7276</td>\n",
       "      <td>8533</td>\n",
       "      <td>7276</td>\n",
       "    </tr>\n",
       "    <tr>\n",
       "      <th>250246</th>\n",
       "      <td>5025</td>\n",
       "      <td>228</td>\n",
       "      <td>5025</td>\n",
       "      <td>228</td>\n",
       "    </tr>\n",
       "    <tr>\n",
       "      <th>250247</th>\n",
       "      <td>2059</td>\n",
       "      <td>6425</td>\n",
       "      <td>6425</td>\n",
       "      <td>2059</td>\n",
       "    </tr>\n",
       "    <tr>\n",
       "      <th>250248</th>\n",
       "      <td>6059</td>\n",
       "      <td>6362</td>\n",
       "      <td>6059</td>\n",
       "      <td>6362</td>\n",
       "    </tr>\n",
       "  </tbody>\n",
       "</table>\n",
       "<p>250249 rows × 4 columns</p>\n",
       "</div>"
      ],
      "text/plain": [
       "        left  right   win  lose\n",
       "0       2229   3164  3164  2229\n",
       "1       6505   5302  6505  5302\n",
       "2       2822   2139  2822  2139\n",
       "3       2757   8593  8593  2757\n",
       "4       3991   7792  7792  3991\n",
       "...      ...    ...   ...   ...\n",
       "250244  3209      7     7  3209\n",
       "250245  8533   7276  8533  7276\n",
       "250246  5025    228  5025   228\n",
       "250247  2059   6425  6425  2059\n",
       "250248  6059   6362  6059  6362\n",
       "\n",
       "[250249 rows x 4 columns]"
      ]
     },
     "execution_count": 5,
     "metadata": {},
     "output_type": "execute_result"
    }
   ],
   "source": [
    "win_lose = pairwise_df[['left', 'right', 'label']].copy().rename(columns={'label': 'win'})\n",
    "win_lose.loc[win_lose.left == win_lose.win, 'lose'] = win_lose.right\n",
    "win_lose.loc[win_lose.right == win_lose.win, 'lose'] = win_lose.left\n",
    "win_lose['lose'] = win_lose['lose'].astype(int)\n",
    "win_lose"
   ]
  },
  {
   "cell_type": "code",
   "execution_count": 6,
   "metadata": {},
   "outputs": [
    {
     "data": {
      "text/html": [
       "<div>\n",
       "<style scoped>\n",
       "    .dataframe tbody tr th:only-of-type {\n",
       "        vertical-align: middle;\n",
       "    }\n",
       "\n",
       "    .dataframe tbody tr th {\n",
       "        vertical-align: top;\n",
       "    }\n",
       "\n",
       "    .dataframe thead th {\n",
       "        text-align: right;\n",
       "    }\n",
       "</style>\n",
       "<table border=\"1\" class=\"dataframe\">\n",
       "  <thead>\n",
       "    <tr style=\"text-align: right;\">\n",
       "      <th></th>\n",
       "      <th>id</th>\n",
       "      <th>number of wins</th>\n",
       "      <th>number of losses</th>\n",
       "      <th>age</th>\n",
       "      <th>gender</th>\n",
       "    </tr>\n",
       "  </thead>\n",
       "  <tbody>\n",
       "    <tr>\n",
       "      <th>0</th>\n",
       "      <td>0</td>\n",
       "      <td>1</td>\n",
       "      <td>50</td>\n",
       "      <td>10</td>\n",
       "      <td>0</td>\n",
       "    </tr>\n",
       "    <tr>\n",
       "      <th>1</th>\n",
       "      <td>1</td>\n",
       "      <td>5</td>\n",
       "      <td>59</td>\n",
       "      <td>10</td>\n",
       "      <td>0</td>\n",
       "    </tr>\n",
       "    <tr>\n",
       "      <th>2</th>\n",
       "      <td>2</td>\n",
       "      <td>2</td>\n",
       "      <td>49</td>\n",
       "      <td>10</td>\n",
       "      <td>0</td>\n",
       "    </tr>\n",
       "    <tr>\n",
       "      <th>3</th>\n",
       "      <td>3</td>\n",
       "      <td>3</td>\n",
       "      <td>51</td>\n",
       "      <td>10</td>\n",
       "      <td>0</td>\n",
       "    </tr>\n",
       "    <tr>\n",
       "      <th>4</th>\n",
       "      <td>4</td>\n",
       "      <td>22</td>\n",
       "      <td>28</td>\n",
       "      <td>10</td>\n",
       "      <td>0</td>\n",
       "    </tr>\n",
       "    <tr>\n",
       "      <th>...</th>\n",
       "      <td>...</td>\n",
       "      <td>...</td>\n",
       "      <td>...</td>\n",
       "      <td>...</td>\n",
       "      <td>...</td>\n",
       "    </tr>\n",
       "    <tr>\n",
       "      <th>9094</th>\n",
       "      <td>9144</td>\n",
       "      <td>4</td>\n",
       "      <td>50</td>\n",
       "      <td>70</td>\n",
       "      <td>1</td>\n",
       "    </tr>\n",
       "    <tr>\n",
       "      <th>9095</th>\n",
       "      <td>9145</td>\n",
       "      <td>18</td>\n",
       "      <td>30</td>\n",
       "      <td>70</td>\n",
       "      <td>1</td>\n",
       "    </tr>\n",
       "    <tr>\n",
       "      <th>9096</th>\n",
       "      <td>9147</td>\n",
       "      <td>53</td>\n",
       "      <td>16</td>\n",
       "      <td>70</td>\n",
       "      <td>1</td>\n",
       "    </tr>\n",
       "    <tr>\n",
       "      <th>9097</th>\n",
       "      <td>9148</td>\n",
       "      <td>33</td>\n",
       "      <td>13</td>\n",
       "      <td>70</td>\n",
       "      <td>1</td>\n",
       "    </tr>\n",
       "    <tr>\n",
       "      <th>9098</th>\n",
       "      <td>9149</td>\n",
       "      <td>27</td>\n",
       "      <td>24</td>\n",
       "      <td>70</td>\n",
       "      <td>1</td>\n",
       "    </tr>\n",
       "  </tbody>\n",
       "</table>\n",
       "<p>9099 rows × 5 columns</p>\n",
       "</div>"
      ],
      "text/plain": [
       "        id  number of wins  number of losses  age  gender\n",
       "0        0               1                50   10       0\n",
       "1        1               5                59   10       0\n",
       "2        2               2                49   10       0\n",
       "3        3               3                51   10       0\n",
       "4        4              22                28   10       0\n",
       "...    ...             ...               ...  ...     ...\n",
       "9094  9144               4                50   70       1\n",
       "9095  9145              18                30   70       1\n",
       "9096  9147              53                16   70       1\n",
       "9097  9148              33                13   70       1\n",
       "9098  9149              27                24   70       1\n",
       "\n",
       "[9099 rows x 5 columns]"
      ]
     },
     "execution_count": 6,
     "metadata": {},
     "output_type": "execute_result"
    }
   ],
   "source": [
    "counts_win = win_lose.groupby(['win'], sort=True).count().reset_index().rename(columns={'win':'id', 'lose':'number of wins'})[['id','number of wins']]\n",
    "counts_lose = win_lose.groupby(['lose'], sort=True).count().reset_index().rename(columns={'lose':'id', 'win':'number of losses'})[['id','number of losses']]\n",
    "counts_win_lose = pd.merge(left=counts_win, right=counts_lose, on='id')\n",
    "#counts['total comparisons'] = counts['count_left'] + counts['count_right']\n",
    "stats_win_lose = pd.merge(left=counts_win_lose, right=df[['age','gender']], left_on='id', right_index=True)\n",
    "stats_win_lose"
   ]
  },
  {
   "cell_type": "code",
   "execution_count": 71,
   "metadata": {},
   "outputs": [
    {
     "data": {
      "image/png": "[encoded data removed]",
      "text/plain": [
       "<Figure size 360x360 with 1 Axes>"
      ]
     },
     "metadata": {},
     "output_type": "display_data"
    }
   ],
   "source": [
    "sns.set(rc={'figure.figsize':(4/3*5.8,5.8)})\n",
    "sns.set_context(\"talk\") # larger font size\n",
    "sns.set_style('ticks')\n",
    "\n",
    "ax = sns.catplot(stats_win_lose, y='number of losses', x='gender', kind='violin')\n",
    "ax.set(ylim=(0,100))\n",
    "plt.show()"
   ]
  },
  {
   "cell_type": "code",
   "execution_count": 69,
   "metadata": {},
   "outputs": [
    {
     "data": {
      "image/png": "[encoded data removed]",
      "text/plain": [
       "<Figure size 360x360 with 1 Axes>"
      ]
     },
     "metadata": {
      "needs_background": "light"
     },
     "output_type": "display_data"
    }
   ],
   "source": [
    "sns.catplot(df, y='age', x='gender', kind='violin')\n",
    "plt.show()"
   ]
  },
  {
   "cell_type": "markdown",
   "metadata": {},
   "source": [
    "## Create a DiGraph to Subsample from"
   ]
  },
  {
   "cell_type": "code",
   "execution_count": 3,
   "metadata": {},
   "outputs": [
    {
     "data": {
      "text/plain": [
       "<networkx.classes.digraph.DiGraph at 0x7f749c7e8090>"
      ]
     },
     "execution_count": 3,
     "metadata": {},
     "output_type": "execute_result"
    }
   ],
   "source": [
    "import networkx as nx\n",
    "\n",
    "pairwise_df = pd.read_csv('./data/imdb-wiki/comparisons_cleaned.csv')\n",
    "df = pd.read_csv('./data/imdb-wiki/ground_truth_cleaned.csv', index_col=0)\n",
    "\n",
    "win_lose = pairwise_df[['left', 'right', 'label']].copy().rename(columns={'label': 'win'})\n",
    "win_lose.loc[win_lose.left == win_lose.win, 'lose'] = win_lose.right\n",
    "win_lose.loc[win_lose.right == win_lose.win, 'lose'] = win_lose.left\n",
    "win_lose['lose'] = win_lose['lose'].astype(int)\n",
    "\n",
    "G = nx.from_pandas_edgelist(win_lose, source='lose', target='win', create_using=nx.DiGraph)\n",
    "G"
   ]
  },
  {
   "cell_type": "code",
   "execution_count": 4,
   "metadata": {},
   "outputs": [
    {
     "data": {
      "text/plain": [
       "54"
      ]
     },
     "execution_count": 4,
     "metadata": {},
     "output_type": "execute_result"
    }
   ],
   "source": [
    "len(list(nx.strongly_connected_components(G)))  # the full dataset has one giant component and some isolates (strong connectivity)"
   ]
  },
  {
   "cell_type": "code",
   "execution_count": 5,
   "metadata": {},
   "outputs": [],
   "source": [
    "tmp_df = df[['age', 'gender']].rename(columns={'age': 'skill'})\n",
    "tmp_df['minority'] = abs(tmp_df['gender'] - 1)\n",
    "\n",
    "nx.set_node_attributes(G, tmp_df[['skill', 'minority']].to_dict(orient='index'))"
   ]
  },
  {
   "cell_type": "code",
   "execution_count": 6,
   "metadata": {},
   "outputs": [
    {
     "data": {
      "text/plain": [
       "NodeDataView({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}, data='skill')"
      ]
     },
     "execution_count": 6,
     "metadata": {},
     "output_type": "execute_result"
    }
   ],
   "source": [
    "G.nodes(data='skill')"
   ]
  },
  {
   "cell_type": "markdown",
   "metadata": {},
   "source": [
    "## Testing the Subsampling"
   ]
  },
  {
   "cell_type": "code",
   "execution_count": 41,
   "metadata": {},
   "outputs": [
    {
     "name": "stdout",
     "output_type": "stream",
     "text": [
      "selected 1830 nodes\n"
     ]
    },
    {
     "data": {
      "text/plain": [
       "True"
      ]
     },
     "execution_count": 41,
     "metadata": {},
     "output_type": "execute_result"
    }
   ],
   "source": [
    "random_nodes = df.sample(int(len(df)*0.2), random_state=42)['gender'].index\n",
    "print(f'selected {len(random_nodes)} nodes')\n",
    "H = G.subgraph(random_nodes)\n",
    "nx.is_weakly_connected(H)"
   ]
  },
  {
   "cell_type": "code",
   "execution_count": 13,
   "metadata": {},
   "outputs": [
    {
     "name": "stdout",
     "output_type": "stream",
     "text": [
      "selected 1372 nodes of gender 0\n",
      "selected 457 nodes of gender 1\n"
     ]
    },
    {
     "data": {
      "text/plain": [
       "True"
      ]
     },
     "execution_count": 13,
     "metadata": {},
     "output_type": "execute_result"
    }
   ],
   "source": [
    "random_nodes_0 = df[df.gender == 0].sample(int(len(df)*0.2*0.75), random_state=42)['gender'].index\n",
    "random_nodes_1 = df[df.gender == 1].sample(int(len(df)*0.2*0.25), random_state=42)['gender'].index\n",
    "print(f'selected {len(random_nodes_0)} nodes of gender 0')\n",
    "print(f'selected {len(random_nodes_1)} nodes of gender 1')\n",
    "H = G.subgraph(list(random_nodes_0) + list(random_nodes_1))\n",
    "nx.is_weakly_connected(H)"
   ]
  },
  {
   "cell_type": "code",
   "execution_count": 14,
   "metadata": {},
   "outputs": [],
   "source": [
    "rng = np.random.default_rng(seed=42)\n",
    "random_edges = rng.choice(H.edges, size=len(H)//2, axis=0)  # crucially, we ignore edges that have already been re-added (i.e., we don't exclude them from the sample)"
   ]
  },
  {
   "cell_type": "code",
   "execution_count": 28,
   "metadata": {},
   "outputs": [],
   "source": [
    "I = nx.DiGraph()\n",
    "I.add_nodes_from(G.nodes(data=True))"
   ]
  },
  {
   "cell_type": "code",
   "execution_count": 27,
   "metadata": {},
   "outputs": [
    {
     "data": {
      "text/plain": [
       "False"
      ]
     },
     "execution_count": 27,
     "metadata": {},
     "output_type": "execute_result"
    }
   ],
   "source": [
    "I.add_edges_from(list(map(tuple, random_edges)))\n",
    "nx.is_weakly_connected(I)"
   ]
  },
  {
   "cell_type": "markdown",
   "metadata": {},
   "source": [
    "## Subsample and Recover a Ranking"
   ]
  },
  {
   "cell_type": "code",
   "execution_count": 7,
   "metadata": {},
   "outputs": [],
   "source": [
    "from fairpair import *"
   ]
  },
  {
   "cell_type": "code",
   "execution_count": 8,
   "metadata": {},
   "outputs": [],
   "source": [
    "FPG = FairPairGraph()\n",
    "FPG.add_nodes_from(G.nodes(data=True))"
   ]
  },
  {
   "cell_type": "markdown",
   "metadata": {},
   "source": [
    "### Random Subsampling"
   ]
  },
  {
   "cell_type": "code",
   "execution_count": 8,
   "metadata": {},
   "outputs": [
    {
     "name": "stdout",
     "output_type": "stream",
     "text": [
      "iteration 10: not weakly connected\n",
      "iteration 20: not weakly connected\n",
      "iteration 30: not weakly connected\n",
      "iteration 40: not weakly connected\n",
      "iteration 50: not weakly connected\n",
      "iteration 60: not weakly connected\n",
      "iteration 70: not weakly connected\n",
      "iteration 80: weakly connected\n"
     ]
    }
   ],
   "source": [
    "# weak connectivity\n",
    "\n",
    "rng = np.random.default_rng()\n",
    "FPG_test = FPG.copy()\n",
    "\n",
    "for i in range(100):\n",
    "    # sample 10 times before evaluating again\n",
    "    for j in range(10):\n",
    "        random_nodes = df.sample(int(len(df)*0.2))['gender'].index\n",
    "        H = G.subgraph(random_nodes)\n",
    "        random_edges = rng.choice(H.edges, size=len(H)//2, axis=0)\n",
    "        FPG_test.add_edges_from(list(map(tuple, random_edges)))\n",
    "    print(f\"iteration {(i+1)*(j+1)}: {'not ' if not nx.is_weakly_connected(FPG_test) else ''}weakly connected\")\n",
    "    if nx.is_weakly_connected(FPG_test): break"
   ]
  },
  {
   "cell_type": "code",
   "execution_count": null,
   "metadata": {},
   "outputs": [],
   "source": [
    "# testing the random subsampling on a single run\n",
    "\n",
    "rng = np.random.default_rng()\n",
    "FPG_rand = FPG.copy()\n",
    "connected = False\n",
    "results = []\n",
    "ranker = RankRecovery(FPG_rand)\n",
    "trial = 0\n",
    "\n",
    "base_scores = {node: score for node, score in FPG.nodes(data='skill')}\n",
    "minority_nodes = list(FPG_rand.minority.nodes)\n",
    "majority_nodes = list(FPG_rand.majority.nodes)\n",
    "\n",
    "for i in range(100):\n",
    "    # sample 10 times before evaluating again\n",
    "    for j in range(10):\n",
    "        random_nodes = df.sample(int(len(df)*0.2))['gender'].index\n",
    "        H = G.subgraph(random_nodes)\n",
    "        random_edges = rng.choice(H.edges, size=len(H)//2, axis=0)\n",
    "        FPG_rand.add_edges_from(list(map(tuple, random_edges)))\n",
    "    \n",
    "    ranking, other_nodes = ranker.apply()\n",
    "    \n",
    "    if nx.is_weakly_connected(FPG_rand):\n",
    "        if not connected:\n",
    "            print(f'Weakly connected after {(i+1)*10} iterations.')\n",
    "            connected = True\n",
    "        tau = weighted_tau_nodes(base_scores, ranking, subgraph_nodes=majority_nodes, complementary_nodes=minority_nodes)\n",
    "        results.append((trial, i*10, tau, 'tau', 'Privileged'))\n",
    "        tau = weighted_tau_nodes(base_scores, ranking, subgraph_nodes=minority_nodes, complementary_nodes=majority_nodes)\n",
    "        results.append((trial, i*10, tau, 'tau', 'Unprivileged'))\n",
    "        exp = exposure_nodes(ranking, subgraph_nodes=majority_nodes)\n",
    "        results.append((trial, i*10, exp, 'exposure', 'Privileged'))\n",
    "        exp = exposure_nodes(ranking, subgraph_nodes=minority_nodes)\n",
    "        results.append((trial, i*10, exp, 'exposure', 'Unprivileged'))\n",
    "        #tau = weighted_tau_separate(FPG_rand, ranking, FPG_rand.majority)\n",
    "        #accuracy.append((trial, i*10, tau[0], 'Privileged within-group'))\n",
    "        #accuracy.append((trial, i*10, tau[1], 'Between groups'))\n",
    "        #tau = weighted_tau_separate(FPG_rand, ranking, FPG_rand.minority, calc_between=False)\n",
    "        #accuracy.append((trial, i*10, tau[0], 'Unprivileged within-group'))\n",
    "        \n",
    "        print(f'Evaluated {(i+1)*10} iterations.')"
   ]
  },
  {
   "cell_type": "code",
   "execution_count": 10,
   "metadata": {},
   "outputs": [
    {
     "data": {
      "text/html": [
       "<div>\n",
       "<style scoped>\n",
       "    .dataframe tbody tr th:only-of-type {\n",
       "        vertical-align: middle;\n",
       "    }\n",
       "\n",
       "    .dataframe tbody tr th {\n",
       "        vertical-align: top;\n",
       "    }\n",
       "\n",
       "    .dataframe thead th {\n",
       "        text-align: right;\n",
       "    }\n",
       "</style>\n",
       "<table border=\"1\" class=\"dataframe\">\n",
       "  <thead>\n",
       "    <tr style=\"text-align: right;\">\n",
       "      <th></th>\n",
       "      <th>trial</th>\n",
       "      <th>iteration</th>\n",
       "      <th>value</th>\n",
       "      <th>metric</th>\n",
       "      <th>group</th>\n",
       "    </tr>\n",
       "  </thead>\n",
       "  <tbody>\n",
       "    <tr>\n",
       "      <th>0</th>\n",
       "      <td>0</td>\n",
       "      <td>70</td>\n",
       "      <td>0.350575</td>\n",
       "      <td>tau</td>\n",
       "      <td>Privileged</td>\n",
       "    </tr>\n",
       "    <tr>\n",
       "      <th>1</th>\n",
       "      <td>0</td>\n",
       "      <td>70</td>\n",
       "      <td>0.351035</td>\n",
       "      <td>tau</td>\n",
       "      <td>Unprivileged</td>\n",
       "    </tr>\n",
       "    <tr>\n",
       "      <th>2</th>\n",
       "      <td>0</td>\n",
       "      <td>70</td>\n",
       "      <td>0.088686</td>\n",
       "      <td>exposure</td>\n",
       "      <td>Privileged</td>\n",
       "    </tr>\n",
       "    <tr>\n",
       "      <th>3</th>\n",
       "      <td>0</td>\n",
       "      <td>70</td>\n",
       "      <td>0.086052</td>\n",
       "      <td>exposure</td>\n",
       "      <td>Unprivileged</td>\n",
       "    </tr>\n",
       "    <tr>\n",
       "      <th>4</th>\n",
       "      <td>0</td>\n",
       "      <td>80</td>\n",
       "      <td>0.345785</td>\n",
       "      <td>tau</td>\n",
       "      <td>Privileged</td>\n",
       "    </tr>\n",
       "    <tr>\n",
       "      <th>...</th>\n",
       "      <td>...</td>\n",
       "      <td>...</td>\n",
       "      <td>...</td>\n",
       "      <td>...</td>\n",
       "      <td>...</td>\n",
       "    </tr>\n",
       "    <tr>\n",
       "      <th>167</th>\n",
       "      <td>0</td>\n",
       "      <td>480</td>\n",
       "      <td>0.085792</td>\n",
       "      <td>exposure</td>\n",
       "      <td>Unprivileged</td>\n",
       "    </tr>\n",
       "    <tr>\n",
       "      <th>168</th>\n",
       "      <td>0</td>\n",
       "      <td>490</td>\n",
       "      <td>0.316683</td>\n",
       "      <td>tau</td>\n",
       "      <td>Privileged</td>\n",
       "    </tr>\n",
       "    <tr>\n",
       "      <th>169</th>\n",
       "      <td>0</td>\n",
       "      <td>490</td>\n",
       "      <td>0.316317</td>\n",
       "      <td>tau</td>\n",
       "      <td>Unprivileged</td>\n",
       "    </tr>\n",
       "    <tr>\n",
       "      <th>170</th>\n",
       "      <td>0</td>\n",
       "      <td>490</td>\n",
       "      <td>0.088932</td>\n",
       "      <td>exposure</td>\n",
       "      <td>Privileged</td>\n",
       "    </tr>\n",
       "    <tr>\n",
       "      <th>171</th>\n",
       "      <td>0</td>\n",
       "      <td>490</td>\n",
       "      <td>0.085806</td>\n",
       "      <td>exposure</td>\n",
       "      <td>Unprivileged</td>\n",
       "    </tr>\n",
       "  </tbody>\n",
       "</table>\n",
       "<p>172 rows × 5 columns</p>\n",
       "</div>"
      ],
      "text/plain": [
       "     trial  iteration     value    metric         group\n",
       "0        0         70  0.350575       tau    Privileged\n",
       "1        0         70  0.351035       tau  Unprivileged\n",
       "2        0         70  0.088686  exposure    Privileged\n",
       "3        0         70  0.086052  exposure  Unprivileged\n",
       "4        0         80  0.345785       tau    Privileged\n",
       "..     ...        ...       ...       ...           ...\n",
       "167      0        480  0.085792  exposure  Unprivileged\n",
       "168      0        490  0.316683       tau    Privileged\n",
       "169      0        490  0.316317       tau  Unprivileged\n",
       "170      0        490  0.088932  exposure    Privileged\n",
       "171      0        490  0.085806  exposure  Unprivileged\n",
       "\n",
       "[172 rows x 5 columns]"
      ]
     },
     "execution_count": 10,
     "metadata": {},
     "output_type": "execute_result"
    }
   ],
   "source": [
    "results_df = pd.DataFrame(results, columns=['trial', 'iteration', 'value', 'metric', 'group'])\n",
    "results_df"
   ]
  },
  {
   "cell_type": "code",
   "execution_count": 19,
   "metadata": {},
   "outputs": [
    {
     "data": {
      "image/png": "[encoded data removed]",
      "text/plain": [
       "<Figure size 556.8x417.6 with 1 Axes>"
      ]
     },
     "metadata": {},
     "output_type": "display_data"
    }
   ],
   "source": [
    "sns.set(rc={'figure.figsize':(4/3*5.8,5.8)})\n",
    "sns.set_context(\"talk\") # larger font size\n",
    "sns.set_style('ticks')\n",
    "\n",
    "tmp_df = results_df[results_df.metric == 'exposure'].copy()\n",
    "tmp_df['Exposure'] = tmp_df['value']\n",
    "ax = sns.lineplot(tmp_df, x='iteration', y='Exposure', hue='group', hue_order=['Privileged', 'Unprivileged'])\n",
    "ax.set(ylim=(0.08,0.09), xlim=(0,None))\n",
    "sns.despine()"
   ]
  },
  {
   "cell_type": "code",
   "execution_count": 22,
   "metadata": {},
   "outputs": [
    {
     "name": "stdout",
     "output_type": "stream",
     "text": [
      "Orginal graph: 250249 edges\n",
      "Subsampled graph after 500 iterations: 208628 edges\n",
      "ratio: 83.36816530735388 %\n"
     ]
    }
   ],
   "source": [
    "print('Orginal graph:', G.number_of_edges(), 'edges')\n",
    "print('Subsampled graph after 500 iterations:', FPG_rand.number_of_edges(), 'edges')\n",
    "print('ratio:', FPG_rand.number_of_edges()/G.number_of_edges()*100, '%')"
   ]
  },
  {
   "cell_type": "code",
   "execution_count": null,
   "metadata": {},
   "outputs": [],
   "source": []
  }
 ],
 "metadata": {
  "kernelspec": {
   "display_name": "GNNRank",
   "language": "python",
   "name": "python3"
  },
  "language_info": {
   "codemirror_mode": {
    "name": "ipython",
    "version": 3
   },
   "file_extension": ".py",
   "mimetype": "text/x-python",
   "name": "python",
   "nbconvert_exporter": "python",
   "pygments_lexer": "ipython3",
   "version": "3.7.11"
  }
 },
 "nbformat": 4,
 "nbformat_minor": 2
}
