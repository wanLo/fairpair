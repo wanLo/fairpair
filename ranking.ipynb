{
 "cells": [
  {
   "cell_type": "code",
   "execution_count": 73,
   "metadata": {},
   "outputs": [],
   "source": [
    "from fairpair import *"
   ]
  },
  {
   "cell_type": "code",
   "execution_count": 74,
   "metadata": {},
   "outputs": [],
   "source": [
    "G = FairPairGraph()\n",
    "G.generate_groups(15, 5)\n",
    "G.group_assign_scores(nodes=G.majority_nodes, distr=Distributions.normal_distr)\n",
    "G.group_assign_scores(nodes=G.minority_nodes, distr=Distributions.normal_distr, loc=0.3, scale=0.2) # give a disadvantage to the minority"
   ]
  },
  {
   "cell_type": "code",
   "execution_count": 75,
   "metadata": {},
   "outputs": [],
   "source": [
    "sampler = RandomSampling(G, warn=False)\n",
    "sampler.apply(iter=100, k=1)"
   ]
  },
  {
   "cell_type": "code",
   "execution_count": 76,
   "metadata": {},
   "outputs": [],
   "source": [
    "ranker = RankRecovery(G)\n",
    "ranking, other_nodes = ranker.apply(rank_using=davidScore)"
   ]
  },
  {
   "cell_type": "code",
   "execution_count": 77,
   "metadata": {},
   "outputs": [
    {
     "name": "stdout",
     "output_type": "stream",
     "text": [
      "7 0.8716839026684216 55.023809523809504\n",
      "11 0.5661819365713622 40.511904761904745\n",
      "9 0.8772139476639081 35.61666666666666\n",
      "8 0.902759297747564 31.6\n",
      "6 0.37369173125674615 20.58333333333333\n",
      "12 0.33122197623272615 11.983333333333327\n",
      "1 0.5099782834803557 10.55476190476191\n",
      "0 0.46282081472451864 5.054761904761911\n",
      "14 0.5059497507929962 -3.4547619047619094\n",
      "10 0.42759305169560163 -7.050000000000004\n",
      "13 0.27318059368024644 -20.050000000000004\n",
      "4 0.15448313651673723 -31.08333333333333\n",
      "3 0.2208263190211276 -41.35714285714286\n",
      "5 0.38040555177875346 -45.91666666666666\n",
      "2 0.11219577698943334 -62.01666666666668\n"
     ]
    }
   ],
   "source": [
    "ranker._print_with_score(ranking)"
   ]
  },
  {
   "cell_type": "code",
   "execution_count": null,
   "metadata": {},
   "outputs": [],
   "source": []
  }
 ],
 "metadata": {
  "kernelspec": {
   "display_name": "Python 3",
   "language": "python",
   "name": "python3"
  },
  "language_info": {
   "codemirror_mode": {
    "name": "ipython",
    "version": 3
   },
   "file_extension": ".py",
   "mimetype": "text/x-python",
   "name": "python",
   "nbconvert_exporter": "python",
   "pygments_lexer": "ipython3",
   "version": "3.11.3"
  },
  "orig_nbformat": 4
 },
 "nbformat": 4,
 "nbformat_minor": 2
}
