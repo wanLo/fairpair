{
 "cells": [
  {
   "cell_type": "code",
   "execution_count": 29,
   "metadata": {},
   "outputs": [],
   "source": [
    "from fairpair import FairGraph\n",
    "import numpy as np\n",
    "import networkx as nx"
   ]
  },
  {
   "cell_type": "code",
   "execution_count": 30,
   "metadata": {},
   "outputs": [],
   "source": [
    "G = FairGraph()"
   ]
  },
  {
   "cell_type": "code",
   "execution_count": 32,
   "metadata": {},
   "outputs": [],
   "source": [
    "#G.generate_groups(50, 20)\n",
    "G.add_nodes_from(np.arange(50))\n",
    "G.label_minority(20, random=True)"
   ]
  },
  {
   "cell_type": "code",
   "execution_count": 33,
   "metadata": {},
   "outputs": [
    {
     "data": {
      "text/plain": [
       "NodeDataView({0: {'Minority': False}, 1: {'Minority': False}, 2: {'Minority': False}, 3: {'Minority': True}, 4: {'Minority': True}, 5: {'Minority': False}, 6: {'Minority': False}, 7: {'Minority': False}, 8: {'Minority': True}, 9: {'Minority': False}, 10: {'Minority': False}, 11: {'Minority': False}, 12: {'Minority': False}, 13: {'Minority': False}, 14: {'Minority': True}, 15: {'Minority': False}, 16: {'Minority': True}, 17: {'Minority': False}, 18: {'Minority': False}, 19: {'Minority': True}, 20: {'Minority': False}, 21: {'Minority': False}, 22: {'Minority': True}, 23: {'Minority': True}, 24: {'Minority': True}, 25: {'Minority': True}, 26: {'Minority': False}, 27: {'Minority': True}, 28: {'Minority': True}, 29: {'Minority': False}, 30: {'Minority': True}, 31: {'Minority': True}, 32: {'Minority': False}, 33: {'Minority': True}, 34: {'Minority': True}, 35: {'Minority': True}, 36: {'Minority': False}, 37: {'Minority': False}, 38: {'Minority': True}, 39: {'Minority': False}, 40: {'Minority': False}, 41: {'Minority': False}, 42: {'Minority': True}, 43: {'Minority': False}, 44: {'Minority': False}, 45: {'Minority': False}, 46: {'Minority': False}, 47: {'Minority': False}, 48: {'Minority': False}, 49: {'Minority': True}})"
      ]
     },
     "execution_count": 33,
     "metadata": {},
     "output_type": "execute_result"
    }
   ],
   "source": [
    "G.nodes(data=True)"
   ]
  },
  {
   "cell_type": "code",
   "execution_count": 34,
   "metadata": {},
   "outputs": [
    {
     "data": {
      "text/plain": [
       "<fairpair.fairgraph.FairGraph at 0x10a9e5690>"
      ]
     },
     "execution_count": 34,
     "metadata": {},
     "output_type": "execute_result"
    }
   ],
   "source": [
    "G.minority"
   ]
  },
  {
   "cell_type": "code",
   "execution_count": 35,
   "metadata": {},
   "outputs": [
    {
     "data": {
      "text/plain": [
       "[3, 4, 8, 14, 16, 19, 22, 23, 24, 25, 27, 28, 30, 31, 33, 34, 35, 38, 42, 49]"
      ]
     },
     "execution_count": 35,
     "metadata": {},
     "output_type": "execute_result"
    }
   ],
   "source": [
    "G.minority_nodes"
   ]
  }
 ],
 "metadata": {
  "kernelspec": {
   "display_name": "Python 3",
   "language": "python",
   "name": "python3"
  },
  "language_info": {
   "codemirror_mode": {
    "name": "ipython",
    "version": 3
   },
   "file_extension": ".py",
   "mimetype": "text/x-python",
   "name": "python",
   "nbconvert_exporter": "python",
   "pygments_lexer": "ipython3",
   "version": "3.11.3"
  },
  "orig_nbformat": 4
 },
 "nbformat": 4,
 "nbformat_minor": 2
}
